{
  "nbformat": 4,
  "nbformat_minor": 0,
  "metadata": {
    "colab": {
      "name": "CovidSenti_Project.ipynb",
      "provenance": [],
      "authorship_tag": "ABX9TyOehXAGIKyPFvWl3N3HPrMl",
      "include_colab_link": true
    },
    "kernelspec": {
      "name": "python3",
      "display_name": "Python 3"
    },
    "language_info": {
      "name": "python"
    }
  },
  "cells": [
    {
      "cell_type": "markdown",
      "metadata": {
        "id": "view-in-github",
        "colab_type": "text"
      },
      "source": [
        "<a href=\"https://colab.research.google.com/github/Anakha-s/Project-1/blob/main/CovidSenti_Project.ipynb\" target=\"_parent\"><img src=\"https://colab.research.google.com/assets/colab-badge.svg\" alt=\"Open In Colab\"/></a>"
      ]
    },
    {
      "cell_type": "code",
      "execution_count": null,
      "metadata": {
        "id": "Ck4_jyTB82Q2",
        "colab": {
          "base_uri": "https://localhost:8080/"
        },
        "outputId": "43ae6a27-9561-4723-bf9b-91bf9db00cd8"
      },
      "outputs": [
        {
          "output_type": "stream",
          "name": "stdout",
          "text": [
            "[nltk_data] Downloading package punkt to /root/nltk_data...\n",
            "[nltk_data]   Unzipping tokenizers/punkt.zip.\n",
            "[nltk_data] Downloading package wordnet to /root/nltk_data...\n",
            "[nltk_data]   Unzipping corpora/wordnet.zip.\n",
            "[nltk_data] Downloading package averaged_perceptron_tagger to\n",
            "[nltk_data]     /root/nltk_data...\n",
            "[nltk_data]   Unzipping taggers/averaged_perceptron_tagger.zip.\n",
            "[nltk_data] Downloading package stopwords to /root/nltk_data...\n",
            "[nltk_data]   Unzipping corpora/stopwords.zip.\n"
          ]
        }
      ],
      "source": [
        "## EDA Pkgs\n",
        "import pandas as pd\n",
        "#Data Viz Pkg\n",
        "import matplotlib.pyplot as plt\n",
        "import seaborn as sns\n",
        "from textblob import TextBlob\n",
        "import numpy as np # linear algebra\n",
        "from nltk.tokenize import word_tokenize\n",
        "from nltk import pos_tag\n",
        "import nltk\n",
        "nltk.download('punkt')\n",
        "nltk.download('wordnet')\n",
        "nltk.download('averaged_perceptron_tagger')\n",
        "nltk.download('stopwords')\n",
        "from nltk.stem import WordNetLemmatizer,PorterStemmer\n",
        "from sklearn.preprocessing import LabelEncoder\n",
        "from collections import defaultdict\n",
        "from nltk.corpus import wordnet as wn\n",
        "from sklearn.feature_extraction.text import TfidfVectorizer\n",
        "from sklearn import model_selection, naive_bayes, svm\n",
        "from sklearn.metrics import accuracy_score\n",
        "from nltk.corpus import stopwords\n",
        "from sklearn.metrics import confusion_matrix\n",
        "from sklearn.metrics import classification_report"
      ]
    },
    {
      "cell_type": "code",
      "source": [
        ""
      ],
      "metadata": {
        "id": "usTTXwCt_G_I"
      },
      "execution_count": null,
      "outputs": []
    },
    {
      "cell_type": "code",
      "source": [
        "# Load Dataset\n",
        "df = pd.read_csv(\"covid19_tweets.csv\")\n",
        "# Preview\n",
        "df.head(3)"
      ],
      "metadata": {
        "id": "ZMcl5vU9_Hdf",
        "colab": {
          "base_uri": "https://localhost:8080/",
          "height": 363
        },
        "outputId": "fbfdfb51-2e0b-4924-a892-ca2428d53339"
      },
      "execution_count": null,
      "outputs": [
        {
          "output_type": "execute_result",
          "data": {
            "text/html": [
              "\n",
              "  <div id=\"df-9011c003-87c5-4b99-b099-7aa6e60c9b47\">\n",
              "    <div class=\"colab-df-container\">\n",
              "      <div>\n",
              "<style scoped>\n",
              "    .dataframe tbody tr th:only-of-type {\n",
              "        vertical-align: middle;\n",
              "    }\n",
              "\n",
              "    .dataframe tbody tr th {\n",
              "        vertical-align: top;\n",
              "    }\n",
              "\n",
              "    .dataframe thead th {\n",
              "        text-align: right;\n",
              "    }\n",
              "</style>\n",
              "<table border=\"1\" class=\"dataframe\">\n",
              "  <thead>\n",
              "    <tr style=\"text-align: right;\">\n",
              "      <th></th>\n",
              "      <th>user_name</th>\n",
              "      <th>user_location</th>\n",
              "      <th>user_description</th>\n",
              "      <th>user_created</th>\n",
              "      <th>user_followers</th>\n",
              "      <th>user_friends</th>\n",
              "      <th>user_favourites</th>\n",
              "      <th>user_verified</th>\n",
              "      <th>date</th>\n",
              "      <th>text</th>\n",
              "      <th>hashtags</th>\n",
              "      <th>source</th>\n",
              "      <th>is_retweet</th>\n",
              "    </tr>\n",
              "  </thead>\n",
              "  <tbody>\n",
              "    <tr>\n",
              "      <th>0</th>\n",
              "      <td>ᏉᎥ☻լꂅϮ</td>\n",
              "      <td>astroworld</td>\n",
              "      <td>wednesday addams as a disney princess keepin i...</td>\n",
              "      <td>2017-05-26 05:46:42</td>\n",
              "      <td>624</td>\n",
              "      <td>950</td>\n",
              "      <td>18775</td>\n",
              "      <td>False</td>\n",
              "      <td>2020-07-25 12:27:21</td>\n",
              "      <td>If I smelled the scent of hand sanitizers toda...</td>\n",
              "      <td>NaN</td>\n",
              "      <td>Twitter for iPhone</td>\n",
              "      <td>False</td>\n",
              "    </tr>\n",
              "    <tr>\n",
              "      <th>1</th>\n",
              "      <td>Tom Basile 🇺🇸</td>\n",
              "      <td>New York, NY</td>\n",
              "      <td>Husband, Father, Columnist &amp; Commentator. Auth...</td>\n",
              "      <td>2009-04-16 20:06:23</td>\n",
              "      <td>2253</td>\n",
              "      <td>1677</td>\n",
              "      <td>24</td>\n",
              "      <td>True</td>\n",
              "      <td>2020-07-25 12:27:17</td>\n",
              "      <td>Hey @Yankees @YankeesPR and @MLB - wouldn't it...</td>\n",
              "      <td>NaN</td>\n",
              "      <td>Twitter for Android</td>\n",
              "      <td>False</td>\n",
              "    </tr>\n",
              "    <tr>\n",
              "      <th>2</th>\n",
              "      <td>Time4fisticuffs</td>\n",
              "      <td>Pewee Valley, KY</td>\n",
              "      <td>#Christian #Catholic #Conservative #Reagan #Re...</td>\n",
              "      <td>2009-02-28 18:57:41</td>\n",
              "      <td>9275</td>\n",
              "      <td>9525</td>\n",
              "      <td>7254</td>\n",
              "      <td>False</td>\n",
              "      <td>2020-07-25 12:27:14</td>\n",
              "      <td>@diane3443 @wdunlap @realDonaldTrump Trump nev...</td>\n",
              "      <td>['COVID19']</td>\n",
              "      <td>Twitter for Android</td>\n",
              "      <td>False</td>\n",
              "    </tr>\n",
              "  </tbody>\n",
              "</table>\n",
              "</div>\n",
              "      <button class=\"colab-df-convert\" onclick=\"convertToInteractive('df-9011c003-87c5-4b99-b099-7aa6e60c9b47')\"\n",
              "              title=\"Convert this dataframe to an interactive table.\"\n",
              "              style=\"display:none;\">\n",
              "        \n",
              "  <svg xmlns=\"http://www.w3.org/2000/svg\" height=\"24px\"viewBox=\"0 0 24 24\"\n",
              "       width=\"24px\">\n",
              "    <path d=\"M0 0h24v24H0V0z\" fill=\"none\"/>\n",
              "    <path d=\"M18.56 5.44l.94 2.06.94-2.06 2.06-.94-2.06-.94-.94-2.06-.94 2.06-2.06.94zm-11 1L8.5 8.5l.94-2.06 2.06-.94-2.06-.94L8.5 2.5l-.94 2.06-2.06.94zm10 10l.94 2.06.94-2.06 2.06-.94-2.06-.94-.94-2.06-.94 2.06-2.06.94z\"/><path d=\"M17.41 7.96l-1.37-1.37c-.4-.4-.92-.59-1.43-.59-.52 0-1.04.2-1.43.59L10.3 9.45l-7.72 7.72c-.78.78-.78 2.05 0 2.83L4 21.41c.39.39.9.59 1.41.59.51 0 1.02-.2 1.41-.59l7.78-7.78 2.81-2.81c.8-.78.8-2.07 0-2.86zM5.41 20L4 18.59l7.72-7.72 1.47 1.35L5.41 20z\"/>\n",
              "  </svg>\n",
              "      </button>\n",
              "      \n",
              "  <style>\n",
              "    .colab-df-container {\n",
              "      display:flex;\n",
              "      flex-wrap:wrap;\n",
              "      gap: 12px;\n",
              "    }\n",
              "\n",
              "    .colab-df-convert {\n",
              "      background-color: #E8F0FE;\n",
              "      border: none;\n",
              "      border-radius: 50%;\n",
              "      cursor: pointer;\n",
              "      display: none;\n",
              "      fill: #1967D2;\n",
              "      height: 32px;\n",
              "      padding: 0 0 0 0;\n",
              "      width: 32px;\n",
              "    }\n",
              "\n",
              "    .colab-df-convert:hover {\n",
              "      background-color: #E2EBFA;\n",
              "      box-shadow: 0px 1px 2px rgba(60, 64, 67, 0.3), 0px 1px 3px 1px rgba(60, 64, 67, 0.15);\n",
              "      fill: #174EA6;\n",
              "    }\n",
              "\n",
              "    [theme=dark] .colab-df-convert {\n",
              "      background-color: #3B4455;\n",
              "      fill: #D2E3FC;\n",
              "    }\n",
              "\n",
              "    [theme=dark] .colab-df-convert:hover {\n",
              "      background-color: #434B5C;\n",
              "      box-shadow: 0px 1px 3px 1px rgba(0, 0, 0, 0.15);\n",
              "      filter: drop-shadow(0px 1px 2px rgba(0, 0, 0, 0.3));\n",
              "      fill: #FFFFFF;\n",
              "    }\n",
              "  </style>\n",
              "\n",
              "      <script>\n",
              "        const buttonEl =\n",
              "          document.querySelector('#df-9011c003-87c5-4b99-b099-7aa6e60c9b47 button.colab-df-convert');\n",
              "        buttonEl.style.display =\n",
              "          google.colab.kernel.accessAllowed ? 'block' : 'none';\n",
              "\n",
              "        async function convertToInteractive(key) {\n",
              "          const element = document.querySelector('#df-9011c003-87c5-4b99-b099-7aa6e60c9b47');\n",
              "          const dataTable =\n",
              "            await google.colab.kernel.invokeFunction('convertToInteractive',\n",
              "                                                     [key], {});\n",
              "          if (!dataTable) return;\n",
              "\n",
              "          const docLinkHtml = 'Like what you see? Visit the ' +\n",
              "            '<a target=\"_blank\" href=https://colab.research.google.com/notebooks/data_table.ipynb>data table notebook</a>'\n",
              "            + ' to learn more about interactive tables.';\n",
              "          element.innerHTML = '';\n",
              "          dataTable['output_type'] = 'display_data';\n",
              "          await google.colab.output.renderOutput(dataTable, element);\n",
              "          const docLink = document.createElement('div');\n",
              "          docLink.innerHTML = docLinkHtml;\n",
              "          element.appendChild(docLink);\n",
              "        }\n",
              "      </script>\n",
              "    </div>\n",
              "  </div>\n",
              "  "
            ],
            "text/plain": [
              "         user_name     user_location  ...               source is_retweet\n",
              "0           ᏉᎥ☻լꂅϮ        astroworld  ...   Twitter for iPhone      False\n",
              "1    Tom Basile 🇺🇸      New York, NY  ...  Twitter for Android      False\n",
              "2  Time4fisticuffs  Pewee Valley, KY  ...  Twitter for Android      False\n",
              "\n",
              "[3 rows x 13 columns]"
            ]
          },
          "metadata": {},
          "execution_count": 2
        }
      ]
    },
    {
      "cell_type": "code",
      "source": [
        "!pip install neattext\n",
        "# Load Text Cleaning Package\n",
        "import neattext.functions as nfx"
      ],
      "metadata": {
        "id": "-PH7pwkc_NDP",
        "colab": {
          "base_uri": "https://localhost:8080/"
        },
        "outputId": "1e872102-4f2c-4959-ec41-1781ca800d9f"
      },
      "execution_count": null,
      "outputs": [
        {
          "output_type": "stream",
          "name": "stdout",
          "text": [
            "Collecting neattext\n",
            "  Downloading neattext-0.1.2-py3-none-any.whl (114 kB)\n",
            "\u001b[?25l\r\u001b[K     |██▉                             | 10 kB 18.7 MB/s eta 0:00:01\r\u001b[K     |█████▊                          | 20 kB 20.9 MB/s eta 0:00:01\r\u001b[K     |████████▋                       | 30 kB 17.7 MB/s eta 0:00:01\r\u001b[K     |███████████▌                    | 40 kB 7.1 MB/s eta 0:00:01\r\u001b[K     |██████████████▍                 | 51 kB 5.7 MB/s eta 0:00:01\r\u001b[K     |█████████████████▏              | 61 kB 6.7 MB/s eta 0:00:01\r\u001b[K     |████████████████████            | 71 kB 7.3 MB/s eta 0:00:01\r\u001b[K     |███████████████████████         | 81 kB 6.2 MB/s eta 0:00:01\r\u001b[K     |█████████████████████████▉      | 92 kB 6.8 MB/s eta 0:00:01\r\u001b[K     |████████████████████████████▊   | 102 kB 7.5 MB/s eta 0:00:01\r\u001b[K     |███████████████████████████████▋| 112 kB 7.5 MB/s eta 0:00:01\r\u001b[K     |████████████████████████████████| 114 kB 7.5 MB/s \n",
            "\u001b[?25hInstalling collected packages: neattext\n",
            "Successfully installed neattext-0.1.2\n"
          ]
        }
      ]
    },
    {
      "cell_type": "code",
      "source": [
        "# Cleaning Text\n",
        "df['clean_tweet'] = df['text'].apply(nfx.remove_hashtags)\n",
        "df['clean_tweet'] = df['clean_tweet'].apply(lambda x: nfx.remove_userhandles(x))\n",
        "# Cleaning Text: Multiple WhiteSpaces\n",
        "df['clean_tweet'] = df['clean_tweet'].apply(nfx.remove_multiple_spaces)\n",
        "# Cleaning Text : Remove urls\n",
        "df['clean_tweet'] = df['clean_tweet'].apply(nfx.remove_urls)\n",
        "# Cleaning Text: Punctuations\n",
        "df['clean_tweet'] = df['clean_tweet'].apply(nfx.remove_puncts)\n",
        "#Remove blank rows if any.\n",
        "df['clean_tweet'] .dropna(inplace=True)\n",
        "# Change all the text to lower case.\n",
        "df['clean_tweet']  = [entry.lower() for entry in df['clean_tweet'] ]\n",
        "df[['text','clean_tweet']]"
      ],
      "metadata": {
        "id": "imWBLxuB_Qm2",
        "colab": {
          "base_uri": "https://localhost:8080/",
          "height": 423
        },
        "outputId": "fd421b06-058e-4364-fece-312b42590afe"
      },
      "execution_count": null,
      "outputs": [
        {
          "output_type": "execute_result",
          "data": {
            "text/html": [
              "\n",
              "  <div id=\"df-e59d31aa-9ecf-4f27-9ffd-b3bd59a5945b\">\n",
              "    <div class=\"colab-df-container\">\n",
              "      <div>\n",
              "<style scoped>\n",
              "    .dataframe tbody tr th:only-of-type {\n",
              "        vertical-align: middle;\n",
              "    }\n",
              "\n",
              "    .dataframe tbody tr th {\n",
              "        vertical-align: top;\n",
              "    }\n",
              "\n",
              "    .dataframe thead th {\n",
              "        text-align: right;\n",
              "    }\n",
              "</style>\n",
              "<table border=\"1\" class=\"dataframe\">\n",
              "  <thead>\n",
              "    <tr style=\"text-align: right;\">\n",
              "      <th></th>\n",
              "      <th>text</th>\n",
              "      <th>clean_tweet</th>\n",
              "    </tr>\n",
              "  </thead>\n",
              "  <tbody>\n",
              "    <tr>\n",
              "      <th>0</th>\n",
              "      <td>If I smelled the scent of hand sanitizers toda...</td>\n",
              "      <td>if i smelled the scent of hand sanitizers toda...</td>\n",
              "    </tr>\n",
              "    <tr>\n",
              "      <th>1</th>\n",
              "      <td>Hey @Yankees @YankeesPR and @MLB - wouldn't it...</td>\n",
              "      <td>hey and  wouldnt it have made more sense to ha...</td>\n",
              "    </tr>\n",
              "    <tr>\n",
              "      <th>2</th>\n",
              "      <td>@diane3443 @wdunlap @realDonaldTrump Trump nev...</td>\n",
              "      <td>trump never once claimed was a hoax we all cl...</td>\n",
              "    </tr>\n",
              "    <tr>\n",
              "      <th>3</th>\n",
              "      <td>@brookbanktv The one gift #COVID19 has give me...</td>\n",
              "      <td>the one gift has give me is an appreciation f...</td>\n",
              "    </tr>\n",
              "    <tr>\n",
              "      <th>4</th>\n",
              "      <td>25 July : Media Bulletin on Novel #CoronaVirus...</td>\n",
              "      <td>25 july : media bulletin on novel</td>\n",
              "    </tr>\n",
              "    <tr>\n",
              "      <th>...</th>\n",
              "      <td>...</td>\n",
              "      <td>...</td>\n",
              "    </tr>\n",
              "    <tr>\n",
              "      <th>179103</th>\n",
              "      <td>Thanks @IamOhmai for nominating me for the @WH...</td>\n",
              "      <td>thanks for nominating me for the challenge i n...</td>\n",
              "    </tr>\n",
              "    <tr>\n",
              "      <th>179104</th>\n",
              "      <td>2020! The year of insanity! Lol! #COVID19 http...</td>\n",
              "      <td>2020 the year of insanity lol</td>\n",
              "    </tr>\n",
              "    <tr>\n",
              "      <th>179105</th>\n",
              "      <td>@CTVNews A powerful painting by Juan Lucena. I...</td>\n",
              "      <td>a powerful painting by juan lucena its a trib...</td>\n",
              "    </tr>\n",
              "    <tr>\n",
              "      <th>179106</th>\n",
              "      <td>More than 1,200 students test positive for #CO...</td>\n",
              "      <td>more than 1200 students test positive for at m...</td>\n",
              "    </tr>\n",
              "    <tr>\n",
              "      <th>179107</th>\n",
              "      <td>I stop when I see a Stop\\n\\n@SABCNews\\n@Izinda...</td>\n",
              "      <td>i stop when i see a stop</td>\n",
              "    </tr>\n",
              "  </tbody>\n",
              "</table>\n",
              "<p>179108 rows × 2 columns</p>\n",
              "</div>\n",
              "      <button class=\"colab-df-convert\" onclick=\"convertToInteractive('df-e59d31aa-9ecf-4f27-9ffd-b3bd59a5945b')\"\n",
              "              title=\"Convert this dataframe to an interactive table.\"\n",
              "              style=\"display:none;\">\n",
              "        \n",
              "  <svg xmlns=\"http://www.w3.org/2000/svg\" height=\"24px\"viewBox=\"0 0 24 24\"\n",
              "       width=\"24px\">\n",
              "    <path d=\"M0 0h24v24H0V0z\" fill=\"none\"/>\n",
              "    <path d=\"M18.56 5.44l.94 2.06.94-2.06 2.06-.94-2.06-.94-.94-2.06-.94 2.06-2.06.94zm-11 1L8.5 8.5l.94-2.06 2.06-.94-2.06-.94L8.5 2.5l-.94 2.06-2.06.94zm10 10l.94 2.06.94-2.06 2.06-.94-2.06-.94-.94-2.06-.94 2.06-2.06.94z\"/><path d=\"M17.41 7.96l-1.37-1.37c-.4-.4-.92-.59-1.43-.59-.52 0-1.04.2-1.43.59L10.3 9.45l-7.72 7.72c-.78.78-.78 2.05 0 2.83L4 21.41c.39.39.9.59 1.41.59.51 0 1.02-.2 1.41-.59l7.78-7.78 2.81-2.81c.8-.78.8-2.07 0-2.86zM5.41 20L4 18.59l7.72-7.72 1.47 1.35L5.41 20z\"/>\n",
              "  </svg>\n",
              "      </button>\n",
              "      \n",
              "  <style>\n",
              "    .colab-df-container {\n",
              "      display:flex;\n",
              "      flex-wrap:wrap;\n",
              "      gap: 12px;\n",
              "    }\n",
              "\n",
              "    .colab-df-convert {\n",
              "      background-color: #E8F0FE;\n",
              "      border: none;\n",
              "      border-radius: 50%;\n",
              "      cursor: pointer;\n",
              "      display: none;\n",
              "      fill: #1967D2;\n",
              "      height: 32px;\n",
              "      padding: 0 0 0 0;\n",
              "      width: 32px;\n",
              "    }\n",
              "\n",
              "    .colab-df-convert:hover {\n",
              "      background-color: #E2EBFA;\n",
              "      box-shadow: 0px 1px 2px rgba(60, 64, 67, 0.3), 0px 1px 3px 1px rgba(60, 64, 67, 0.15);\n",
              "      fill: #174EA6;\n",
              "    }\n",
              "\n",
              "    [theme=dark] .colab-df-convert {\n",
              "      background-color: #3B4455;\n",
              "      fill: #D2E3FC;\n",
              "    }\n",
              "\n",
              "    [theme=dark] .colab-df-convert:hover {\n",
              "      background-color: #434B5C;\n",
              "      box-shadow: 0px 1px 3px 1px rgba(0, 0, 0, 0.15);\n",
              "      filter: drop-shadow(0px 1px 2px rgba(0, 0, 0, 0.3));\n",
              "      fill: #FFFFFF;\n",
              "    }\n",
              "  </style>\n",
              "\n",
              "      <script>\n",
              "        const buttonEl =\n",
              "          document.querySelector('#df-e59d31aa-9ecf-4f27-9ffd-b3bd59a5945b button.colab-df-convert');\n",
              "        buttonEl.style.display =\n",
              "          google.colab.kernel.accessAllowed ? 'block' : 'none';\n",
              "\n",
              "        async function convertToInteractive(key) {\n",
              "          const element = document.querySelector('#df-e59d31aa-9ecf-4f27-9ffd-b3bd59a5945b');\n",
              "          const dataTable =\n",
              "            await google.colab.kernel.invokeFunction('convertToInteractive',\n",
              "                                                     [key], {});\n",
              "          if (!dataTable) return;\n",
              "\n",
              "          const docLinkHtml = 'Like what you see? Visit the ' +\n",
              "            '<a target=\"_blank\" href=https://colab.research.google.com/notebooks/data_table.ipynb>data table notebook</a>'\n",
              "            + ' to learn more about interactive tables.';\n",
              "          element.innerHTML = '';\n",
              "          dataTable['output_type'] = 'display_data';\n",
              "          await google.colab.output.renderOutput(dataTable, element);\n",
              "          const docLink = document.createElement('div');\n",
              "          docLink.innerHTML = docLinkHtml;\n",
              "          element.appendChild(docLink);\n",
              "        }\n",
              "      </script>\n",
              "    </div>\n",
              "  </div>\n",
              "  "
            ],
            "text/plain": [
              "                                                     text                                        clean_tweet\n",
              "0       If I smelled the scent of hand sanitizers toda...  if i smelled the scent of hand sanitizers toda...\n",
              "1       Hey @Yankees @YankeesPR and @MLB - wouldn't it...  hey and  wouldnt it have made more sense to ha...\n",
              "2       @diane3443 @wdunlap @realDonaldTrump Trump nev...   trump never once claimed was a hoax we all cl...\n",
              "3       @brookbanktv The one gift #COVID19 has give me...   the one gift has give me is an appreciation f...\n",
              "4       25 July : Media Bulletin on Novel #CoronaVirus...                 25 july : media bulletin on novel \n",
              "...                                                   ...                                                ...\n",
              "179103  Thanks @IamOhmai for nominating me for the @WH...  thanks for nominating me for the challenge i n...\n",
              "179104  2020! The year of insanity! Lol! #COVID19 http...                     2020 the year of insanity lol \n",
              "179105  @CTVNews A powerful painting by Juan Lucena. I...   a powerful painting by juan lucena its a trib...\n",
              "179106  More than 1,200 students test positive for #CO...  more than 1200 students test positive for at m...\n",
              "179107  I stop when I see a Stop\\n\\n@SABCNews\\n@Izinda...                          i stop when i see a stop \n",
              "\n",
              "[179108 rows x 2 columns]"
            ]
          },
          "metadata": {},
          "execution_count": 4
        }
      ]
    },
    {
      "cell_type": "code",
      "source": [
        "# Tokenization\n",
        "df['clean_tweet']= [word_tokenize(entry) for entry in df['clean_tweet']]\n",
        "df['clean_tweet']\n",
        "\n"
      ],
      "metadata": {
        "id": "sJ_ImPA9_RIo",
        "colab": {
          "base_uri": "https://localhost:8080/"
        },
        "outputId": "0248f2fd-e174-45eb-d4a8-4a15f613c3a0"
      },
      "execution_count": null,
      "outputs": [
        {
          "output_type": "execute_result",
          "data": {
            "text/plain": [
              "0         [if, i, smelled, the, scent, of, hand, sanitiz...\n",
              "1         [hey, and, wouldnt, it, have, made, more, sens...\n",
              "2         [trump, never, once, claimed, was, a, hoax, we...\n",
              "3         [the, one, gift, has, give, me, is, an, apprec...\n",
              "4                 [25, july, :, media, bulletin, on, novel]\n",
              "                                ...                        \n",
              "179103    [thanks, for, nominating, me, for, the, challe...\n",
              "179104                 [2020, the, year, of, insanity, lol]\n",
              "179105    [a, powerful, painting, by, juan, lucena, its,...\n",
              "179106    [more, than, 1200, students, test, positive, f...\n",
              "179107                     [i, stop, when, i, see, a, stop]\n",
              "Name: clean_tweet, Length: 179108, dtype: object"
            ]
          },
          "metadata": {},
          "execution_count": 5
        }
      ]
    },
    {
      "cell_type": "code",
      "source": [
        "df['clean_tweet'].head(1)"
      ],
      "metadata": {
        "id": "Z62wO2cl_Vo1",
        "colab": {
          "base_uri": "https://localhost:8080/"
        },
        "outputId": "bd4cdde3-63e1-4036-b103-84b8328d7ad7"
      },
      "execution_count": null,
      "outputs": [
        {
          "output_type": "execute_result",
          "data": {
            "text/plain": [
              "0    [if, i, smelled, the, scent, of, hand, sanitiz...\n",
              "Name: clean_tweet, dtype: object"
            ]
          },
          "metadata": {},
          "execution_count": 6
        }
      ]
    },
    {
      "cell_type": "code",
      "source": [
        "stop_words = set(stopwords.words('english'))\n",
        "\n",
        "def remove_stopwords(words):\n",
        "  return [word for word in words if  not word in stop_words]\n",
        "df['clean_tweet']=df['clean_tweet'].apply(lambda x: remove_stopwords(x))\n",
        "\n",
        "\n",
        "def stemming(words):\n",
        "  ps=PorterStemmer()\n",
        "  return [ps.stem(word) for word in words]\n",
        "df['clean_tweet']=df['clean_tweet'].apply(lambda x: stemming(x))\n",
        "\n",
        "def lemmatizing(words):\n",
        "    lemmatizer =WordNetLemmatizer()\n",
        "    return [lemmatizer.lemmatize(word) for word in words]\n",
        "df['clean_tweet']=df['clean_tweet'].apply(lambda x: lemmatizing(x))\n",
        "\n",
        "def final_text(words):\n",
        "     return ' '.join(words)\n",
        "df['clean_tweet']=df['clean_tweet'].apply(lambda x:final_text(x))\n",
        "   \n"
      ],
      "metadata": {
        "id": "2L9TlmRc_ZTv"
      },
      "execution_count": null,
      "outputs": []
    },
    {
      "cell_type": "code",
      "source": [
        "df['clean_tweet'].head(1)"
      ],
      "metadata": {
        "id": "SkW2Webi_cl1",
        "colab": {
          "base_uri": "https://localhost:8080/"
        },
        "outputId": "47e03004-3a41-43a6-80a1-9a8638008cb8"
      },
      "execution_count": null,
      "outputs": [
        {
          "output_type": "execute_result",
          "data": {
            "text/plain": [
              "0    smell scent hand sanit today someon past would...\n",
              "Name: clean_tweet, dtype: object"
            ]
          },
          "metadata": {},
          "execution_count": 8
        }
      ]
    },
    {
      "cell_type": "code",
      "source": [
        "def get_sentiment(text):\n",
        "    blob = TextBlob(text)\n",
        "    sentiment_polarity = blob.sentiment.polarity\n",
        "    sentiment_subjectivity = blob.sentiment.subjectivity\n",
        "    if sentiment_polarity > 0:\n",
        "        sentiment_label = 1\n",
        "    elif sentiment_polarity < 0:\n",
        "        sentiment_label = -1\n",
        "    else:\n",
        "        sentiment_label = 0\n",
        "    result = {'polarity':sentiment_polarity,\n",
        "              'subjectivity':sentiment_subjectivity,\n",
        "              'sentiment':sentiment_label}\n",
        "    return result"
      ],
      "metadata": {
        "id": "FIsP4iCQ_hy9"
      },
      "execution_count": null,
      "outputs": []
    },
    {
      "cell_type": "code",
      "source": [
        "df['sentiment_results'] = df['clean_tweet'].apply(get_sentiment)\n",
        "df['sentiment_results']"
      ],
      "metadata": {
        "id": "SBlcnkev_mZW",
        "colab": {
          "base_uri": "https://localhost:8080/"
        },
        "outputId": "b5be54f1-ba80-4f42-cbd0-746e92212cf2"
      },
      "execution_count": null,
      "outputs": [
        {
          "output_type": "execute_result",
          "data": {
            "text/plain": [
              "0         {'polarity': -0.25, 'subjectivity': 0.25, 'sen...\n",
              "1         {'polarity': 0.0, 'subjectivity': 0.0, 'sentim...\n",
              "2         {'polarity': 0.0, 'subjectivity': 0.0, 'sentim...\n",
              "3         {'polarity': 0.0, 'subjectivity': 0.0, 'sentim...\n",
              "4         {'polarity': 0.0, 'subjectivity': 0.0, 'sentim...\n",
              "                                ...                        \n",
              "179103    {'polarity': 0.0, 'subjectivity': 0.0, 'sentim...\n",
              "179104    {'polarity': 0.8, 'subjectivity': 0.7, 'sentim...\n",
              "179105    {'polarity': 0.0, 'subjectivity': 0.0, 'sentim...\n",
              "179106    {'polarity': 0.0625, 'subjectivity': 0.5, 'sen...\n",
              "179107    {'polarity': 0.0, 'subjectivity': 0.0, 'sentim...\n",
              "Name: sentiment_results, Length: 179108, dtype: object"
            ]
          },
          "metadata": {},
          "execution_count": 10
        }
      ]
    },
    {
      "cell_type": "code",
      "source": [
        "df = df.join(pd.json_normalize(df['sentiment_results']))\n",
        "df.head(3)"
      ],
      "metadata": {
        "id": "C-MpXm0R_otO",
        "colab": {
          "base_uri": "https://localhost:8080/",
          "height": 381
        },
        "outputId": "4c7b8fa7-5507-411b-abed-d527b5e66140"
      },
      "execution_count": null,
      "outputs": [
        {
          "output_type": "execute_result",
          "data": {
            "text/html": [
              "\n",
              "  <div id=\"df-8f7114fa-6d21-46d4-9914-efa8ad91b620\">\n",
              "    <div class=\"colab-df-container\">\n",
              "      <div>\n",
              "<style scoped>\n",
              "    .dataframe tbody tr th:only-of-type {\n",
              "        vertical-align: middle;\n",
              "    }\n",
              "\n",
              "    .dataframe tbody tr th {\n",
              "        vertical-align: top;\n",
              "    }\n",
              "\n",
              "    .dataframe thead th {\n",
              "        text-align: right;\n",
              "    }\n",
              "</style>\n",
              "<table border=\"1\" class=\"dataframe\">\n",
              "  <thead>\n",
              "    <tr style=\"text-align: right;\">\n",
              "      <th></th>\n",
              "      <th>user_name</th>\n",
              "      <th>user_location</th>\n",
              "      <th>user_description</th>\n",
              "      <th>user_created</th>\n",
              "      <th>user_followers</th>\n",
              "      <th>user_friends</th>\n",
              "      <th>user_favourites</th>\n",
              "      <th>user_verified</th>\n",
              "      <th>date</th>\n",
              "      <th>text</th>\n",
              "      <th>hashtags</th>\n",
              "      <th>source</th>\n",
              "      <th>is_retweet</th>\n",
              "      <th>clean_tweet</th>\n",
              "      <th>sentiment_results</th>\n",
              "      <th>polarity</th>\n",
              "      <th>subjectivity</th>\n",
              "      <th>sentiment</th>\n",
              "    </tr>\n",
              "  </thead>\n",
              "  <tbody>\n",
              "    <tr>\n",
              "      <th>0</th>\n",
              "      <td>ᏉᎥ☻լꂅϮ</td>\n",
              "      <td>astroworld</td>\n",
              "      <td>wednesday addams as a disney princess keepin i...</td>\n",
              "      <td>2017-05-26 05:46:42</td>\n",
              "      <td>624</td>\n",
              "      <td>950</td>\n",
              "      <td>18775</td>\n",
              "      <td>False</td>\n",
              "      <td>2020-07-25 12:27:21</td>\n",
              "      <td>If I smelled the scent of hand sanitizers toda...</td>\n",
              "      <td>NaN</td>\n",
              "      <td>Twitter for iPhone</td>\n",
              "      <td>False</td>\n",
              "      <td>smell scent hand sanit today someon past would...</td>\n",
              "      <td>{'polarity': -0.25, 'subjectivity': 0.25, 'sen...</td>\n",
              "      <td>-0.25</td>\n",
              "      <td>0.25</td>\n",
              "      <td>Negative</td>\n",
              "    </tr>\n",
              "    <tr>\n",
              "      <th>1</th>\n",
              "      <td>Tom Basile 🇺🇸</td>\n",
              "      <td>New York, NY</td>\n",
              "      <td>Husband, Father, Columnist &amp; Commentator. Auth...</td>\n",
              "      <td>2009-04-16 20:06:23</td>\n",
              "      <td>2253</td>\n",
              "      <td>1677</td>\n",
              "      <td>24</td>\n",
              "      <td>True</td>\n",
              "      <td>2020-07-25 12:27:17</td>\n",
              "      <td>Hey @Yankees @YankeesPR and @MLB - wouldn't it...</td>\n",
              "      <td>NaN</td>\n",
              "      <td>Twitter for Android</td>\n",
              "      <td>False</td>\n",
              "      <td>hey wouldnt made sen player pay respect a…</td>\n",
              "      <td>{'polarity': 0.0, 'subjectivity': 0.0, 'sentim...</td>\n",
              "      <td>0.00</td>\n",
              "      <td>0.00</td>\n",
              "      <td>Neutral</td>\n",
              "    </tr>\n",
              "    <tr>\n",
              "      <th>2</th>\n",
              "      <td>Time4fisticuffs</td>\n",
              "      <td>Pewee Valley, KY</td>\n",
              "      <td>#Christian #Catholic #Conservative #Reagan #Re...</td>\n",
              "      <td>2009-02-28 18:57:41</td>\n",
              "      <td>9275</td>\n",
              "      <td>9525</td>\n",
              "      <td>7254</td>\n",
              "      <td>False</td>\n",
              "      <td>2020-07-25 12:27:14</td>\n",
              "      <td>@diane3443 @wdunlap @realDonaldTrump Trump nev...</td>\n",
              "      <td>['COVID19']</td>\n",
              "      <td>Twitter for Android</td>\n",
              "      <td>False</td>\n",
              "      <td>trump never claim hoax claim effort to…</td>\n",
              "      <td>{'polarity': 0.0, 'subjectivity': 0.0, 'sentim...</td>\n",
              "      <td>0.00</td>\n",
              "      <td>0.00</td>\n",
              "      <td>Neutral</td>\n",
              "    </tr>\n",
              "  </tbody>\n",
              "</table>\n",
              "</div>\n",
              "      <button class=\"colab-df-convert\" onclick=\"convertToInteractive('df-8f7114fa-6d21-46d4-9914-efa8ad91b620')\"\n",
              "              title=\"Convert this dataframe to an interactive table.\"\n",
              "              style=\"display:none;\">\n",
              "        \n",
              "  <svg xmlns=\"http://www.w3.org/2000/svg\" height=\"24px\"viewBox=\"0 0 24 24\"\n",
              "       width=\"24px\">\n",
              "    <path d=\"M0 0h24v24H0V0z\" fill=\"none\"/>\n",
              "    <path d=\"M18.56 5.44l.94 2.06.94-2.06 2.06-.94-2.06-.94-.94-2.06-.94 2.06-2.06.94zm-11 1L8.5 8.5l.94-2.06 2.06-.94-2.06-.94L8.5 2.5l-.94 2.06-2.06.94zm10 10l.94 2.06.94-2.06 2.06-.94-2.06-.94-.94-2.06-.94 2.06-2.06.94z\"/><path d=\"M17.41 7.96l-1.37-1.37c-.4-.4-.92-.59-1.43-.59-.52 0-1.04.2-1.43.59L10.3 9.45l-7.72 7.72c-.78.78-.78 2.05 0 2.83L4 21.41c.39.39.9.59 1.41.59.51 0 1.02-.2 1.41-.59l7.78-7.78 2.81-2.81c.8-.78.8-2.07 0-2.86zM5.41 20L4 18.59l7.72-7.72 1.47 1.35L5.41 20z\"/>\n",
              "  </svg>\n",
              "      </button>\n",
              "      \n",
              "  <style>\n",
              "    .colab-df-container {\n",
              "      display:flex;\n",
              "      flex-wrap:wrap;\n",
              "      gap: 12px;\n",
              "    }\n",
              "\n",
              "    .colab-df-convert {\n",
              "      background-color: #E8F0FE;\n",
              "      border: none;\n",
              "      border-radius: 50%;\n",
              "      cursor: pointer;\n",
              "      display: none;\n",
              "      fill: #1967D2;\n",
              "      height: 32px;\n",
              "      padding: 0 0 0 0;\n",
              "      width: 32px;\n",
              "    }\n",
              "\n",
              "    .colab-df-convert:hover {\n",
              "      background-color: #E2EBFA;\n",
              "      box-shadow: 0px 1px 2px rgba(60, 64, 67, 0.3), 0px 1px 3px 1px rgba(60, 64, 67, 0.15);\n",
              "      fill: #174EA6;\n",
              "    }\n",
              "\n",
              "    [theme=dark] .colab-df-convert {\n",
              "      background-color: #3B4455;\n",
              "      fill: #D2E3FC;\n",
              "    }\n",
              "\n",
              "    [theme=dark] .colab-df-convert:hover {\n",
              "      background-color: #434B5C;\n",
              "      box-shadow: 0px 1px 3px 1px rgba(0, 0, 0, 0.15);\n",
              "      filter: drop-shadow(0px 1px 2px rgba(0, 0, 0, 0.3));\n",
              "      fill: #FFFFFF;\n",
              "    }\n",
              "  </style>\n",
              "\n",
              "      <script>\n",
              "        const buttonEl =\n",
              "          document.querySelector('#df-8f7114fa-6d21-46d4-9914-efa8ad91b620 button.colab-df-convert');\n",
              "        buttonEl.style.display =\n",
              "          google.colab.kernel.accessAllowed ? 'block' : 'none';\n",
              "\n",
              "        async function convertToInteractive(key) {\n",
              "          const element = document.querySelector('#df-8f7114fa-6d21-46d4-9914-efa8ad91b620');\n",
              "          const dataTable =\n",
              "            await google.colab.kernel.invokeFunction('convertToInteractive',\n",
              "                                                     [key], {});\n",
              "          if (!dataTable) return;\n",
              "\n",
              "          const docLinkHtml = 'Like what you see? Visit the ' +\n",
              "            '<a target=\"_blank\" href=https://colab.research.google.com/notebooks/data_table.ipynb>data table notebook</a>'\n",
              "            + ' to learn more about interactive tables.';\n",
              "          element.innerHTML = '';\n",
              "          dataTable['output_type'] = 'display_data';\n",
              "          await google.colab.output.renderOutput(dataTable, element);\n",
              "          const docLink = document.createElement('div');\n",
              "          docLink.innerHTML = docLinkHtml;\n",
              "          element.appendChild(docLink);\n",
              "        }\n",
              "      </script>\n",
              "    </div>\n",
              "  </div>\n",
              "  "
            ],
            "text/plain": [
              "         user_name     user_location  ... subjectivity sentiment\n",
              "0           ᏉᎥ☻լꂅϮ        astroworld  ...         0.25  Negative\n",
              "1    Tom Basile 🇺🇸      New York, NY  ...         0.00   Neutral\n",
              "2  Time4fisticuffs  Pewee Valley, KY  ...         0.00   Neutral\n",
              "\n",
              "[3 rows x 18 columns]"
            ]
          },
          "metadata": {},
          "execution_count": 11
        }
      ]
    },
    {
      "cell_type": "code",
      "source": [
        "Train_X, Test_X, Train_Y, Test_Y = model_selection.train_test_split(df['clean_tweet'],df['sentiment'],test_size=0.3)"
      ],
      "metadata": {
        "id": "L5wTt2N9_srk"
      },
      "execution_count": null,
      "outputs": []
    },
    {
      "cell_type": "code",
      "source": [
        "Encoder = LabelEncoder()\n",
        "Train_Y = Encoder.fit_transform(Train_Y)\n",
        "Test_Y = Encoder.fit_transform(Test_Y)"
      ],
      "metadata": {
        "id": "t2orRk-Y_vu7"
      },
      "execution_count": null,
      "outputs": []
    },
    {
      "cell_type": "code",
      "source": [
        "Tfidf_vect = TfidfVectorizer(max_features=10000)\n",
        "Tfidf_vect.fit(df['clean_tweet'])\n",
        "Train_X_Tfidf = Tfidf_vect.transform(Train_X)\n",
        "Test_X_Tfidf = Tfidf_vect.transform(Test_X)\n",
        "\n",
        "print(Tfidf_vect.vocabulary_)"
      ],
      "metadata": {
        "id": "vq3H3jlf_xz5",
        "colab": {
          "base_uri": "https://localhost:8080/"
        },
        "outputId": "6afa01fe-2931-4249-8eee-5e3cad6dfc1f"
      },
      "execution_count": null,
      "outputs": [
        {
          "output_type": "stream",
          "name": "stdout",
          "text": [
            "{'smell': 8316, 'scent': 7951, 'hand': 4468, 'sanit': 7899, 'today': 9075, 'someon': 8382, 'past': 6746, 'would': 9876, 'think': 8987, 'that': 8949, 'hey': 4594, 'wouldnt': 9877, 'made': 5702, 'sen': 8046, 'player': 6944, 'pay': 6778, 'respect': 7661, 'trump': 9223, 'never': 6304, 'claim': 2373, 'hoax': 4646, 'effort': 3496, 'to': 9069, 'one': 6512, 'gift': 4248, 'give': 4258, 'appreci': 1370, 'simpl': 8229, 'thing': 8986, 'alway': 1242, 'around': 1405, 'me': 5853, '25': 443, 'juli': 5249, 'medium': 5885, 'bulletin': 2017, 'novel': 6404, 'death': 2991, 'continu': 2675, 'rise': 7752, 'almost': 1219, 'bad': 1579, 'ever': 3692, 'politician': 6999, 'busi': 2040, 'want': 9667, 'chang': 2251, 'work': 9841, 'gener': 4211, 'recruit': 7494, 'specif': 8440, 'via': 9555, 'wear': 9702, 'face': 3795, 'cover': 2781, 'shop': 8164, 'includ': 4895, 'visit': 9607, 'local': 5610, 'commun': 2521, 'pray': 7080, 'good': 4302, 'health': 4538, 'recoveri': 7490, 'pope': 7013, 'god': 4286, 'prophet': 7214, 'watch': 9688, 'covid19': 2787, 'case': 2155, 'still': 8574, 'respons': 7668, 'cancel': 2104, 'compart': 2538, 'exa': 3711, 'order': 6563, 'safe': 7860, 'everyon': 3697, 'commit': 2514, 'ensure': 3594, 'let': 5514, 'protect': 7227, 'real': 7440, 'number': 6423, 'climb': 2405, 'fast': 3853, 'contin': 2672, 'rajasthan': 7377, 'govern': 4318, 'start': 8528, 'plasma': 6936, 'bank': 1606, 'sawai': 7931, 'man': 5759, 'singh': 8247, 'hospit': 4700, 'jaipur': 5160, 'treatment': 9187, 'pa': 6656, 'nagaland': 6201, 'polic': 6988, 'awar': 1541, 'citi': 2362, 'tower': 9129, 'updat': 9432, '6988': 846, 'discharg': 3230, 'peopl': 6816, 'test': 8924, 'second': 8005, 'wave': 9691, 'darkest': 2950, 'moment': 6075, 'must': 6182, 'focu': 4008, 'see': 8018, 'covid': 2785, 'infect': 4955, 'rate': 7411, 'florida': 3993, 'follow': 4016, 'natur': 6237, 'curv': 2898, 'expert': 3758, 'predict': 7093, 'initi': 4991, 'cu': 2867, 'patriot': 6768, 'call': 2083, 'volunt': 9625, 'elect': 3517, 'judg': 5244, 'poll': 7001, 'open': 6538, 'without': 9824, 'coronaviru': 2725, 'south': 8412, 'africa': 1132, '24': 429, '2020': 348, 'imag': 4829, 'doesnt': 3325, 'list': 5579, 'sourc': 8411, 'id': 4795, 'care': 2134, 'overal': 6627, 'risk': 7755, 'die': 3178, 'statist': 8542, 'relat': 7559, 'first': 3959, 'comprehens': 2565, 'review': 7711, 'amp': 1271, 'analysi': 1282, 'key': 5308, 'way': 9692, 'wash': 9681, 'help': 4574, 'reduc': 7502, 'transmission': 9169, 'holi': 4653, 'water': 9690, 'time': 9051, 'need': 6267, 'type': 9274, 'bposit': 1908, 'blood': 1828, 'compon': 2561, 've': 9524, 'recove': 7486, 'team': 8872, 'modifi': 6060, 'op': 6535, 'adopt': 1098, 'mask': 5814, 'disinfect': 3256, 'imagin': 4830, 'profit': 7188, 'human': 4746, 'suffer': 8689, 'studi': 8645, 'map': 5787, 'make': 5731, '207': 377, 'cross': 2842, 'lakh': 5398, 'mark': 5800, 'ppp': 7070, 'recov': 7485, 'far': 3841, 'posit': 7034, 'total': 9113, 'tax': 8857, 'reform': 7516, 'minimum': 6000, 'compani': 2533, 'five': 3966, 'hundr': 4754, 'thousand': 9005, 'euro': 3680, 'per': 6819, 'year': 9924, 'acknowledg': 1058, 'lack': 5388, 'home': 4660, 'surviv': 8760, 'actor': 1070, 'father': 3862, 'mrgkreddi': 6142, '15': 184, '20': 323, 'day': 2969, 'back': 1567, 'report': 7618, 'countri': 2764, 'numb': 6421, 'regard': 7526, 'outbreak': 6600, 'haida': 4444, '13': 127, 'recover': 7487, 'place': 6925, 'guest': 4409, 'said': 7870, 'hotel': 4711, 'appli': 1367, 'als': 1233, 'ceo': 2217, 'live': 5589, 'talk': 8836, 'effect': 3492, 'student': 8642, 'im': 4827, 'feel': 3895, 'littl': 5587, 'anxiou': 1338, 'seem': 8022, 'action': 1066, 'healthi': 4541, 'well': 9729, 'might': 5967, 'understood': 9342, 'hadnt': 4439, 'miss': 6029, 'meet': 5888, 'in': 4876, 'releas': 7564, 'two': 9268, 'new': 6306, 'podcast': 6975, 'episod': 3627, 'week': 9718, 'technolog': 8879, 'platform': 6941, 'use': 9464, 'conduct': 2594, 'telehealth': 8891, 'fight': 3926, 'differ': 3185, 'contain': 2662, 'spread': 8482, 'lets': 5516, 'britain': 1966, 'didnt': 3176, 'understand': 9340, 'month': 6091, 'plenti': 6958, 'took': 9099, 'effective': 3493, 'volum': 9624, 'plea': 6951, '1142': 79, '29': 499, 'saturday': 7924, 'toll': 9089, 'ani': 1304, 'quot': 7346, 'venezuela': 9535, 'economy': 3473, 'budget': 2003, 'tie': 9040, 'oil': 6488, 'like': 5555, 'louisiana': 5660, 'funni': 4145, 'rightw': 7743, 'exampl': 3718, 'of': 6468, '25th': 458, 'tn': 9066, 'highest': 4602, 'spike': 8454, 'chennai': 2299, 'ruto': 7841, 'ask': 1438, 'raila': 7365, 'fiasco': 3916, 'st': 8497, 'pledg': 6957, 'undertak': 9343, 'urgent': 9455, '10': 25, 'popul': 7014, 'jammu': 5171, 'kashmir': 5283, 'reach': 7427, 'yesterday': 9938, 'usa': 9460, 'crazi': 2807, 'world': 9857, 'come': 2496, 'american': 1260, 'get': 4234, 'this': 8992, 'whose': 9780, 'rel': 7557, 'file': 3931, 'class': 2383, 'lawsuit': 5451, 'sinclair': 8241, 'broadcast': 1972, 'unit': 9375, 'state': 8535, 'date': 2962, '1257': 116, '31': 542, 'agre': 1155, 'power': 7066, 'accessori': 1037, 'alcohol': 1190, 'much': 6153, 'pour': 7062, 'staff': 8506, 'carri': 2148, 'regular': 7539, 'activ': 1067, 'keep': 5293, 'clean': 2389, 'prevent': 7135, 'sir': 8254, 'mom': 6074, 'icu': 4793, 'due': 3410, 'prayer': 7081, 'listen': 5580, 'aka': 1178, 'ill': 4818, 'send': 8048, '500': 712, 'retweet': 7701, '300': 525, '1500': 186, 'cas': 2154, 'video': 9567, 'instagram': 5026, 'post': 7042, 'sale': 7877, 'revenu': 7709, 'drop': 3394, '27': 477, 'percent': 6821, 'quarter': 7324, 'thank': 8945, 'look': 5639, 'lil': 5560, 'donni': 3341, 'micro': 5950, 'dick': 3172, 'go': 4282, 'astound': 1459, 'achiev': 1056, 'cognit': 2458, 'capabl': 2112, 'conceal': 2574, 'nation': 6232, 'million': 5988, 'giveaway': 4259, 'put': 7300, 'famili': 3830, 'safeti': 7865, 'other': 6584, 'check': 2285, 'angel': 1300, 'beauti': 1668, 'hair': 4446, 'bow': 1902, 'design': 3113, 'thread': 9009, 'base': 1628, 'intern': 5058, 'research': 7642, 'evid': 3705, 'child': 2310, 'sum': 8699, 'municip': 6167, 'fatal': 3858, 'compar': 2536, 'locat': 5612, 'fa': 3790, 'wall': 9658, 'upgrad': 9436, 'opt': 6552, 'hire': 4627, 'find': 3945, 'shrink': 8194, 'sector': 8015, 'growth': 4395, 'take': 8827, 'era': 3636, 'current': 2894, 'situat': 8260, 'le': 5461, 'stress': 8619, 'facilit': 3802, 'our': 6594, 'econom': 3469, 'measur': 5865, 'respond': 7667, 'taken': 8829, '193': 304, 'major': 5729, 'disast': 3222, 'noth': 6392, 'vi': 9554, 'huge': 4742, 'danger': 2943, 'diseas': 3247, 'wonder': 9835, 'brave': 1922, 'en': 3561, 'hard': 4491, 'revers': 7710, 'drastic': 3375, 'lockdown': 5616, 'game': 4165, 'hi': 4596, 'long': 5629, 'prepar': 7106, 'reopen': 7603, 'homework': 4666, 'money': 6080, 'begin': 1690, 'pandem': 6688, 'woman': 9832, 'front': 4116, 'line': 5567, 'worker': 9844, 'who': 9773, 'ireland': 5105, 'built': 2013, 'contract': 2679, 'trace': 9138, 'app': 1358, 'success': 8679, 'it': 5134, 'rakesh': 7380, 'sharma': 8129, 'best': 1731, 'coach': 2440, 'india': 4926, 'websit': 9712, 'link': 5572, '5g': 769, 'stuff': 8648, 'screenshot': 7984, 'is': 5113, 'distanc': 3283, 'requir': 7635, 'result': 7680, 'cost': 2739, 'next': 6318, 'decad': 3002, 'wildlif': 9795, 'forest': 4037, 'equat': 3630, 'ju': 5243, 'learn': 5474, 'period': 6831, '3d': 621, 'anim': 1305, 'train': 9154, 'ongo': 6518, 'click': 2400, 'join': 5226, 'what': 9748, '2000': 325, 'lawyer': 5452, 'write': 9889, 'seek': 8020, 'loan': 5606, 'financi': 3943, 'drain': 3372, 'liter': 5582, 'head': 4532, 'decis': 3010, 'creat': 2809, 'conf': 2596, 'ok': 6489, 'angri': 1303, 'believ': 1710, 'stupid': 8651, 'viru': 9597, 'kill': 5325, 'mani': 5770, 'weekend': 9719, 'yall': 9912, 'piti': 6919, 'cant': 2110, 'person': 6842, 'tri': 9193, 'shout': 8182, 'earth': 3446, 'worst': 9868, 'reaction': 7429, 'emerg': 3541, 'seen': 8025, 'lotteri': 5654, 'shut': 8196, 'and': 1289, 'tell': 8895, 'run': 7830, 'qanon': 7309, 'conspiraci': 2639, 'theori': 8962, 'cavan': 2186, 'ladi': 5391, 'footbal': 4023, 'aint': 1167, 'got': 4312, 'shit': 8153, 'voic': 9620, 'belt': 1715, 'road': 7766, 'rap': 7401, 'song': 8390, 'alert': 1192, 'precaut': 7084, 'return': 7699, 'pr': 7071, 'area': 1389, 'hit': 4634, 'hotspot': 4713, 'hurrican': 4763, 'harvey': 4507, '128': 119, 'latest': 5431, 'wish': 9816, 'wait': 9647, 'unabl': 9305, 'ignor': 4813, 'ja': 5147, 'dashboard': 2955, 'boost': 1874, 'disproportion': 3272, 'affect': 1121, 'color': 2485, 'especi': 3649, 'ho': 4644, 'debat': 2995, 'ensu': 3592, 'school': 7959, 'amid': 1263, 'young': 9952, 'leader': 5465, 'says': 7935, 'workforc': 9846, 'physic': 6887, 'mental': 5910, 'crisi': 2829, 'smart': 8309, '92': 953, 'sampl': 7891, 'cure': 2886, '45': 664, 'minist': 6003, 'marin': 5798, 'resourc': 7657, 'hold': 4650, 'announc': 1310, 'name': 6212, 'ye': 9921, 'increas': 4912, 'plu': 6961, 'earli': 3441, 'guidanc': 4412, 'global': 4271, 'ppe': 7068, 'shortag': 8169, 'prioriti': 7158, '350': 586, 'employe': 3556, 'expo': 3768, 'manate': 5762, 'counti': 2761, 'summer': 8703, 'itali': 5135, 'cum': 2877, 'dm': 3310, 'nude': 6419, 'cm': 2430, 'madhya': 5703, 'pradesh': 7076, 'also': 1234, 'four': 4070, 'mayor': 5845, 'reflect': 7515, 'evolv': 3709, 'lin': 5564, 'bihar': 1767, 'wit': 9817, 'biggest': 1765, 'singleday': 8249, '2803': 491, 'lunch': 5689, 'away': 1543, 'mass': 5818, 'tourist': 9122, 'invad': 5079, 'quickli': 7340, 'weve': 9744, 'captur': 2122, 'snapshot': 8329, 'amaz': 1247, 'salford': 7879, 'say': 7932, 'nonprofit': 6370, 'eventu': 3691, 'close': 2416, 'door': 3345, 'acco': 1040, 'punjab': 7283, 'govt': 4324, 'warn': 9674, 'url': 9457, 'circul': 2354, 'whatsapp': 9750, 'relief': 7571, 'packag': 6663, 'tighten': 9044, 'purs': 7295, 'string': 8625, 'ride': 7735, 'read': 7431, 'realli': 7445, 'inform': 4976, 'interest': 5053, 'lot': 5653, 'age': 1146, 'kids': 5323, 'mean': 5857, 'exactli': 3714, 'problem': 7172, 'travel': 9178, 'veteran': 9553, 'affair': 1119, '252': 450, 'bring': 1961, 'confirm': 2606, '1980': 312, 'irish': 5106, 'commerci': 2511, 'build': 2010, 'model': 6055, 'perfect': 6826, 'breath': 1938, 'trade': 9143, 'treat': 9185, 'gender': 4208, 'climat': 2403, 'context': 2670, 'resid': 7647, 'develop': 3142, 'symptom': 8803, 'even': 3689, 'mild': 5976, 'book': 1870, 'immedi': 4839, 'at': 1464, 'emot': 3548, 'exhaust': 3738, 'soon': 8392, 'mr': 6141, 'reddi': 7497, 'coupl': 2771, 'ago': 1153, 'sit': 8256, 'averag': 1530, 'nearli': 6260, '62': 795, 'car': 2124, 'standstil': 8521, 'traffic': 9148, 'lo': 5604, 'chart': 2271, 'last': 5426, 'hour': 4716, 'bolsonaro': 1860, 'modi': 6059, 'dont': 3343, 'drown': 3397, 'fall': 3822, 'river': 7759, 'stay': 8544, 'direct': 3210, 'offici': 6478, 'enhanc': 3583, 'capac': 2113, 'te': 8867, 'sound': 8408, 'plandem': 6930, 'life': 5543, 'debunk': 2999, 'cl': 2371, 'know': 5352, 'better': 1738, 'social': 8349, 'anxieti': 1337, 'slightli': 8293, 'hidden': 4597, 'fro': 4114, 'republican': 7629, 'leav': 5479, 'america': 1259, 'vietnam': 9570, 'high': 4600, 'level': 5518, 'prepared': 7108, 'deputi': 3102, 'pm': 6967, 'your': 9955, 'wrong': 9892, 'ecuador': 3475, 'latin': 5432, 'mortal': 6112, 'fatigu': 3864, 'replac': 7612, 'provid': 7239, 'north': 6380, 'attract': 1485, 'digit': 3193, 'solut': 8373, 'struck': 8634, 'print': 7155, 'london': 5626, 'group': 4390, 'word': 9839, 'ad': 1075, 'cours': 2775, 'absolut': 1020, 'opportun': 6547, 'discus': 3244, 'legaci': 5490, 'black': 1804, 'toward': 9126, 'medic': 5877, 'anoth': 1316, 'accur': 1049, 'fun': 4137, 'surprisingli': 8752, 'quit': 7344, 'easi': 3448, 'nigeria': 6334, 'ambassador': 1249, 'promot': 7203, 'buy': 2053, 'support': 8733, 'rebuild': 7457, 'process': 7176, 'small': 8306, 'actual': 1072, 'job': 5218, 'dodg': 3320, 'do': 3313, 'excel': 3723, 'data': 2957, 'cv': 2909, 'progress': 7194, 'societi': 8354, 'coincid': 2466, 'influenza': 4970, 'unusu': 9423, 'down': 3357, '7813': 895, '24hour': 440, 'quick': 7338, 'estim': 3661, 'arizona': 1397, '03': 12, '7d': 904, 'avg': 1533, 'peak': 6793, 'cases': 2157, 'jason': 5184, 'preach': 7083, 'church': 2346, 'hate': 4513, 'loser': 5650, 'right': 7741, 'histori': 4632, 'cheat': 2283, 'privat': 7162, 'ward': 9669, 'ventil': 9539, 'epidem': 3623, '80': 908, '1000': 27, 'abl': 1007, 'round': 7805, 'delusion': 3064, 'basement': 1632, 'refer': 7512, 'battl': 1647, '395': 619, 'uzbekistan': 9486, '22': 400, 'gmt': 4281, 'governor': 4323, 'mishra': 6025, 'appeal': 1361, 'patient': 6761, 'donat': 3338, 'vaccin': 9494, 'food': 4018, 'chao': 2258, 'david': 2967, 'am': 1244, 'unfortun': 9362, 'citizen': 2364, 'tariff': 8851, 'friendli': 4108, 'remind': 7586, 'bore': 1881, 'tv': 9255, 'station': 8541, 'own': 6648, 'set': 8088, 'air': 1168, 'discredit': 3241, 'th': 8938, 'photo': 6883, 'launch': 5443, 'everi': 3693, 'scienc': 7964, '48': 688, 'qatar': 7310, 'capsul': 2118, 'benefit': 1722, 'immunity': 4846, 'rtpcr': 7815, 'truenat': 9220, 'rapid': 7403, 'antigen': 1328, 'dead': 2979, 'spend': 8448, 'reimagin': 7546, 'regist': 7534, 'will': 9796, 'suppos': 8735, 'delta': 3062, 'flight': 3987, 'depart': 3089, 'detroit': 3137, 'turn': 9251, 'refus': 7522, 'educ': 3488, 'applic': 1368, 'sinc': 8238, 'presenc': 7114, 'isnt': 5122, 'possibl': 7040, 'puerto': 7273, 'rico': 7732, '201': 335, 'de': 2977, 'recovered': 7489, 'discharged': 3231, 'migr': 5970, 'delhi': 3052, 'are': 1388, 'thought': 9003, 'shorter': 8171, 'arriv': 1409, 'min': 5992, 'brewer': 1945, 'center': 2212, 'plan': 6929, 'mindset': 5994, 'deepli': 3027, 'sadden': 7855, 'demis': 3068, 'constabl': 2641, 'krishna': 5368, 'cut': 2904, '112': 74, 'view': 9571, 'unlik': 9384, 'feder': 3890, 'larg': 5418, 'depend': 3092, 'fund': 4139, 'fee': 3892, 'collect': 2477, 'citizenship': 2365, 'big': 1763, 'parent': 6716, 'flexibl': 3985, 'information': 4978, 'coloss': 2487, 'failur': 3816, 'copi': 2710, 'belov': 1713, 'survivor': 8762, '100': 26, 'symptoms': 8805, 'may': 5842, 'improv': 4873, 'qualiti': 7320, 'repres': 7624, 'soap': 8340, 'lie': 5540, 'sexual': 8105, 'violenc': 9586, 'murder': 6170, 'town': 9130, 'incorrectli': 4909, 'bit': 1794, 'frustrat': 4122, 'ch': 2230, 'york': 9946, 'retail': 7686, 'talli': 8838, 'tech': 8874, 'organ': 6569, 'align': 1201, 'shift': 8149, 'wors': 9865, 'prompt': 7204, 'doctor': 3315, 'filter': 3936, 'sure': 8742, 'breed': 1941, 'karen': 5280, 'cofound': 2457, 'med': 5870, 'anyon': 1342, 'el': 3510, 'six': 8262, 'foot': 4021, 'ce': 2199, 'neg': 6276, 'fourth': 4071, 'row': 7811, 'question': 7334, 'suppli': 8729, 'chain': 2233, 'abil': 1005, 'brief': 1953, 'lock': 5613, 'articl': 1415, 'three': 9012, 'could': 2750, 'thwart': 9034, 'vaccine': 9495, 'stop': 8590, 'glass': 4264, 'hack': 4435, 'durat': 3422, 'factor': 3808, 'delay': 3049, 'usual': 9471, 'among': 1268, 'outpati': 6611, 'religion': 7574, '21st': 399, 'centuri': 2216, 'jew': 5205, 'christian': 2339, 'evangel': 3687, 'admiss': 1095, 'probabl': 7170, 'truth': 9229, 'hear': 4545, 'jeffrey': 5192, 'pink': 6910, 'impact': 4853, 'elder': 3513, 'societ': 8353, 'loss': 5651, 'wisdom': 9813, '52': 730, 'eye': 3788, 'rep': 7604, 'john': 5224, 'lewi': 5521, 'rememb': 7583, 'news': 6311, 'uncl': 9316, 'alreadi': 1230, 'lost': 5652, 'member': 5899, 'venrap': 9537, 'radio': 7357, 'play': 6942, 'love': 5663, 'download': 3360, 'on': 6505, 'surround': 8756, 'caus': 2180, 'flare': 3973, 'badli': 1581, 'you': 9949, 'shall': 8114, 'victori': 9562, 'mind': 5993, 'outlet': 6608, 'across': 1063, 'adher': 1085, 'stand': 8519, '3rd': 626, 'worldwid': 9860, '12': 100, '40': 628, 'record': 7484, 'insur': 5039, 'burden': 2027, 'ten': 8904, 'inspector': 5021, 'deploy': 3095, 'anti': 1322, 'foll': 4014, 'cleaner': 2390, 'cater': 2176, 'unsung': 9413, 'hero': 4591, 'fair': 3817, 'wage': 9645, 'product': 7182, 'echo': 3462, '2019': 345, 'trend': 9191, 'indic': 4930, 'industri': 4943, 'normal': 6378, 'ap': 1350, 'wer': 9737, 'economi': 3470, 'particip': 6729, 'asiapacif': 1436, 'cooper': 2705, 'reaffirm': 7437, 'priorit': 7157, 'economic': 3471, 'shorten': 8170, 'movement': 6136, 'essenti': 3653, 'dalla': 2934, 'tx': 9271, '7day': 905, 'average': 1531, 'cautiou': 2184, 'optim': 6555, 'plateau': 6939, 'potenti': 7057, 'easier': 3449, 'neighborhood': 6284, 'room': 7792, 'togeth': 9079, 'realiz': 7444, 'win': 9803, 'forbid': 4028, 'final': 3940, 'strip': 8627, 'share': 8125, 'survey': 8759, 'surgeri': 8747, 'rob': 7770, 'told': 9087, 'miracul': 6016, 'friend': 4107, 'hon': 4669, 'commission': 2513, 'their': 8958, 'apart': 1351, 'indoor': 4939, 'kid': 5319, 'em': 3535, 'somewher': 8387, 'trap': 9174, 'has': 4509, 'term': 8913, 'heard': 4546, 'advic': 1109, 'great': 4361, 'inclus': 4899, 'virolog': 9593, 'laboratori': 5385, 'univers': 9378, 'teach': 8869, 'exempt': 3735, 'there': 8968, 'my': 6189, 'tip': 9056, 'decid': 3008, 'whether': 9761, 'faster': 3854, 'pandemic': 6690, 'jersey': 5200, 'count': 2757, 'md': 5852, 'nfl': 6319, 'everyth': 3699, 'nobodi': 6359, 'push': 7298, 'carolina': 2147, 'miami': 5944, 'herald': 4583, 'liv': 5588, 'demonstr': 3076, 'minut': 6011, 'outdoor': 6605, 'learning': 5476, 'version': 9547, 'sweet': 8785, 'carolin': 2146, 'cdc': 2196, 'fact': 3805, 'brilliant': 1960, 'awak': 1539, 'accept': 1035, 'mainstream': 5725, 'narr': 6221, 'kenya': 5301, '24th': 442, 'soul': 8406, 'ekiti': 3509, '09': 22, '00': 0, '42': 640, 'credit': 2817, 'limit': 5562, 'advisori': 1112, 'workplac': 9852, 'presid': 7118, 'renew': 7596, 'invit': 5087, 'ukrain': 9294, 'ab': 996, 'dcp': 2974, '50': 711, 'sanitari': 7900, 'sad': 7854, 'realiti': 7443, 'drive': 3387, 'thru': 9027, 'commend': 2507, 'step': 8559, 'personnel': 6844, 'worri': 9863, 'monitor': 6083, 'awesom': 1545, 'addit': 1080, 'marley': 5803, 'brought': 1981, 'muc': 6152, 'drivethrough': 3391, 'monday': 6078, 'massiv': 5822, 'anyway': 1347, 'dr': 3368, 'coz': 2796, 'lose': 5649, 'pain': 6671, 'hope': 4682, 'heal': 4536, '183': 278, 'colleg': 2479, 'melbourn': 5894, 'commentari': 2509, 'non': 6365, 'exist': 3740, 'explain': 3762, 'except': 3724, 'extraordinari': 3781, 'demon': 3075, 'left': 5486, 'democrat': 3071, 'liber': 5530, 'oppos': 6549, 'reject': 7555, 'slow': 8298, 'identifi': 4802, 'sooner': 8393, 'selfreport': 8040, 'daili': 2929, 'programm': 7193, 'custom': 2902, 'servic': 8084, 'late': 5428, 'babi': 1564, 'sister': 8255, 'behind': 1697, 'son': 8388, 'diagnos': 3163, '07': 17, 'till': 9049, 'nonsens': 6371, 'camp': 2093, 'least': 5478, 'gop': 4307, 'charg': 2265, 'oh': 6486, 'perfectli': 6827, 'happi': 4484, 'going': 4295, 'morn': 6107, 'tire': 9057, 'drama': 3373, 'break': 1929, 'ginger': 4254, 'shoe': 8162, 'green': 4369, 'doorstep': 3346, 'inquiri': 5008, 'influenc': 4969, 'h1n1': 4432, 'for': 4026, 'director': 3212, 'speak': 8432, 'shortli': 8173, 'assembl': 1446, 'event': 3690, 'futur': 4152, 'recent': 7465, 'retract': 7695, 'connect': 2621, 'hello': 4572, 'twitter': 9267, 'delight': 3056, 'innov': 5002, 'creator': 2813, 'an': 1276, 'headlin': 4534, 'polit': 6996, 'stage': 8508, 'outsid': 6618, 'hous': 4719, 'regret': 7537, 'choic': 2325, 'dear': 2989, 'goe': 4289, 'market': 5801, 'repeal': 7608, 'act': 1064, 'remov': 7593, 'liabil': 5525, 'guess': 4408, 'arent': 1392, 'rage': 7360, 'rough': 7802, 'club': 2425, 'suggest': 8693, 'online': 6523, 'wow': 9880, 'surpris': 8750, 'impress': 4871, 'rule': 7824, 'brother': 1980, 'fraser': 4085, '16': 213, 'brazil': 1924, 'devil': 3146, 'laugh': 5440, 'nope': 6375, 'nov': 6399, 'becom': 1675, 'part': 6726, 'import': 4866, 'threat': 9010, 'address': 1081, 'issu': 5129, 'comment': 2508, 'mishandl': 6023, 'senior': 8049, 'motiv': 6124, 'ar': 1381, 'prais': 7077, 'thee': 8955, 'yield': 9940, 'coffe': 2455, 'space': 8423, 'reading': 7435, '77': 892, 'textil': 8936, 'reusabl': 7704, 'proven': 7237, 'inactiv': 4880, 'fo': 4007, 'disturb': 3296, 'korea': 5362, 'youth': 9959, 'lead': 5463, 'excess': 3725, 'prematur': 7100, 'lure': 5692, 'canadian': 2101, 'puppi': 7288, 'onlin': 6522, 'fraudster': 4087, 'bunch': 2023, 'thiev': 8984, 'visibl': 9604, 'wa': 9643, 'increase': 4913, 'guy': 4428, 'done': 3339, 'unfit': 9360, 'offic': 6476, 'wo': 9827, 'jimmi': 5213, 'dean': 2988, 'panel': 6692, 'show': 8185, 'public': 7267, 'transport': 9173, 'transmiss': 9168, '18': 268, 'teacher': 8870, 'classroom': 2387, 'instead': 5031, 'us': 9459, 'enjoy': 3584, 'dutch': 3427, 'farmer': 3846, 'teenag': 8884, 'intersect': 5063, 'expect': 3748, 'sever': 8098, 'flood': 3991, 'netherland': 6298, '137': 141, 'hospitalis': 4703, 'di': 3160, 'walk': 9653, 'beach': 1660, 'rio': 7746, 'roof': 7791, 'sell': 8041, 'veget': 9529, 'odisha': 6467, 'fill': 3933, 'everywher': 3702, 'admit': 1096, 'asymptomat': 1463, 'sy': 8796, 'memori': 5905, 'urg': 9453, 'regul': 7538, 'fiji': 3930, 'disease': 3248, 'barcelona': 1617, 'legend': 5492, 'xavi': 9902, 'hernandez': 4590, 'al': 1180, 'soc': 8343, 'cope': 2709, 'poor': 7008, 'pro': 7167, 'kind': 5329, 'slum': 8302, '26': 460, 'mohfw': 6068, 'deal': 2985, 'experi': 3754, 'kentucki': 5300, 'advanc': 1103, 'restart': 7671, '30am': 538, 'edt': 3485, 'express': 3772, 'entri': 3609, 'draw': 3376, 'figur': 3929, '23': 416, 'immigr': 4842, 'brain': 1917, 'lucknow': 5682, 'cmo': 2431, 'narendra': 6220, 'kr': 5366, 'ur': 9451, 'mate': 5827, 'babe': 1563, 'knee': 5345, 'boyfriend': 1907, 'wick': 9784, 'fauci': 3865, 'kept': 5304, 'everyone': 3698, 'here': 4586, 'startup': 8531, 'expertis': 3759, 'allow': 1215, 'whole': 9776, 'tourism': 9121, 'incom': 4900, 'crime': 2824, 'access': 1036, 'gp': 4326, 'essay': 3651, 'mobil': 6051, 'phone': 6882, 'fail': 3815, 'vulner': 9639, 'adult': 1101, 'protec': 7226, 'distinct': 3287, '60': 776, 'disrupt': 3276, 'immun': 4845, 'connecticut': 2622, 'prison': 7160, 'jail': 5158, 'low': 5665, 'march': 5792, '1st': 322, 'balanc': 1590, 'recharg': 7469, 'wan': 9663, 'na': 6197, 'speed': 8445, 'unpreced': 9396, 'energi': 3575, 'store': 8594, 'deep': 3023, 'temporarili': 8902, 'payment': 6781, 'expir': 3761, 'septemb': 8063, '30th': 541, 'bhoomi': 1751, 'ram': 7383, 'templ': 8899, 'andhra': 1293, 'ne': 6256, 'brand': 1921, 'offer': 6474, 'ensur': 3593, 'wellb': 9730, 'conveni': 2691, 'phase': 6866, 'iii': 4815, 'clinic': 2407, 'trial': 9195, 'how': 4724, 'duti': 3429, 'stori': 8595, 'lab': 5382, 'technician': 8877, 'beat': 1666, 'track': 9141, 'system': 8811, 'whi': 9762, 'correct': 2732, 'ass': 1442, 'career': 2135, 'flow': 3997, 'partnership': 6737, 'knowledg': 5354, 'vote': 9630, 'corona': 2721, 'donor': 3342, 'overflow': 6633, 'starr': 8527, 'county': 2769, 'texa': 8932, 'committe': 2515, 'deem': 3022, 'pat': 6748, 'mama': 5757, 'third': 8989, 'owner': 6649, 'encourag': 3566, 'lik': 5554, 'institut': 5033, 'forg': 4040, 'ahead': 1159, 'oncampu': 6509, 'inperson': 5005, 'making': 5738, 'happen': 4483, 'legal': 5491, 'mandat': 5765, 'rest': 7670, 'california': 2081, 'labor': 5384, 'forc': 4029, 'asian': 1435, '2021': 370, 'australian': 1509, 'smaller': 8307, 'crowd': 2845, 'overweight': 6645, 'strength': 8617, 'parti': 6727, 'okay': 6490, 'granni': 4346, 'nurs': 6427, 'uk': 9293, 'goal': 4284, 'polici': 6991, 'corpor': 2730, 'garden': 4177, 'later': 5429, 'resum': 7682, 'movi': 6138, 'shoot': 8163, 'interview': 5068, 'unemploy': 9354, 'attack': 1476, 'point': 6981, 'obes': 6446, 'victim': 9560, 'econ': 3467, 'batter': 1645, 'purchas': 7290, 'zimbabw': 9970, 'ambul': 1252, '2pm': 522, 'came': 2090, '8pm': 942, 'raini': 7372, 'season': 8000, 'hike': 4612, 'infec': 4954, 'account': 1046, 'ant': 1319, 'creatur': 2814, 'observ': 6451, 'mandatori': 5766, 'chin': 2317, 'wi': 9783, 'jul': 5248, 'disch': 3228, 'congratul': 2615, 'jeff': 5190, 'manag': 5760, 'street': 8616, 'spain': 8424, 'contribut': 2684, 'west': 9740, 'midland': 5960, 'pregnant': 7098, 'curfew': 2889, 'spotifi': 8475, 'doubl': 3352, 'deliveri': 3059, 'mechan': 5869, 'sign': 8212, 'deadli': 2980, 'islam': 5120, 'premium': 7103, 'stock': 8580, 'storm': 8596, 'migrant': 5971, 'afraid': 1131, 'deport': 3096, 'so': 8339, 'fine': 3946, 'law': 5448, 'impos': 4869, 'lol': 5624, 'chose': 2332, 'theyr': 8978, 'screw': 7985, 'preston': 7124, '14th': 183, 'co': 2438, 'info': 4972, 'perform': 6828, 'cbc': 2190, 'rumour': 7828, 'restrict': 7675, 'forget': 4041, 'significantli': 8218, '235': 423, 'isol': 5124, 'wearer': 9704, 'blindli': 1822, 'bcoz': 1657, 'wel': 9726, 'beyond': 1742, 'acquir': 1059, 'oklahoma': 6492, 'denier': 3080, 'fellow': 3897, 'magat': 5709, 'homemad': 4662, 'cloth': 2422, 'layer': 5456, 'prefer': 7096, 'dispers': 3268, '2009': 333, 'rehears': 7544, 'psychologist': 7257, 'bodi': 1851, 'mar': 5788, 'quarantin': 7322, 'assign': 1450, 'remot': 7591, 'cont': 2654, 'extend': 3774, 'august': 1498, 'press': 7121, 'knock': 5351, 'tone': 9093, 're': 7425, 'sustain': 8771, 'network': 6299, 'worsen': 9866, 'dire': 3209, 'opioid': 6543, 'fewer': 3912, 'addict': 1079, 'mu': 6150, 'passeng': 6742, 'cheer': 2291, 'kick': 5317, 'rais': 7373, 'sri': 8494, 'lanka': 5411, 'sake': 7873, 'gettin': 4236, 'virtual': 9596, '150k': 190, 'end': 3567, '148490': 177, 'dea': 2978, 'land': 5405, 'free': 4092, 'jr': 5242, 'soar': 8341, 'phenomen': 6870, 'scientif': 7967, 'joke': 5229, 'sort': 8403, 'reap': 7448, 'sow': 8418, 'fal': 3821, 'mistak': 6033, 'unless': 9383, 'biblic': 1759, 'scale': 7937, '1k': 319, 'kindli': 5333, 'district': 3293, 'administr': 1093, 'complet': 2552, 'cheap': 2280, 'spray': 8479, 'penni': 6810, 'nightmar': 6339, 'role': 7780, 'girl': 4255, 'ex': 3710, 'full': 4134, 'palestinian': 6679, 'dedic': 3019, '86': 931, '293': 505, '11': 64, 'somalia': 8378, 'campaign': 2094, 'instabl': 5025, 'any': 1339, 'challeng': 2240, 'expans': 3744, 'england': 3581, 'swim': 8789, 'pool': 7007, 'gym': 4429, 'minim': 5998, 'coronavirus': 2726, 'mha': 5942, 'consid': 2633, 'cinema': 2349, 'hall': 4454, 'histor': 4631, '113': 76, 'strang': 8606, 'rout': 7808, 'fix': 3968, 'price': 7143, 'fault': 3866, 'heck': 4559, 'the': 8951, 'hysteria': 4781, 'someth': 8383, 'sick': 8202, 'clip': 2410, 'went': 9736, 'cluster': 2428, 'tool': 9100, 'madagascar': 5700, 'herbal': 4584, 'medicin': 5882, 'cough': 2748, 'glad': 4262, 'difficult': 3189, 'rid': 7733, 'da': 2925, 'hot': 4710, 'danc': 2942, 'move': 6135, 'messag': 5923, 'compil': 2545, 'clearli': 2395, 'maker': 5732, 'common': 2517, 'carl': 2142, 'save': 7926, 'dad': 2926, 'nativ': 6236, 'floridian': 3994, 'spent': 8449, 'fl': 3969, 'explor': 3766, '103': 42, 'navig': 6243, 'as': 1425, 'headquart': 4535, 'seal': 7997, 'fold': 4012, 'card': 2127, '900': 945, 'mumbai': 6166, 'bmc': 1842, 'coop': 2704, 'creativ': 2812, 'avoid': 1535, 'contact': 2657, 'pet': 6852, 'kee': 5291, 'crawl': 2806, 'patie': 6758, '72': 867, 'fear': 3880, 'strategi': 8610, 'prove': 7236, 'costli': 2743, 'night': 6337, '310': 543, 'slap': 8279, 'compound': 2563, 'aft': 1134, 'pull': 7277, 'field': 3919, 'du': 3403, 'concentr': 2576, 'ive': 5143, 'victoria': 9563, 'goto': 4313, 'happ': 4481, 'humor': 4752, 'necess': 6262, 'grand': 4339, 'complex': 2554, 'be': 1659, 'grate': 4354, 'lord': 5647, 'tribe': 9198, 'stuck': 8638, 'viral': 9590, 'pcr': 6787, 'molecular': 6073, 'ca': 2061, 'grandpa': 4344, 'art': 1412, 'reduct': 7503, 'trust': 9226, 'uttar': 9478, '67': 830, 'friday': 4104, 'villag': 9579, 'stephen': 8560, 'miller': 5985, 'checkout': 2288, 'ruth': 7840, 'sacrific': 7853, 'congress': 2617, 'investig': 5083, 'whatev': 9749, 'necessari': 6263, 'howev': 4726, 'exercis': 3736, 'control': 2687, 'donald': 3337, 'concern': 2579, 'sadli': 7857, 'misinform': 6026, 'perhap': 6829, 'interact': 5051, 'having': 4520, 'boycott': 1906, 'vadodara': 9497, 'east': 3452, '28': 488, 'rural': 7835, 'publish': 7269, 'hygien': 4775, 'habit': 4434, 'parliament': 6722, 'gov': 4315, 'dec': 3001, 'jan': 5173, 'prioritis': 7159, '10000': 28, 'partner': 6735, 'statu': 8543, 'webinar': 9711, 'avail': 1524, 'epidemiologist': 3626, 'basi': 1634, 'recogn': 7477, 'collabor': 2472, 'neighbor': 6283, '200': 324, 'june': 5254, 'daily': 2930, 'reli': 7568, 'facing': 3804, 'written': 9891, 'sky': 8275, 'una': 9304, 'logic': 5620, 'argument': 1395, 'airborn': 1170, 'sarscov2': 7913, 'true': 9219, 'freedom': 4093, 'fighter': 3927, 'hazard': 4525, 'china': 2318, 'blame': 1808, 'government': 4322, 'shivraj': 8157, 'chouhan': 2334, 'bhopal': 1752, 'instant': 5029, 'agent': 1149, 'tear': 8873, 'ga': 4156, 'clear': 2392, 'portland': 7027, 'protest': 7230, 'rapidli': 7404, 'pharma': 6862, 'drug': 3398, 'dem': 3065, '35': 585, 'ha': 4433, 'idiot': 4805, 'catch': 2173, 'finest': 3947, '150': 185, 'shutdown': 8197, 'insist': 5019, 'shoul': 8177, 'deliv': 3057, 'no': 6355, 'dog': 3326, 'sniff': 8333, 'saliva': 7880, 'denial': 3079, 'old': 6494, 'ground': 4388, 'vet': 9552, 'impend': 4857, 'evict': 3704, 'constitu': 2644, 'overwhelm': 6646, 'cnn': 2437, 'recal': 7459, 'horror': 4694, '14': 150, '648': 814, 'add': 1078, 'airport': 1174, 'bali': 1592, 'tes': 8923, 'preprint': 7109, 'datadriven': 2959, 'perspect': 6845, 'properli': 7212, 'gentleman': 4221, 'clown': 2424, 'planet': 6932, 'tata': 8855, 'chief': 2308, 'uddhav': 9284, 'thackeray': 8940, 'inaugur': 4883, 'centr': 2213, 'receiv': 7463, 'reveal': 7707, 'sleep': 8284, 'spur': 8487, 'invest': 5082, 'cusp': 2900, 'revolution': 7718, 'pillow': 6905, 'cushion': 2899, 'varieti': 9517, 'fabric': 3792, 'pri': 7142, 'yike': 9941, 'queen': 7329, 'park': 6721, 'pump': 7279, 'brake': 1919, 'we': 9694, 'col': 2467, 'michael': 5947, 'cook': 2700, 'lui': 5684, 'command': 2504, 'urban': 9452, 'augment': 1495, 'ta': 8813, 'accord': 1044, 'pakistan': 6675, 'flatten': 3976, '81': 915, 'hav': 4517, 'perceiv': 6820, 'bangladesh': 1605, '38': 609, 'confer': 2598, 'met': 5925, 'gave': 4190, 'spec': 8435, 'highlight': 4607, 'nbc': 6247, 'chicago': 2306, 'ontario': 6528, 'cremat': 2819, 'covi': 2784, 'mother': 6121, 'sent': 8054, 'crore': 2841, 'voter': 9631, 'registr': 7535, 'est': 3657, 'driver': 3390, 'epidemiolog': 3625, 'cohort': 2463, 'associ': 1453, 'main': 5722, 'highli': 4606, 'resili': 7651, 'savior': 7929, 'hydroxychloroquin': 4774, 'systemat': 8812, 'seri': 8069, 'bengaluru': 1724, 'convers': 2693, 'buyer': 2054, 'ash': 1428, 'hardwork': 4499, 'taxpay': 8859, 'abid': 1003, 'insan': 5010, 'suscept': 8765, 'under': 9325, 'hill': 4614, 'steve': 8564, 'johnson': 5225, 'shock': 8159, 'border': 1880, 'hypertens': 4777, 'mutat': 6185, 'quicker': 7339, '3pm': 625, 'meat': 5867, 'plant': 6935, '140000': 154, 'film': 3934, 'postpon': 7052, 'mathemat': 5832, 'dynam': 3432, '30': 524, 'preserv': 7116, 'shithol': 8154, 'uc': 9282, 'semest': 8044, 'fulli': 4135, 'instruct': 5034, 'coup': 2770, 'either': 3507, 'held': 4568, 'serosurvey': 8078, 'region': 7533, 'cold': 2468, 'recreat': 7493, 'german': 4231, 'though': 9002, 'butterfli': 2051, 'symbol': 8799, 'dark': 2949, 'preval': 7132, 'antibodi': 1324, '58': 757, '05': 15, 'beast': 1665, 'pitch': 6917, '55': 743, 'gt': 4398, 'smi': 8318, 'shield': 8148, 'or': 6559, 'decreas': 3018, 'incid': 4891, 'golf': 4298, 'fake': 3820, 'medicar': 5881, 'sentiment': 8056, 'analyz': 1285, 'ai': 1162, 'curb': 2884, 'houston': 4723, 'elderli': 3514, 'grandmoth': 4343, 'lifelong': 5545, 'did': 3175, 'by': 2056, 'meanwhil': 5862, 'absurd': 1023, 'theorist': 8963, 'ick': 4789, 'harm': 4500, 'during': 3425, 'incompet': 4901, 'meme': 5902, 'ht': 4734, 'icymi': 4794, 'host': 4706, 'union': 9373, 'fire': 3955, 'sought': 8405, 'sa': 7845, 'daddi': 2927, 'african': 1133, 'pick': 6892, 'christ': 2337, 'pathet': 6753, 'haha': 4440, 'obvious': 6456, 'ser': 8066, 'healthcar': 4539, 'profession': 7185, 'monthli': 6092, 'cell': 2203, 'brazilian': 1925, 'positive': 7038, 'theyv': 8979, 'stroke': 8629, 'inflamm': 4964, 'sai': 7869, 'ident': 4800, 'anderson': 1292, 'fashion': 3852, 'blue': 1836, 'glove': 4277, 'elev': 3526, 'serum': 8079, 'insight': 5018, 'nasal': 6225, 'swab': 8773, 'stun': 8649, 'leadership': 5467, 'inter': 5050, 'narcissist': 6219, 'psychopath': 7258, 'scream': 7982, 'parasit': 6712, 'behavior': 1695, 'delici': 3055, 'cake': 2072, 'pl': 6922, 'subscrib': 8664, 'weapon': 9701, 'attend': 1479, 'germani': 4232, 'brace': 1911, 'larger': 5419, 'utah': 9473, 'mirror': 6017, 'sidelin': 8207, 'ah': 1158, 'suprem': 8738, 'court': 2776, 'worship': 9867, 'casino': 2162, 'half': 4452, 'user': 9467, 'jo': 5217, 'evalu': 3685, '19': 294, 'peac': 6791, 'short': 8168, 'knew': 5347, 'besid': 1730, 'complain': 2548, 'fed': 3889, 'transgend': 9165, 'hiv': 4636, 'eastern': 3453, 'jump': 5252, '288': 497, 'refuge': 7520, 'hashtag': 4510, 'compli': 2555, 'portabl': 7023, 'trip': 9208, 'becam': 1671, 'wearin': 9706, 'particularli': 6732, 'younger': 9953, 'indian': 4928, 'glanc': 4263, 'sewag': 8102, 'singleus': 8250, 'bottl': 1894, 'sea': 7995, 'wil': 9792, 'submiss': 8661, 'deadlin': 2983, '31st': 556, 'top': 9103, 'fat': 3857, 'divis': 3305, 'ace2': 1053, 'receptor': 7467, 'michigan': 5949, 'propaganda': 7209, 'divert': 3302, 'attent': 1481, 'temporari': 8901, 'ban': 1599, 'tent': 8911, 'barri': 1623, 'trail': 9152, 'invinc': 5085, 'cent': 2211, 'publi': 7266, 'immin': 4843, 'iit': 4816, 'kharagpur': 5312, 'devic': 3145, '400': 629, 'relev': 7567, 'trillion': 9205, '500000': 715, 'puzzl': 7302, '976': 975, 'masks': 5816, 'cov': 2779, 'gambia': 4163, 'bind': 1777, 'therapi': 8966, 'bought': 1896, 'valv': 9506, 'bushfir': 2039, 'circl': 2351, 'autom': 1517, 'they': 8975, 'known': 5355, 'gene': 4210, 'involv': 5089, 'inspir': 5022, '1284': 121, 'romania': 7786, 'despit': 3119, 'fit': 3964, 'equip': 3631, 'exam': 3716, 'anyth': 1344, 'proactiv': 7168, 'channel': 2256, 'hel': 4567, 'pivot': 6920, 'site': 8257, 'potent': 7056, 'neutral': 6302, 'multipl': 6162, 'amen': 1254, 'inadequ': 4881, 'all': 1204, 'draconian': 3369, 'summari': 8701, 'techniqu': 8878, 'rig': 7739, 'zambia': 9967, 'hong': 4676, 'kong': 5361, 'remain': 7578, 'grave': 4357, 'ny': 6436, 'plead': 6952, 'tweep': 9257, 'divid': 3303, 'wisconsin': 9812, 'grace': 4330, 'anymor': 1341, 'corrupt': 2737, 'regim': 7531, 'minimis': 5999, 'godhra': 4288, '1022mhz': 40, 'given': 4260, 'werent': 9739, 'parad': 6702, 'more': 6104, 'potu': 7060, 'googl': 4305, 'calcul': 2075, 'from': 4115, 'lesson': 5512, 'reproduct': 7626, 'nose': 6386, 'mouth': 6133, 'method': 5932, '330': 568, 'tested': 8925, 'bureaucrat': 2029, 'paid': 6670, 'toxic': 9132, 'paradigm': 6703, 'assum': 1454, 'along': 1223, 'present': 7115, 'error': 3642, 'pile': 6900, 'disabl': 3217, 'anecdot': 1298, 'april': 1378, 'commonwealth': 2519, 'smile': 8319, 'papad': 6697, 'slip': 8295, 'downplay': 3361, 'un': 9303, 'program': 7192, 'lay': 5454, 'seven': 8097, 'founder': 4069, 'surg': 8745, 'consum': 2651, 'grant': 4347, 'aid': 1163, 'busines': 2043, 'nh': 6322, 'vital': 9612, 'employ': 3555, 'myanmar': 6190, 'after': 1136, 'longest': 5632, 'overtim': 6643, 'schedul': 7954, 'privileg': 7164, 'anonym': 1314, 'cellphon': 2204, '99': 979, 'liver': 5591, 'cancer': 2105, '50000': 714, 'fol': 4011, 'borough': 1885, 'membership': 5901, 'weight': 9724, 'sc': 7936, 'email': 3536, 'morning': 6108, 'astrazeneca': 1460, 'await': 1538, 'pas': 6739, 'factual': 3810, 'tension': 8910, 'westminst': 9742, 'grow': 4392, 'khan': 5311, 'secretari': 8010, 'gra': 4328, 'mediat': 5876, 'aim': 1166, 'secur': 8017, 'tenant': 8905, 'sudden': 8685, 'shi': 8146, 'although': 1237, 'engag': 3579, 'pre': 7082, 'advoc': 1113, 'mp': 6139, 'crossbord': 2843, 'abou': 1013, 'cumul': 2878, '129': 123, 'matter': 5835, 'overcom': 6629, 'then': 8961, 'facemask': 3797, 'practic': 7072, 'consult': 2650, 'luci': 5678, 'emili': 3543, '420': 641, 'ministri': 6006, 'statement': 8536, 'hybrid': 4771, 'ki': 5315, 'bishop': 1793, 'moral': 6101, '21': 383, 'tra': 9137, 'rang': 7396, 'anna': 1308, 'entir': 3602, 'spare': 8428, '2008': 332, 'crash': 2804, 'attitud': 1482, 'civil': 2368, 'with': 9819, 'herer': 4587, 'learnt': 5477, 'ncdc': 6252, '591': 763, 'default': 3029, 'racial': 7351, 'capit': 2115, 'spanish': 8427, 'flu': 4001, 'substanti': 8671, 'portion': 7026, 'those': 9000, 'stick': 8568, '85': 929, 'reviv': 7714, 'expand': 3743, 'answer': 1318, 'text': 8935, 'valley': 9502, 'scam': 7938, 'roughli': 7803, 'timelin': 9052, 'exposur': 3771, 'eg': 3497, 'task': 8852, 'confid': 2602, 'taki': 8831, 'nasti': 6228, 'ship': 8151, 'sail': 7871, 'solv': 8376, 'costeffect': 2742, 'inhom': 4987, 'elig': 3528, 'zip': 9972, 'code': 2454, 'wood': 9837, 'yet': 9939, 'pleas': 6953, '0700': 18, 'swing': 8791, 'condit': 2587, 'armenia': 1402, '383': 611, 'nail': 6206, 'regularli': 7540, '169': 238, '47': 679, '168': 236, '2nd': 521, '258': 454, 'began': 1688, 'organization': 6572, 'crop': 2840, 'genet': 4214, 'function': 4138, 'crack': 2798, 'thes': 8972, 'matern': 5830, 'drivethru': 3392, 'sat': 7914, 'sun': 8706, 'pair': 6673, 'trainer': 9156, 'resist': 7652, 'max': 5839, 'bubbl': 1999, 'intervent': 5067, 'basic': 1635, '20200725': 350, '08': 20, 'mo': 6048, 'everyday': 3696, 'gold': 4296, 'propos': 7219, 'spiritu': 8459, 'materi': 5829, 'profil': 7187, 'therapeut': 8965, 'implic': 4863, 'featur': 3886, 'chariti': 2267, 'panda': 6686, 'found': 4067, 'alon': 1221, 'statewid': 8539, 'canada': 2100, 'strong': 8630, 'dish': 3252, 'upcom': 9429, 'wednesday': 9715, 'congression': 2618, 'testimoni': 8928, 'shown': 8188, 'correl': 2734, 'mitig': 6039, 'sto': 8579, '5k': 770, 'transfer': 9163, 'punish': 7282, 'weak': 9696, 'spr': 8478, '63': 798, 'strict': 8621, 'surfac': 8744, 'queue': 7337, 'queu': 7336, 'disney': 3262, 'near': 6257, 'mile': 5978, 'upend': 9435, 'transform': 9164, 'imp': 4850, 'gartner': 4181, 'adapt': 1077, 'ni': 6324, 'toy': 9133, 'subscript': 8666, 'maintain': 5726, 'prev': 7130, 'alabama': 1182, '118': 94, 'bell': 1711, 'ring': 7745, 'til': 9048, 'youtub': 9960, 'ea': 3435, 'twoweek': 9270, 'acceler': 1034, '95': 966, 'transact': 9162, 'note': 6391, 'page': 6669, 'tweet': 9258, 'allianc': 1211, 'if': 4809, 'gross': 4386, 'fell': 3896, 'collid': 2481, 'shows': 8189, 'coverag': 2782, 'middl': 5958, 'promis': 7201, 'insecur': 5012, 'kingdom': 5335, 'stricter': 8622, 'maj': 5728, 'critic': 2832, 'prep': 7104, 'consecut': 2628, 'withstand': 9825, 'heavi': 4557, 'load': 5605, 'ppl': 7069, 'restaur': 7672, 'sold': 8366, 'ticket': 9038, 'comfort': 2500, '236': 424, 'celebr': 2202, 'publicli': 7268, 'subject': 8660, 'bullshit': 2020, 'goin': 4294, 'saw': 7930, 'blow': 1833, 'gon': 4299, 'speedi': 8446, 'ji': 5211, 'cycl': 2914, 'a6': 990, 'span': 8426, 'bankruptci': 1609, 'restructur': 7678, 'argentina': 1393, 'pollut': 7002, 'search': 7999, 'intellig': 5045, 'biotech': 1785, 'story': 8597, 'wake': 9650, 'singl': 8248, '39': 615, '2017': 343, 'standard': 8520, 'mai': 5718, 'enlighten': 3585, 'nice': 6327, 'rea': 7426, 'novemb': 6405, 'demand': 3066, 'harri': 4502, 'tweeter': 9259, 'idea': 4798, 'umbrella': 9300, 'bike': 1768, 'helmet': 4573, 'goggl': 4291, 'fac': 3794, 'not': 6388, 'vibe': 9557, 'exclus': 3730, 'discov': 3239, '10x': 63, 'resu': 7679, 'gent': 4219, 'dept': 3100, 'ste': 8548, 'transpar': 9171, 'chat': 2274, 'super': 8717, 'tal': 8833, 'visa': 9600, 'weekli': 9720, '654': 819, '84': 925, 'conclud': 2582, 'ifr': 4810, 'et': 3664, 'youll': 9951, 'afford': 1126, 'infrastructur': 4980, 'execut': 3733, 'document': 3318, 'content': 2668, 'enough': 3588, 'bed': 1677, 'png': 6970, 'tonight': 9096, 'crow': 2844, 'fbi': 3875, 'farm': 3845, 'fresh': 4101, 'jumbo': 5251, 'brown': 1984, 'renam': 7594, 'core': 2715, 'none': 6367, 'math': 5831, 'pack': 6662, 'white': 9771, 'men': 5906, '600': 777, '3m': 623, 'diabet': 3162, 'size': 8264, 'tripl': 9209, 'sore': 8399, 'throat': 9018, 'fever': 3910, 'spre': 8480, '8232': 921, '6314': 799, 'cat': 2168, 'caught': 2179, 'eat': 3455, 'idol': 4807, 'immers': 4841, 'pond': 7004, 'lake': 5397, 'sometim': 8385, 'disconnect': 3236, 'reconnect': 7481, 'basebal': 1629, 'fantasi': 3838, 'leagu': 5469, 'dg': 3154, 'seriou': 8072, 'havent': 4519, 'midday': 5957, '9pm': 986, 'billion': 1774, 'rupe': 7833, '182': 275, 'specul': 8443, 'media': 5874, 'rude': 7821, 'awaken': 1540, 'racist': 7353, 'contagi': 2660, 'don': 3336, 'crucial': 2848, 'environ': 3610, 'scientist': 7968, 'each': 3436, 'honbl': 4670, 'shri': 8192, 'petit': 6854, 'pic': 6891, 'frontlin': 4118, 'applaus': 1366, 'earliest': 3443, 'suspicion': 8770, 'befor': 1685, 'haunt': 4516, 'logist': 5621, 'bus': 2036, 'target': 8850, 'kinder': 5331, 'sunday': 8709, 'magazin': 5710, 'bankrupt': 1608, 'british': 1967, 'grim': 4381, 'tre': 9180, 'yo': 9942, 'wrestl': 9886, 'bro': 1969, 'pretti': 7129, 'makeup': 5734, 'whe': 9752, 'struggl': 8636, 'broader': 1973, 'stretch': 8620, 'further': 4151, 'wore': 9840, 'embarrass': 3538, 'wane': 9665, 'instanc': 5028, 'matur': 5837, 'fiscal': 3961, 'diagnost': 3165, 'procedur': 7174, 'guidelin': 4415, 'bee': 1679, 'stake': 8513, 'western': 9741, 'japan': 5180, 'venu': 9541, 'outfit': 6606, 'wed': 9714, 'floor': 3992, 'aiim': 1164, 'patna': 6765, 'sev': 8095, 'forward': 4062, 'happili': 4485, 'mon': 6077, 'board': 1846, 'letter': 5517, 'senat': 8047, 'resp': 7660, 'drink': 3385, 'wise': 9814, 'flourish': 3995, 'aunt': 1499, 'grandpar': 4345, 'horrif': 4692, 'scene': 7950, 'brink': 1962, 'extinct': 3778, 'bl': 1802, 'tune': 9242, 'austin': 1507, '44': 658, 'thre': 9008, 'cultur': 2876, 'oliv': 6499, 'leisur': 5498, 'fr': 4073, 'mysteri': 6193, 'eager': 3437, 'height': 4564, 'eo': 3614, 'implement': 4861, 'reckless': 7474, 'distract': 3290, 'lat': 5427, 'bigot': 1766, 'metaphor': 5929, 'compulsori': 2568, 'destroy': 3122, 'elimin': 3529, 'tomorrow': 9091, 'spe': 8431, 'gone': 4300, 'sweden': 8782, 'norway': 6384, 'metr': 5934, 'community': 2526, 'advantag': 1104, 'sport': 8472, 'jesu': 5203, 'conscienc': 2625, 'sane': 7898, 'openli': 6539, 'intent': 5049, 'definit': 3041, 'paper': 6698, 'chanc': 2247, 'convent': 2692, 'explan': 3763, 'neglig': 6281, 'about': 1014, 'migrat': 5972, 'broke': 1975, 'self': 8032, 'extrem': 3784, 'upheav': 9437, 'underscor': 9337, 'gay': 4193, 'annoy': 1311, 'switzerland': 8795, 'eth': 3667, 'cabinet': 2064, 'bjp': 1801, 'deleg': 3050, 'discuss': 3245, 'cloud': 2423, 'strain': 8603, '36': 597, 'provis': 7243, 'purifi': 7293, 'contemporari': 2665, 'amplifi': 1273, 'kuwait': 5377, 'led': 5483, 'opposit': 6550, 'heighten': 4565, 'nyc': 6437, 'red': 7496, 'grab': 4329, 'meal': 5856, '78000': 894, '25000': 446, '485': 694, 'automat': 1518, 'surpass': 8749, 'request': 7634, 'gild': 4251, 'evil': 3707, 'bird': 1787, 'livelihood': 5590, 'often': 6484, 'roll': 7781, 'savecc': 7927, '747464': 878, 'silver': 8224, 'eu': 3676, 'eur': 3679, 'combat': 2493, 'central': 2214, 'asia': 1434, 'european': 3682, 'extern': 3777, 'service': 8085, 'detect': 3131, 'uh': 9290, 'aspect': 1440, 'always': 1243, 'goodby': 4303, 'youv': 9961, 'trigger': 9204, 'metro': 5936, 'outbre': 6598, 'working': 9849, 'side': 8205, 'bio': 1780, 'crippl': 2826, 'erad': 3637, 'covid1': 2786, 'ibio': 4785, 'cultiv': 2875, 'enforc': 3577, 'bar': 1614, 'undo': 9350, 'wing': 9807, 'vacat': 9490, 'categori': 2175, 'yr': 9963, 'yep': 9933, '111': 71, 'lowest': 5668, 'recess': 7468, 'heavili': 4558, 'powder': 7065, 'dri': 3383, 'phd': 6868, 'graduat': 4335, 'weather': 9708, 'sunni': 8712, 'facetofac': 3798, 'birth': 1789, 'bori': 1883, 'resign': 7650, 'lift': 5549, 'mood': 6096, 'clueless': 2427, 'outcom': 6602, 'honour': 4679, 'warrior': 9678, 'gupta': 4425, 'asha': 1429, 'availabl': 1526, 'consist': 2635, 'currently': 2895, 'condol': 2591, 'solidar': 8370, 'desper': 3117, 'stan': 8517, 'insensit': 5013, 'chile': 2315, 'bewar': 1741, 'lai': 5395, 'moham': 6066, 'bbnaija': 1652, 'prof': 7183, 'andrea': 1295, 'costa': 2740, '217': 395, 'basil': 1636, 'uae': 9279, 'icon': 4791, 'affili': 1123, 'occup': 6459, 'repli': 7614, 'block': 1825, 'boy': 1905, 'ted': 8880, 'negoti': 6282, 'ord': 6562, 'advert': 1107, 'ma': 5696, 'manufactur': 5785, 'bowl': 1903, 'champion': 2244, 'shot': 8175, 'championship': 2245, 'hea': 4531, 'tot': 9111, 'salvador': 7887, '429': 652, 'uni': 9366, 'incarcer': 4888, 'upon': 9441, 'stoog': 8589, 'emin': 3544, 'scare': 7946, 'walter': 9662, 'arrang': 1406, 'premis': 7102, 'mega': 5889, 'rich': 7727, 'detail': 3127, 'bay': 1648, 'vis': 9599, 'rank': 7398, 'largest': 5421, 'cousin': 2778, 'hospic': 4699, 'reason': 7450, 'reelect': 7507, '75': 880, 'won': 9834, 'dc': 2973, 'shankar': 8121, 'his': 4629, 'cynic': 2918, 'midst': 5963, 'cri': 2822, 'upload': 9440, 'provinci': 7242, 'cmon': 2432, 'scotland': 7974, 'skip': 8273, 'mainland': 5723, 'straight': 8601, 'jampk': 5172, '70yearold': 862, 'srinagar': 8495, '60yearold': 788, 'cfr': 2229, 'facil': 3801, 'bother': 1893, 'theyd': 8976, 'now': 6406, 'asap': 1426, 'forcibl': 4030, 'up': 9427, 'heathrow': 4554, 'ba': 1560, 'colleagu': 2476, 'kate': 5284, 'concept': 2577, 'surreal': 8753, 'precis': 7090, 'tokyo': 9085, '260': 461, 'electr': 3521, 'vehicl': 9531, 'tricki': 9203, 'colour': 2488, 'rte': 7814, 'peo': 6814, 'lucki': 5680, 'light': 5550, 'touch': 9115, 'repeat': 7609, '390': 616, 'examin': 3717, 'spotlight': 8476, 'rental': 7600, 'partial': 6728, 'bengal': 1723, 'feed': 3893, 'foreign': 4035, 'newsom': 6313, 'cast': 2164, 'australia': 1508, 'welcom': 9727, 'coffin': 2456, 'random': 7395, 'earn': 3445, 'debt': 2998, 'bedroom': 1678, 'hurri': 4762, 'ou': 6590, 'elizabeth': 3531, 'royal': 7813, 'hosp': 4697, 'murphi': 6172, 'bruce': 1985, 'author': 1512, 'pop': 7012, 'burn': 2033, 'plz': 6966, 'legitim': 5497, 'homeschool': 4664, 'luke': 5685, 'georgia': 4228, '481': 692, 'sam': 7888, 'selfish': 8036, 'remember': 7584, 'menac': 5907, 'enemi': 3574, 'disclos': 3233, 'advis': 1110, 'righ': 7740, 'academ': 1029, 'ralli': 7382, '123': 111, 'recip': 7471, 'serious': 8073, 'reagan': 7438, 'enabl': 3562, 'lincoln': 5565, 'project': 7196, 'checkup': 2290, 'primari': 7146, 'festiv': 3908, 'bla': 1803, 'origin': 6575, 'oppress': 6551, 'authoritarian': 1514, 'formula': 4051, 'players': 6945, 'agenda': 1148, 'melinda': 5895, 'gate': 4185, 'fir': 3954, 'courtesi': 2777, 'refresh': 7518, 'wea': 9695, 'theme': 8960, 'appear': 1362, 'mix': 6040, 'hawaii': 4522, 'proud': 7233, 'faculti': 3811, 'modern': 6057, 'ayurveda': 1552, 'mode': 6054, 'microsoft': 5955, 'basketbal': 1639, 'fan': 3836, 'blunt': 1840, 'smoke': 8321, 'induc': 4941, 'raj': 7374, 'over': 6626, 'divorc': 3306, 'piec': 6897, 'paycheck': 6779, 'fami': 3828, 'construct': 2648, 'sweat': 8781, 'satish': 7921, 'chandra': 2250, 'qu': 7314, 'dream': 3380, 'genuin': 4223, 'advisor': 1111, 'etc': 3665, 'jacksonvil': 5154, 'rnc': 7764, 'lower': 5667, 'oxygen': 6652, 'bbc': 1650, 'anniversari': 1309, 'enter': 3598, 'disappear': 3220, 'fade': 3812, 'anytim': 1346, 'cla': 2372, 'valu': 9503, 'purpos': 7294, 'dutert': 3428, '5th': 773, 'sona': 8389, 'washington': 9683, 'aggress': 1151, 'equit': 3632, 'mt': 6148, 'export': 3770, 'olymp': 6500, 'war': 9668, 'ck': 2370, 'bmi': 1843, 'extra': 3779, 'defin': 3040, 'index': 4924, 'hijack': 4611, 'summit': 8704, '420000': 642, 'merit': 5921, 'professor': 7186, 'amount': 1270, 'dubai': 3406, 'victor': 9561, 'tyranni': 9277, 'deed': 3021, 'glimps': 4266, 'lee': 5484, 'funer': 4143, 'robert': 7771, 'upda': 9431, 'homeless': 4661, 'ones': 6515, 'cool': 2702, 'daughter': 2963, 'res': 7636, 'suspici': 8769, 'leftist': 5488, 'shutter': 8198, 'male': 5747, 'shouldnt': 8180, 'worn': 9862, '91': 949, 'financial': 3944, 'individu': 4936, 'charter': 2272, 'plane': 6931, 'prime': 7149, 'criticis': 2834, 'slowli': 8301, 'doe': 3322, 'traitor': 9158, 'style': 8654, 'pictur': 6895, 'asset': 1448, 'recognit': 7479, 'carer': 2138, 'insult': 5038, 'horrid': 4691, 'empti': 3560, 'easili': 3451, 'oppon': 6546, 'popular': 7015, 'conserv': 2632, 'jame': 5169, 'particl': 6730, 'enrol': 3591, 'candid': 2106, 'grade': 4332, 'comput': 2569, 'same': 7890, '54': 740, 'nevada': 6303, 'mayb': 5843, 'engin': 3580, 'deriv': 3106, 'attempt': 1478, 'nobel': 6357, 'rhode': 7723, 'corpu': 2731, 'ceremoni': 2219, 'dey': 3153, 'wide': 9786, 'soci': 8347, 'stat': 8534, 'deposit': 3097, 'bottom': 1895, 'appar': 1360, 'turk': 9246, 'caico': 2070, 'island': 5121, '41': 637, 'fals': 3825, 'km': 5342, 'higher': 4601, 'proof': 7207, 'fli': 3986, 'absenc': 1017, 'shou': 8176, 'gain': 4158, 'pound': 7061, 'hap': 4480, 'highestev': 4603, 'irrit': 5112, 'televis': 8894, 'domest': 3334, 'plot': 6960, 'interpret': 5061, 'shed': 8134, 'disciplin': 3232, 'forgiv': 4042, 'against': 1145, 'describ': 3109, 'mexican': 5938, 'slim': 8294, 'zero': 9969, 'malaysia': 5743, 'malaysian': 5744, 'incap': 4887, 'handl': 4471, 'woke': 9830, 'months': 6093, 'dig': 3191, 'thrill': 9015, 'portug': 7030, 'holidaymak': 4655, 'characterist': 2264, 'secretli': 8012, 'zombi': 9974, 'apocalyps': 1353, 'broadway': 1974, 'finger': 3948, 'sho': 8158, 'renter': 7601, 'household': 4722, 'hurt': 4764, 'brutal': 1992, 'oman': 6502, 'lag': 5392, 'berlin': 1727, 'worth': 9870, '700000': 857, 'graphic': 4349, '4248327': 647, 'archiv': 1386, 'belief': 1709, 'cho': 2323, 'feb': 3887, 'wouldv': 9878, 'controversi': 2688, 'stigma': 8570, 'accredit': 1047, 'award': 1542, 'winner': 9808, 'degre': 3045, 'twice': 9262, 'illeg': 4819, 'cop': 2707, 'yours': 9957, 'ann': 1307, 'virus': 9598, 'pt': 7260, 'deni': 3078, 'intend': 5046, 'hmmm': 4642, 'resources': 7659, 'argu': 1394, 'poverti': 7063, 'wont': 9836, '69': 841, 'conflict': 2609, 'stabl': 8502, 'rollercoast': 7783, 'laud': 5438, 'stimulu': 8576, 'ideal': 4799, 'have': 4518, 'resumpt': 7683, 'cliff': 2402, 'symptomat': 8804, 'touchless': 9116, 'germ': 4230, 'fascin': 3849, 'rachel': 7350, 'davi': 2966, 'music': 6178, 'onethird': 6516, 'longterm': 5636, 'pose': 7032, 'facto': 3807, 'empir': 3554, 'entail': 3596, 'esp': 3648, 'artifici': 1418, 'impeach': 4855, 'every': 3694, 'everybodi': 3695, 'seller': 8042, 'strike': 8624, 'compet': 2543, 'hillari': 4615, 'worl': 9856, 'convalesc': 2689, 'li': 5524, 'jama': 5166, 'special': 8437, 'petition': 6855, 'craft': 2800, 'lifesav': 5546, 'mosqu': 6117, 'people': 6817, 'shah': 8111, 'annual': 1312, '213': 389, 'serv': 8080, '114': 78, 'pleasur': 6956, 'ham': 4460, 'damn': 2938, 'sing': 8243, 'selfi': 8035, 'folk': 4013, 'supermarket': 8722, 'skill': 8270, 'shortterm': 8174, 'seiz': 8029, 'uniqu': 9374, 'opportunity': 6548, 'buzz': 2055, 'assist': 1451, 'walmart': 9661, 'thermomet': 8971, 'bulk': 2014, 'poster': 7047, 'rubi': 7820, 'tabl': 8815, 'gather': 4187, 'specialti': 8439, 'exhal': 3737, 'bite': 1797, 'trauma': 9176, 'devast': 3139, 'longtim': 5637, 'staffer': 8507, 'fool': 4019, 'wholesal': 9777, 'nowaday': 6407, 'counter': 2759, 'morocco': 6109, 'diversifi': 3301, 'collaps': 2473, 'based': 1630, 'proper': 7211, 'meter': 5930, 'gu': 4402, 'drivein': 3388, 'comeback': 2497, 'chine': 2319, '1336861': 136, 'cured': 2887, '15849068': 206, 'he': 4530, 'reassur': 7452, 'resear': 7640, 'screen': 7983, 'entranc': 3605, 'mandi': 5767, 'wh': 9746, 'hispan': 4630, 'heartbreak': 4548, 'kuch': 5371, 'joseph': 5236, 'spiral': 8457, 'deepen': 3024, 'tough': 9117, 'unpleas': 9394, 'undergo': 9329, 'mem': 5897, 'luckili': 5681, 'sharp': 8131, 'tb': 8861, '2018': 344, 'quiet': 7342, 'rat': 7410, 'tracker': 9142, 'poem': 6976, 'liberti': 5532, 'kiss': 5337, 'texan': 8933, 'spirit': 8458, 'fyi': 4154, 'doubt': 3354, 'utterli': 9481, 'excit': 3727, 'technic': 8876, 'div': 3298, 'com': 2491, 'independ': 4922, 'variou': 9518, '9am': 985, 'telemedicin': 8892, 'opd': 6536, 'mess': 5922, 'beg': 1687, 'husband': 4766, '145000': 166, 'accus': 1051, 'politic': 6997, 'guid': 4411, 'choos': 2329, 'defect': 3031, 'liner': 5568, 'many': 5786, '91000': 950, 'terri': 8915, 'backward': 1576, 'closur': 2420, 'condemn': 2586, 'marxist': 5811, 'activist': 1069, 'whove': 9781, 'proport': 7217, 'decor': 3017, 'spreading': 8484, 'va': 9487, 'severe': 8099, 'behalf': 1693, 'agenc': 1147, 'racism': 7352, 'dot': 3351, 'russia': 7838, 'viet': 9569, 'nam': 6210, '01': 10, '00gmt': 8, 'quest': 7333, 'being': 1702, 'hors': 4695, 'temperatur': 8898, 'http': 4736, '100000': 29, '130': 128, 'bill': 1772, 'invent': 5081, 'rather': 7412, 'thanks': 8946, 'unwel': 9426, 'unbeliev': 9310, 'hell': 4571, 'nicola': 6331, 'sturgeon': 8652, 'catastroph': 2172, 'taught': 8856, 'switch': 8794, 'effici': 3495, 'agil': 1152, 'logan': 5619, 'suspens': 8768, 'routin': 7809, 'orlean': 6577, 'lear': 5473, 'valid': 9501, 'journal': 5238, 'medit': 5884, 'bos': 1887, '11th': 99, 'ti': 9036, 'notic': 6394, 'giant': 4246, 'softwar': 8362, 'inc': 4885, 'occupi': 6460, 'moron': 6110, 'abandon': 997, 'display': 3270, 'posse': 7039, '1130': 77, 'inequ': 4948, 'provide': 7240, 'smoker': 8322, 'out': 6596, 'section': 8014, '9845684754': 977, 'wef': 9722, 'kit': 5338, 'cash': 2158, 'amin': 1265, 'circumst': 2356, 'continue': 2676, 'helplin': 4577, '12k': 124, 'suspect': 8766, 'peek': 6799, 'album': 1189, '9th': 987, 'mileston': 5979, 'drawn': 3377, 'skeptic': 8267, 'troll': 9211, 'fate': 3861, 'finish': 3949, 'batch': 1642, 'threaten': 9011, 'rain': 7367, 'arrest': 1408, 'kremlin': 5367, 'permiss': 6835, 'sensit': 8052, 'toler': 9088, 'smash': 8313, 'sponsor': 8470, 'writ': 9888, '4000': 630, 'dilig': 3198, 'fuck': 4126, 'su': 8657, 'lethal': 5515, 'guard': 4404, 'interferon': 5055, 'sars': 7912, 'surgic': 8748, 'anchor': 1287, 'incred': 4915, 'premier': 7101, 'charact': 2262, 'herd': 4585, 'oper': 6540, 'limpopo': 5563, 'nationwid': 6235, 'odd': 6466, 'principl': 7154, 'boe': 1852, 'speech': 8444, 'cuttack': 2907, 'cult': 2874, 'distance': 3284, 'practis': 7074, 'palm': 6681, 'attribut': 1486, 'cap': 2111, 'fish': 3962, 'into': 5071, 'mine': 5995, 'owe': 6647, 'neet': 6274, 'stude': 8640, 'stadium': 8504, 'pilot': 6906, 'raid': 7363, 'villain': 9580, 'ey': 3787, 'moratorium': 6102, 'loom': 5641, 'fastest': 3855, 'defund': 3044, 'shane': 8119, 'robot': 7774, '3000': 526, 'stark': 8526, 'adam': 1076, 'disagre': 3219, 'prolong': 7198, 'wound': 9879, 'excus': 3731, 'myself': 6192, 'laurent': 5447, 'grad': 4331, 'riot': 7747, 'fou': 4065, '370': 603, 'incl': 4893, 'such': 8681, 'expens': 3752, 'hindu': 4623, 'childcar': 2311, 'constitut': 2645, 'scholar': 7957, 'ironi': 5108, 'inde': 4920, 'ge': 4201, 'handwash': 4475, 'previous': 7139, 'french': 4099, 'notabl': 6389, 'holiday': 4654, 'norm': 6377, 'frequent': 4100, 'howard': 4725, 'photographi': 6885, 'saudi': 7925, 'arabia': 1383, 'obama': 6445, 'pharmaceut': 6863, 'its': 5140, 'convo': 2698, 'imperi': 4859, 'justin': 5266, 'medtech': 5887, 'k12': 5268, 'kindergarten': 5332, 'inmat': 4997, 'escap': 3646, 'daycar': 2970, 'adolesc': 1097, 'israel': 5127, 'accid': 1038, '136': 140, 'aap': 993, 'unhappi': 9363, '125': 114, 'grifter': 4378, 'microscop': 5954, 'avenu': 1529, 'vision': 9605, 'saver': 7928, 'hvac': 4770, 'labour': 5386, 'cr': 2797, 'persist': 6841, 'another': 1317, 'welfar': 9728, 'apollo': 1354, '1100': 66, '49000': 700, 'telephon': 8893, 'counterpart': 2760, 'stagger': 8509, 'indonesian': 4938, 'nj': 6350, 'hide': 4598, 'bitch': 1795, 'amazon': 1248, 'shame': 8117, 'ludhiana': 5683, 'conferenc': 2599, 'assur': 1456, 'attach': 1475, 'cc': 2193, 'blog': 1827, 'terribl': 8916, 'sorri': 8401, 'legisl': 5494, 'rent': 7599, 'freez': 4097, 'forgot': 4043, 'truli': 9221, 'frighten': 4111, 'outrag': 6615, 'taskforc': 8853, 'summaris': 8702, 'jobless': 5219, 'within': 9823, 'adequ': 1082, '167': 231, 'strateg': 8609, 'likely': 5558, 'leak': 5470, 'joe': 5221, 'mi': 5943, 'reintroduc': 7552, 'actually': 1073, 'fam': 3827, 'afternoon': 1138, 'hostag': 4707, 'coastal': 2444, 'provinc': 7241, 'joy': 5241, 'illinoi': 4820, 'hopkin': 4685, 'pub': 7263, 'machin': 5698, 'globe': 4273, 'speaker': 8433, 'hypocrisi': 4778, 'crush': 2855, 'pressur': 7123, 'cambodia': 2088, 'iphon': 5096, 'aerosol': 1115, 'se': 7994, 'tier': 9041, 'spx': 8490, 'spi': 8452, 'beaten': 1667, 'secondari': 8006, 'tast': 8854, 'chew': 2304, 'specialist': 8438, 'highrisk': 4608, 'form': 4045, 'meant': 5860, 'tale': 8834, 'mla': 6043, 'goa': 4283, 'ministe': 6004, 'crimin': 2825, 'stakehold': 8514, 'simultan': 8235, 'consequ': 2631, 'distribut': 3292, 'distress': 3291, 'humanitarian': 4747, 'lifelin': 5544, '148': 172, 'forex': 4039, 'shore': 8167, 'passion': 6743, 'threshold': 9013, '1020': 39, 'dispos': 3271, 'nitril': 6349, 'nod': 6360, 'oxford': 6650, 'sii': 8219, 'san': 7893, 'francisco': 4081, 'consul': 2649, 'custodi': 2901, 'isl': 5119, '155': 198, 'lt': 5674, 'hospital': 4702, 'diplomat': 3207, 'policymak': 6993, 'intellectu': 5044, 'heritag': 4588, 'tr': 9136, 'sultan': 8698, 'bazar': 1649, 'hat': 4512, 'psycholog': 7256, 'hr': 4730, 'diagnosi': 3164, '17th': 267, 'thursday': 9033, '23rd': 428, 'former': 4048, 'captain': 2119, 'postvir': 7053, 'cuomo': 2880, 'becau': 1672, 'fascist': 3851, 'prize': 7166, 'cli': 2399, 'horribl': 4690, 'protocol': 7232, 'dine': 3201, 'shortfal': 8172, 'lip': 5575, 'mount': 6128, 'intensifi': 5048, 'multipli': 6163, 'longer': 5630, 'depress': 3098, 'ri': 7724, 'territori': 8919, 'mari': 5796, 'jane': 5174, 'hampton': 4465, 'nova': 6402, 'countdown': 2758, 'appoint': 1369, 'establish': 3658, 'triag': 9194, 'therefor': 8969, 'orphan': 6578, 'ohio': 6487, 'discrep': 3242, 'memor': 5904, 'repost': 7623, 'etiquett': 3674, 'fe': 3879, 'communist': 2524, 'polio': 6994, 'iron': 5107, 'lung': 5690, 'humour': 4753, 'scot': 7973, 'brunei': 1988, 'domin': 3335, 'wasnt': 9684, 'onc': 6508, 'lisa': 5578, 'miracl': 6015, 'bu': 1998, 'bench': 1717, 'telangana': 8888, 'hc': 4526, 'sleev': 8288, 'aviat': 1534, 'twothird': 9269, 'devi': 3144, 'pune': 7281, 'alcoholbas': 1191, 'transit': 9166, 'plastic': 6937, 'inject': 4992, 'company': 2535, 'exponenti': 3769, 'obviou': 6455, 'bhubaneswar': 1753, 'bloom': 1830, 'resolv': 7654, 'unde': 9324, 'preexist': 7095, '317': 555, 'outlin': 6609, 'ef': 3490, '148000': 173, 'consider': 2634, 'tracer': 9139, 'session': 8087, 'bo': 1845, 'felt': 3900, '9999': 984, 'dishonest': 3255, 'dramat': 3374, 'separ': 8060, 'revel': 7708, 'earthquak': 3447, 'plagu': 6927, 'attain': 1477, 'arvind': 1424, 'kejriw': 5294, '2m': 520, 'countries': 2765, 'solo': 8372, 'btc': 1996, 'trea': 9181, 'crystal': 2858, 'ball': 1593, 'spokesperson': 8468, 'unrel': 9403, 'onto': 6529, 'lancet': 5404, 'motorcycl': 6126, 'playlist': 6947, 'heart': 4547, 'iv': 5141, 'antimask': 1330, 'dare': 2948, 'compromis': 2567, 'gradual': 4334, 'tests': 8931, 'inch': 4890, 'faith': 3819, 'relate': 7560, 'wtf': 9895, 'exagger': 3715, 'grief': 4375, 'noor': 6374, 'hobbi': 4647, '16th': 242, 'ya': 9909, 'allah': 1205, 'crise': 2828, 'spoke': 8466, 'women': 9833, 'dispens': 3267, 'oversea': 6639, 'withhold': 9822, 'ashley': 1431, 'bloomfield': 1832, 'boom': 1871, 'nz': 6440, 'conti': 2671, 'johannesburg': 5223, 'mislead': 6027, 'stylish': 8655, 'tim': 9050, 'junk': 5256, 'pers': 6838, 'ear': 3439, '2500': 445, 'nic': 6326, 'tur': 9244, 'safer': 7863, 'families': 3832, '32': 557, 'vice': 9559, 'mike': 5973, 'penc': 6806, 'transmit': 9170, 'future': 4153, 'party': 6738, 'doug': 3355, 'net': 6295, 'infections': 4961, 'ct': 2865, 'trans': 9161, 'overreact': 6638, 'produc': 7181, 'cytokin': 2921, 'wale': 9652, 'broken': 1976, 'leg': 5489, 'appropri': 1373, 'magnifi': 5713, '109': 56, 'nepal': 6290, 'pride': 7144, 'nile': 6342, 'fellowship': 3898, 'swedish': 8783, 'anywher': 1348, 'else': 3533, 'airway': 1175, 'heat': 4552, 'faq': 3840, 'wat': 9687, 'pawar': 6777, 'defend': 3034, 'compass': 2539, 'myth': 6194, 'coauthor': 2448, 'chapter': 2260, 'moon': 6097, 'tuesday': 9239, 'che': 2279, 'bigger': 1764, 'honest': 4672, 'utc': 9474, 'surveil': 8758, 'declar': 3013, '122': 109, 'wrote': 9893, 'furlough': 4148, 'setback': 8090, 'dist': 3280, '166': 229, 'ob': 6444, 'karnataka': 5282, 'tyler': 9273, 'wrap': 9882, 'justic': 5261, 'rahul': 7362, 'gandhi': 4168, 'tag': 8820, 'railway': 7366, 'extrapol': 3783, 'ate': 1465, 'smh': 8317, 'nightclub': 6338, 'resurg': 7684, 'despic': 3118, 'irrespons': 5111, 'safety': 7866, '179': 265, 'priest': 7145, 'magic': 5711, 'yes': 9934, 'soooo': 8395, 'sp': 8420, 'rakhi': 7381, 'chocol': 2324, 'combo': 2495, 'bhai': 1746, 'bhabhi': 1743, 'hamper': 4463, 'greet': 4371, '146000': 168, 'cashier': 2160, 'stare': 8525, 'visual': 9611, 'bac': 1565, 'geopolit': 4226, 'evolut': 3708, 'telecom': 8889, 'replay': 7613, 'airlin': 1172, 'brit': 1965, 'sme': 8314, 'jk': 5215, 'mention': 5911, 'csse': 2863, '06': 16, '04': 13, 'cdt': 2198, 'vid': 9565, 'brew': 1944, 'dexamethason': 3152, 'succ': 8677, 'diana': 3169, 'obey': 6447, 'rules': 7826, 'panic': 6694, 'emphasi': 3553, '1400': 152, 'discount': 3237, 'kaduna': 5270, 'baba': 1562, 'hyderabad': 4772, 'fda': 3877, 'disgrac': 3249, 'refund': 7521, 'superior': 8721, 'oblig': 6450, 'underli': 9331, 'respir': 7662, 'beard': 1664, 'nee': 6266, 'makeshift': 5733, 'ventur': 9540, '156': 200, 'belaru': 1705, 'winter': 9809, 'sensibl': 8051, 'sicken': 8203, 'la': 5381, 'coast': 2443, 'couch': 2747, 'vancouv': 9508, 'studio': 8646, 'facilities': 3803, '700': 854, '950': 967, 'caput': 2123, 'northern': 6382, 'youre': 9956, 'sooo': 8394, 'indiana': 4929, 'attorney': 1484, 'consent': 2630, 'businessman': 2046, 'cur': 2882, 'offend': 6472, 'earlier': 3442, 'fortnit': 4059, 'tactic': 8819, 'strengthen': 8618, 'empathi': 3551, 'suit': 8695, 'distancing': 3285, 'sanitis': 7902, 'salari': 7876, 'bleak': 1816, 'frm': 4113, 'bhaskar': 1748, 'forum': 4061, 'detriment': 3136, '357': 594, '199': 315, 'ethnic': 3672, 'int': 5040, 'ivanka': 5142, 'jare': 5183, 'croni': 2838, 'wet': 9743, '2011': 337, '49': 699, 'vir': 9589, 'voluntari': 9626, 'introduct': 5075, 'underestim': 9327, '24hr': 441, '472': 680, 'medi': 5873, 'determin': 3135, 'constrain': 2646, 'rbi': 7421, 'learner': 5475, 'choir': 2327, 'backpack': 1573, 'hostel': 4708, 'lone': 5627, 'adjust': 1088, 'revisit': 7713, 'pres': 7110, 'gestur': 4233, 'sheep': 8135, 'fg': 3914, 'until': 9417, 'checklist': 2287, 'yea': 9922, 'grappl': 4350, 'simul': 8234, 'octob': 6465, 'alot': 1225, 'fc': 3876, 'hunger': 4757, 'gsmc': 4397, '215': 391, 'whilst': 9767, 'rightli': 7742, 'conc': 2572, 'apr': 1377, '76': 889, 'congest': 2612, 'yoy': 9962, 'cit': 2359, 'epicentr': 3622, 'experienc': 3755, 'uganda': 9285, 'business': 2044, '264': 468, 'sh': 8107, 'nagpur': 6203, 'steal': 8551, 'wherev': 9760, 'relax': 7563, 'instantli': 5030, 'endur': 3573, 'ext': 3773, 'thatll': 8950, 'accumul': 1048, 'stain': 8511, 'exploit': 3765, 'rip': 7749, 'staf': 8505, 'born': 1884, 'bud': 2001, 'than': 8943, 'edit': 3480, 'opinion': 6542, 'hardest': 4494, 'financ': 3942, 'compassion': 2540, 'spot': 8474, 'toilet': 9082, 'immens': 4840, 'cyber': 2911, 'matt': 5834, 'liverpool': 5592, 'forecast': 4032, 'deeper': 3025, 'experiment': 3757, 'pol': 6984, 'attn': 1483, 'fort': 4054, 'bend': 1719, 'nick': 6328, 'clair': 2374, 'hanna': 4477, 'fragil': 4075, 'states': 8538, 'playground': 6946, 'symp': 8800, 'heartwarm': 4551, 'tragic': 9151, 'weigh': 9723, 'sheet': 8138, 'perth': 6849, 'instal': 5027, 'shower': 8187, 'fox': 4072, 'useless': 9466, 'planner': 6933, 'services': 8086, 'star': 8524, 'mln': 6045, 'skim': 8271, 'soura': 8410, 'rises': 7754, 'servant': 8081, 'chef': 2293, 'genom': 4218, 'replic': 7615, 'but': 2048, 'russian': 7839, 'roulett': 7804, 'gun': 4424, 'philli': 6877, 'scandal': 7941, 'fb': 3874, 'februari': 3888, 'thankyou': 8948, 'patients': 6762, 'troubl': 9215, 'cunt': 2879, 'swine': 8790, 'writer': 9890, 'coronviru': 2728, '313': 549, 'arab': 1382, 'emir': 3545, '57': 752, 'micron': 5953, 'hajj': 4450, 'pilgrimag': 6902, 'favorit': 3871, 'disord': 3263, 'weaken': 9697, 'il': 4817, 'cuban': 2870, 'brigad': 1955, '643': 811, 'farc': 3842, 'januari': 5179, '7000': 855, 'lean': 5471, 'pretend': 7128, 'scammer': 7939, 'ramp': 7387, 'morrison': 6111, 'baltimor': 1596, 'blvd': 1841, 'milder': 5977, 'lodg': 5617, 'café': 2068, 'signific': 8216, 'flyer': 4005, 'dublin': 3407, 'breakthrough': 1933, 'bulli': 2018, 'southafrica': 8413, 'kin': 5328, 'inept': 4946, 'sunset': 8714, 'alli': 1210, 'unmask': 9387, 'harvard': 4505, 'cambridg': 2089, 'massachusett': 5819, 'previou': 7138, '170k': 250, '2014': 340, 'cite': 2361, 'policeman': 6990, 'scheme': 7955, 'consumpt': 2653, 'older': 6495, 'dampen': 2939, 'reign': 7545, 'goo': 4301, 'bless': 1819, 'boil': 1854, 'foundat': 4068, 'vega': 9527, 'anthoni': 1321, 'threw': 9014, 'behold': 1698, 'sin': 8236, 'talent': 8835, 'chelsea': 2294, 'ooo': 6533, 'facial': 3800, 'recommend': 7480, 'toronto': 9107, 'mostli': 6120, 'humili': 4751, 'ra': 7347, 'compliment': 2560, 'licens': 5538, 'firm': 3957, 'suspend': 8767, 'irrelev': 5110, 'score': 7972, 'puppet': 7287, 'festival': 3909, 'sue': 8687, 'incub': 4917, 'dj': 3308, 'innoc': 5001, 'unpack': 9392, '93': 956, 'philippin': 6876, 'been': 1681, 'readi': 7433, 'elector': 3520, 'unprepar': 9399, 'dual': 3404, 'suicid': 8694, 'mortgag': 6113, 'bid': 1761, 'surgeon': 8746, 'aliv': 1203, 'natio': 6231, 'montgomeri': 6090, 'campu': 2097, 'dalian': 2933, 'liaon': 5527, 'seafood': 7996, 'tota': 9112, 'fled': 3979, 'persecut': 6839, 'con': 2571, 'mcdonald': 5850, 'aug': 1494, 'ronald': 7790, 'selfisol': 8037, 'competit': 2544, '172': 253, 'inf': 4950, 'reports': 7622, 'physician': 6889, 'selfless': 8038, 'ind': 4919, 'humbl': 4749, '6354': 803, 'dip': 3206, 'uptod': 9449, 'tradit': 9146, 'piss': 6915, 'tini': 9054, 'tour': 9120, '28th': 498, 'ration': 7414, 'missouri': 6032, '267': 472, '6pm': 850, 'honestli': 4674, 'kn': 5343, 'architectur': 1385, 'pvt': 7303, 'most': 6119, 'republ': 7628, 'alloc': 1213, 'ngo': 6321, '10am': 57, 'nutrit': 6430, 'breastfeed': 1937, 'edu': 3486, 'tu': 9234, 'concert': 2581, 'bash': 1633, 'somehow': 8381, 'tha': 8939, 'iran': 5101, 'amidst': 1264, 'window': 9805, 'clearanc': 2393, 'approv': 1374, 'ugli': 9289, 'bloomberg': 1831, 'baffl': 1582, 'longhaul': 5633, 'closer': 2418, 'dan': 2940, 'psalm': 7250, '116': 89, 'xenophobia': 9903, 'cautionari': 2183, 'journalist': 5239, 'maria': 5797, 'dystopian': 3434, 'casualti': 2167, 'overcharg': 6628, 'licenc': 5537, '160k': 219, 'declin': 3014, 'coalit': 2442, 'auster': 1506, 'bc': 1654, 'ang': 1299, 'she': 8133, 'brexit': 1946, '800000': 912, '141': 157, 'verifi': 9544, 'results': 7681, 'insid': 5016, 'pocket': 6973, 'rush': 7836, 'omg': 6504, 'combin': 2494, 'robust': 7775, 'puri': 7292, 'pestil': 6851, 'sweep': 8784, 'particular': 6731, 'doom': 3344, 'monger': 6081, 'thick': 8981, 'wast': 9685, 'knell': 5346, '158': 204, 'peter': 6853, 'master': 5823, 'credibl': 2816, 'ut': 9472, 'seatbelt': 8002, 'departur': 3091, 'thi': 8980, 'chuckl': 2345, 'wolf': 9831, 'gauteng': 4189, 'filmmak': 3935, 'elit': 3530, 'marathon': 5790, 'runner': 7832, '65000': 817, 'exact': 3713, 'itll': 5139, 'cape': 2114, 'treasuri': 9184, 'focus': 4009, '224': 407, '425': 648, 'tout': 9124, 'amit': 1266, 'stylist': 8656, '46': 674, 'directli': 3211, 'council': 2753, 'abc': 999, 'boston': 1889, 'scrambl': 7979, '214': 390, 'uptick': 9447, 'unfold': 9361, '134': 137, 'recoveries': 7491, 'mexico': 5939, 'plung': 6964, 'deepest': 3026, 'race': 7349, 'underlin': 9332, 'hail': 4445, 'relationship': 7562, 'toddler': 9076, 'maki': 5736, 'warfar': 9671, 'contradict': 2681, 'decemb': 3004, 'root': 7793, 'apolog': 1355, 'bat': 1641, 'dumb': 3412, 'theatr': 8953, 'visor': 9609, 'rwanda': 7842, 'cement': 2206, 'jus': 5259, 'retromullet': 7698, 'angela': 1301, 'multi': 6159, 'rescu': 7638, 'pac': 6658, 'newspap': 6314, 'ltd': 5676, 'himach': 4618, 'appl': 1364, 'viabl': 9556, 'altern': 1236, 'ethiopia': 3670, 'lion': 5574, 'children': 2314, 'her': 4582, '65k': 822, 'termin': 8914, 'zealand': 9968, '420898': 643, 'kathmandu': 5285, 'nationa': 6233, 'maskwear': 5817, 'him': 4617, 'vigil': 9574, 'dial': 3166, 'reader': 7432, 'foolish': 4020, 'seat': 8001, 'motor': 6125, 'ris': 7751, '1868': 286, 'decontamin': 3016, 'csc': 2859, 'helpless': 4576, 'anybodi': 1340, 'forgotten': 4044, 'workday': 9842, 'gulf': 4422, 'kerala': 5305, 'was': 9680, 'unhealthi': 9364, 'abus': 1027, 'loneli': 5628, 'approxim': 1376, 'unleash': 9382, '00pm': 9, 'hustl': 4767, 'nigerian': 6335, 'loot': 5644, 'mouse': 6132, 'details': 3128, 'illne': 4821, 'warp': 9675, 'drinker': 3386, 'fu': 4125, 'commut': 2529, 'wildfir': 9794, 'eric': 3638, 'segment': 8026, 'confront': 2610, 'wellington': 9732, 'coat': 2446, 'facebook': 3796, 'kidney': 5322, 'members': 5900, 'chosen': 2333, 'ruin': 7823, '277': 484, 'hub': 4738, 'signal': 8214, 'languag': 5410, 'certifi': 2224, 'alleg': 1206, 'cartoon': 2153, 'option': 6557, 'josh': 5237, 'boarder': 1847, 'visitor': 9608, 'country': 2766, 'horizont': 4687, 'politicis': 7000, 'reckon': 7475, 'epicent': 3621, 'recipi': 7472, 'auto': 1516, 'withdraw': 9820, 'pension': 6812, 'hardship': 4497, '110': 65, 'complianc': 2556, 'mini': 5997, 'throughout': 9022, '10th': 62, 'paradox': 6705, 'voucher': 9635, 'pad': 6666, 'hv': 4769, 'bag': 1583, 'render': 7595, 'split': 8463, 'uncertain': 9312, 'doh': 3327, 'seems': 8024, '250': 444, 'wuhan': 9897, 'silli': 8223, 'bugger': 2008, 'distort': 3289, 'disburs': 3225, '17': 243, 'er': 3635, 'sovereign': 8417, 'pulmonari': 7278, 'townwid': 9131, 'reactiv': 7430, 'arthriti': 1413, 'chronic': 2342, 'washabl': 9682, 'calm': 2086, 'conditions': 2589, 'exhibit': 3739, '20200724': 349, 'longlast': 5634, 'congreg': 2616, 'scroll': 7988, '165': 226, 'cruis': 2852, 'queri': 7332, 'convinc': 2697, 'tshirt': 9232, '48000': 690, 'vijay': 9575, '195': 307, 'trim': 9206, 'asthma': 1457, 'copd': 2708, 'litter': 5586, 'documentari': 3319, 'personalis': 6843, 'outreach': 6616, 'peer': 6802, 'chancellor': 2248, 'introduc': 5074, 'saniti': 7901, 'chase': 2273, 'weed': 9717, 'stomach': 8586, 'constantli': 2643, '78': 893, 'crisis': 2830, 'ie': 4808, 'kenyan': 5302, 'confus': 2611, 'notifi': 6396, 'regulatori': 7541, 'framework': 4077, 'henc': 4579, 'secret': 8009, 'equal': 3629, 'advertis': 1108, 'constant': 2642, 'heaven': 4556, 'bangalor': 1604, 'nut': 6429, 'desert': 3111, 'asylum': 1462, 'stabil': 8500, 'select': 8031, 'spectat': 8441, 'ther': 8964, 'certainli': 2221, 'newli': 6310, 'uvc': 9484, 'steril': 8562, 'philip': 6875, 'sur': 8740, 'canberra': 2103, 'hatr': 4515, 'bounti': 1900, 'troop': 9212, 'putin': 7301, 'prosper': 7223, 'tribal': 9197, 'van': 9507, 'blockchain': 1826, 'mrna1273': 6144, 'moderna': 6058, 'guilti': 4418, 'simpli': 8232, 'band': 1601, 'lectur': 5482, 'austria': 1510, 'welsh': 9734, '223': 406, 'abt': 1024, 'utilis': 9476, 'doi': 3328, '56': 749, 'rose': 7796, 'mountain': 6129, 'tragedi': 9150, '231': 418, 'abo': 1009, 'cyril': 2920, 'ramaphosa': 7384, 'spark': 8429, 'restor': 7674, 'grower': 4393, 'heap': 4544, 'chill': 2316, '71': 863, 'briefli': 1954, 'summar': 8700, 'shelter': 8141, 'lem': 5499, 'strongest': 8632, 'newslett': 6312, 'gap': 4174, 'uncertainti': 9313, 'tiktok': 9047, 'compel': 2541, 'repurpos': 7630, 'building': 2012, 'continent': 2673, 'mrna': 6143, 'hig': 4599, 'pursu': 7296, 'enthusiasm': 3601, 'allevi': 1209, 'repo': 7616, 'fortun': 4060, 'remembr': 7585, 'cypru': 2919, 'sage': 7868, 'memo': 5903, 'duvernaytardif': 3430, 'qampa': 7308, 'ple': 6950, 'maga': 5708, 'thief': 8982, 'laid': 5396, '344': 579, 'contactless': 2658, 'caption': 2120, 'lizzi': 5598, 'revis': 7712, 'bristol': 1964, 'infecti': 4958, 'deter': 3133, 'petri': 6856, 'minor': 6010, 'internet': 5060, 'franklin': 4084, 'xray': 9908, 'disc': 3226, 'honesti': 4673, 'countrywid': 2768, 'complac': 2547, 'imposs': 4870, 'slogan': 8296, 'extens': 3775, 'lemon': 5500, 'moph': 6099, 'ghetto': 4242, 'lago': 5393, 'rubbish': 7819, 'militari': 5980, 'doortodoor': 3347, '347': 584, '65': 815, '16000': 216, 'agreement': 1156, 'beca': 1670, 'torus': 9109, 'gotten': 4314, 'southeast': 8414, 'begun': 1692, 'peep': 6801, '513': 728, 'drone': 3393, 'protector': 7228, 'democraci': 3070, 'audienc': 1491, 'usag': 9461, 'slide': 8291, 'barrier': 1624, 'mad': 5699, '26th': 476, 'sink': 8251, 'ridicul': 7737, 'ia': 4782, 'violat': 9585, 'gadget': 4157, '204': 376, 'deliber': 3054, 'abposit': 1015, 'rec': 7458, 'abroad': 1016, 'response': 7669, 'reshap': 7646, 'grip': 4383, 'gentl': 4220, 'europ': 3681, 'taiwan': 8824, 'libya': 5535, 'throw': 9024, 'armi': 1403, 'bin': 1776, 'chirayu': 2321, 'why': 9782, 'zoo': 9976, 'realis': 7441, 'liberia': 5531, 'zoom': 9977, 'blah': 1806, '20th': 382, 'can': 2099, 'likelihood': 5557, 'infected': 4957, 'artist': 1420, 'superintend': 8720, 'muslim': 6181, 'diamond': 3168, 'insert': 5014, 'referr': 7514, 'whatsoev': 9751, 'ac': 1028, 'nervou': 6294, 'alic': 1199, 'junior': 5255, 'luck': 5679, '149': 178, 'deserv': 3112, 'situation': 8261, 'btw': 1997, 'induct': 4942, 'gum': 4423, 'shoutout': 8183, 'instructor': 5035, 'realtim': 7447, 'falter': 3826, 'nu': 6415, 'wipe': 9810, 'yup': 9966, 'msm': 6145, 'try': 9230, 'bold': 1856, '290': 500, 'tap': 8848, 'spell': 8447, 'harder': 4493, 'dress': 3381, 'pattern': 6771, 'currenc': 2893, 'swap': 8778, 'wife': 9790, 'bet': 1733, 'gre': 4359, 'beneficiari': 1721, 'available': 1527, 'northeast': 6381, 'tripura': 9210, 'inspect': 5020, '34': 575, 'congo': 2613, 'widespread': 9789, 'consciou': 2626, 'millionair': 5989, 'confin': 2604, 'industry': 4944, 'conce': 2573, 'approach': 1372, 'cotton': 2745, 'seed': 8019, 'chest': 2302, 'har': 4487, 'girlfriend': 4256, 'privaci': 7161, 'org': 6567, 'underst': 9339, 'despair': 3116, 'deaths': 2992, 'whoever': 9775, 'etern': 3666, 'bibl': 1758, 'alan': 1183, 'eleph': 3525, 'crunch': 2854, 'spokeswoman': 8469, '3600': 599, 'column': 2490, 'stronger': 8631, 'item': 5138, 'spin': 8456, 'religi': 7573, 'gram': 4338, 'kalimpong': 5276, 'july': 5250, 'prepandem': 7105, 'flash': 3974, 'oposit': 6544, 'yashoda': 9917, 'manipul': 5774, 'trick': 9202, 'paus': 6775, 'summon': 8705, 'heroic': 4592, 'float': 3989, '145': 165, 'gove': 4316, 'biscuit': 1792, 'accomplish': 1043, 'bungl': 2025, '699': 847, 'clot': 2421, 'wor': 9838, 'belong': 1712, '1m': 320, 'ci': 2347, 'sarah': 7909, 'semen': 8043, 'alltim': 1216, 'jfc': 5208, 'repub': 7627, 'eight': 3505, 'sew': 8101, 'handmad': 4472, 'fallen': 3823, 'southern': 8415, 'mosquito': 6118, 'havoc': 4521, 'unicef': 9367, 'dispatch': 3265, 'cargo': 2140, 'jakarta': 5163, 'puducherri': 7272, 'livestream': 5595, 'virgin': 9591, 'catalogu': 2170, 'nkosi': 6352, 'typic': 9275, 'acquisit': 1060, 'thiruvananthapuram': 8991, 'collector': 2478, 'discrimin': 3243, 'inhuman': 4989, 'stigmat': 8571, 'feedback': 3894, 'occur': 6461, 'c19': 2060, 'hcq': 4527, '274': 481, 'taxi': 8858, 'que': 7327, 'marshal': 5807, 'paramount': 6709, 'stimul': 8575, 'stockholm': 8581, 'syndrom': 8806, 'filipino': 3932, 'irrat': 5109, 'percept': 6823, '1918': 299, 'salt': 7885, 'while': 9766, 'represent': 7625, '584': 758, 'steven': 8565, 'chr': 2335, 'unnecessari': 9389, 'authent': 1511, 'biden': 1762, 'unveil': 9424, 'client': 2401, 'uttarakhand': 9479, 'immunologist': 4848, 'caregiv': 2136, 'prescrib': 7112, 'pregnanc': 7097, 'roller': 7782, 'coaster': 2445, 'unclear': 9317, 'grasp': 4351, '90': 944, 'bmj': 1844, 'toyota': 9134, 'maharashtra': 5717, 'succumb': 8680, 'twin': 9263, 'devot': 3149, 'nothing': 6393, 'when': 9755, 'darn': 2951, 'reported': 7619, 'rao': 7400, 'commiss': 2512, 'upper': 9442, 'atmospher': 1473, 'variat': 9516, '139': 147, 'international': 5059, 'overdu': 6632, 'reset': 7645, 'christma': 2340, 'cobra': 2449, 'overview': 6644, 'museum': 6177, 'beth': 1734, 'editori': 3482, 'keen': 5292, 'disguis': 3250, 'autonom': 1519, '5000': 713, 'scrub': 7989, 'thro': 9017, 'neurolog': 6300, 'commonli': 2518, 'where': 9758, '31358': 550, 'statewis': 8540, 'tall': 8837, 'disgust': 3251, 'clue': 2426, 'nonstop': 6372, 'sneez': 8332, 'aur': 1501, 'jee': 5189, 'ka': 5269, 'nih': 6340, 'acti': 1065, 'dementia': 3067, 'shred': 8191, 'matthew': 5836, 'prey': 7140, 'reschedul': 7637, 'pande': 6687, 'messi': 5924, 'rashid': 7409, 'disclosur': 3234, 'coro': 2719, 'theft': 8956, 'procur': 7179, 'lari': 5422, 'nowher': 6408, 'christoph': 2341, 'robin': 7772, 'breakdown': 1930, 'flex': 3984, 'coordin': 2706, 'satisfi': 7920, 'forefront': 4034, 'steadi': 8549, 'hom': 4659, 'surat': 8741, 'ahmedabad': 1161, 'decod': 3015, 'shopper': 8166, 'indi': 4925, 'underpin': 9334, 'thane': 8944, 'injuri': 4994, 'danang': 2941, 'favourit': 3873, 'shadow': 8110, 'uv': 9483, 'chamber': 2243, 'aga': 1141, 'passport': 6745, 'fasttrack': 3856, 'briton': 1968, 'weeks': 9721, 'marri': 5805, '202': 347, 'factori': 3809, 'groceri': 4385, 'mall': 5753, 'dude': 3409, 'outsourc': 6619, 'justifi': 5263, 'violent': 9587, 'es': 3644, 'pill': 6903, 'issues': 5131, 'sight': 8211, 'lockdow': 5615, 'aust': 1505, 'fm': 4006, 'pandemi': 6689, 'hip': 4626, 'hop': 4681, 'upset': 9443, 'prospect': 7222, 'tl': 9064, 'precautionari': 7085, 'sop': 8397, '3282': 565, '3109': 545, 'thrust': 9028, 'payer': 6780, '133': 135, 'nine': 6343, 'hkt': 4638, '202021': 369, 'sept': 8062, 'walker': 9654, 'empow': 3558, 'shirt': 8152, 'unjust': 9380, 'sanction': 7894, 'nurseri': 6428, 'tran': 9160, 'dental': 3085, 'mali': 5749, 'certif': 2223, 'environment': 3611, 'prog': 7191, 'scottish': 7977, 'curio': 2890, 'undp': 9352, '10day': 58, '82': 920, '87': 934, '83': 922, '5day': 768, 'hollywood': 4658, 'domain': 3333, 'acce': 1033, 'analyt': 1284, 'reboot': 7454, 'encount': 3565, 'tho': 8993, 'grind': 4382, 'polish': 6995, 'capitalist': 2116, 'patil': 6763, 'ondemand': 6511, 'object': 6449, 'durin': 3424, 'badg': 1580, 'incit': 4892, 'unlimit': 9385, 'favor': 3870, 'phe': 6869, '79': 899, 'mn': 6046, 'hopel': 4683, '53': 736, 'b2b': 1558, 'aisha': 1176, 'defici': 3038, 'hint': 4625, 'correctli': 2733, 'kiwi': 5341, 'otherwis': 6586, 'ke': 5290, 'positif': 7036, 'mengikut': 5908, 'negeri': 6279, 'setakat': 8089, 'fantast': 3839, 'corner': 2717, 'organis': 6570, '10m': 60, 'busine': 2042, 'path': 6752, 'integr': 5042, 'foster': 4064, 'leo': 5506, 'king': 5334, 'crave': 2805, 'breach': 1927, '13th': 149, 'temp': 8897, 'api': 1352, 'manila': 5772, 'captiv': 2121, 'greed': 4366, 'patron': 6770, 'squad': 8491, 'underw': 9345, 'unpaid': 9393, 'arm': 1401, '1900': 296, 'greater': 4362, 'noida': 6361, 'clin': 2406, 'pc': 6785, 'titl': 9062, '124': 113, 'recognis': 7478, 'valuabl': 9504, 'carbon': 2126, '73': 869, 'peop': 6815, 'dame': 2937, 'kumar': 5374, 'clark': 2381, 'freak': 4090, 'walkin': 9655, 'n95': 6196, '15000': 187, 'levi': 5520, 'flaw': 3978, 'cigarett': 2348, 'cf': 2227, 'ready': 7436, 'killer': 5326, 'tank': 8845, 'hospita': 4701, 'artisan': 1419, 'them': 8959, 'complic': 2558, '737': 873, 'bleed': 1817, 'stayathom': 8545, 'countless': 2762, 'plain': 6928, 'belgium': 1707, 'informati': 4977, 'overli': 6635, '160': 214, 'recovere': 7488, 'fuel': 4130, 'ray': 7419, 'mod': 6053, 'indonesia': 4937, 'vegan': 9528, 'alik': 1202, 'inevit': 4949, 'yogi': 9944, 'adityanath': 1086, 'priyanka': 7165, 'explos': 3767, 'experience': 3756, 'narrat': 6222, 'simple': 8230, 'councillor': 2754, 'apologis': 1356, 'defens': 3035, 'trum': 9222, 'iranian': 5102, 'chicken': 2307, 'breast': 1935, 'chip': 2320, 'dh': 3155, 'thug': 9030, 'unrest': 9406, 'brag': 1916, 'beer': 1682, 'paranoia': 6710, 'lesser': 5511, 'nearest': 6259, 'academi': 1030, 'orga': 6568, 'helen': 4569, 'difficulti': 3190, 'stamp': 8516, 'camera': 2091, 'singer': 8246, 'eddi': 3477, 'ugandan': 9286, 'deceas': 3003, 'asi': 1433, 'paediatr': 6667, '37000': 604, 'bliss': 1823, 'actress': 1071, 'journey': 5240, 'entertain': 3600, 'aris': 1396, '4th': 710, 'almighti': 1218, 'elon': 3532, 'musk': 6180, 'subsidi': 8669, 'lg': 5522, 'admin': 1091, 'stone': 8587, 'lea': 5462, 'ope': 6537, 'brick': 1950, 'sunshin': 8715, 'pupil': 7286, 'arunach': 1423, 'match': 5826, 'proce': 7173, 'unsaf': 9408, '185': 280, '210': 384, '1600': 215, 'pe': 6790, '17000': 246, 'pand': 6685, 'courier': 2774, 'wifi': 9791, 'tackl': 8817, 'stranger': 8607, 'cricket': 2823, 'terror': 8920, 'underfund': 9328, 'spout': 8477, 'damag': 2936, 'ordin': 6564, 'medical': 5880, 'usd': 9463, 'bail': 1585, 'pakistani': 6676, 'hilari': 4613, 'zoonot': 9978, 'deat': 2990, 'bright': 1956, 'ipl': 5097, 'bcci': 1655, 'creation': 2811, 'ratio': 7413, 'reinstat': 7551, '750': 881, 'box': 1904, 'quantiti': 7321, 'moscow': 6115, 'itd': 5137, 'desir': 3114, 'hug': 4741, 'plate': 6938, 'aposit': 1357, 'saket': 7874, '1968': 309, 'pursuit': 7297, 'jenni': 5194, 'administ': 1092, 'dhh': 3158, 'disastr': 3224, 'turkey': 9247, 'ov': 6623, 'ove': 6624, 'guardian': 4405, 'realist': 7442, 'suck': 8682, 'dairi': 2931, 'obstruct': 6453, 'jerusalem': 5201, 'ganesha': 4170, 'caveat': 2188, '48916': 698, '757': 887, 'pen': 6804, 'implor': 4864, 'rese': 7639, 'astonish': 1458, 'illustr': 4826, 'comparison': 2537, 'som': 8377, 'kinda': 5330, 'drag': 3371, 'approx': 1375, 'eve': 3688, 'princip': 7153, 'vocal': 9618, 'conta': 2655, 'contractor': 2680, 'chairman': 2235, 'narayana': 6218, 'bame': 1598, 'hos': 4696, '1150': 85, 'shove': 8184, 'couldnt': 2751, 'shitti': 8155, 'ravag': 7415, '661': 824, 'rumor': 7827, 'ambiti': 1251, 'pti': 7261, 'amsterdam': 1274, 'fulltim': 4136, 'lifestyl': 5547, 'cole': 2469, 'cardiologist': 2132, 'minute': 6012, 'cris': 2827, 'alarm': 1184, '2016': 342, 'asham': 1430, 'vic': 9558, 'bacteria': 1578, 'topic': 9105, 'secunderabad': 8016, 'finalist': 3941, 'ozon': 6654, 'juic': 5247, 'corridor': 2736, 'soldier': 8367, 'onl': 6520, '232': 419, 'regio': 7532, 'incent': 4889, 'rite': 7757, 'housefli': 4721, 'bre': 1926, 'family': 3833, '120': 101, 'solid': 8369, 'fruit': 4121, 'dialogu': 3167, 'spat': 8430, 'array': 1407, 'quarterli': 7325, 'extent': 3776, 'become': 1676, 'mutual': 6187, 'sip': 8253, 'h1': 4430, 'upsid': 9444, 'dub': 3405, '33': 567, 'hawk': 4523, 'port': 7022, 'blair': 1807, 'curriculum': 2896, 'thrive': 9016, 'guwahati': 4427, 'ep': 3616, 'vacant': 9489, 'stream': 8614, 'librarian': 5534, 'communityl': 2528, 'driven': 3389, 'inabl': 4877, 'aff': 1118, 'dummi': 3415, 'retain': 7687, 'fog': 4010, 'twist': 9264, 'pipe': 6914, 'fighting': 3928, 'cave': 2187, 'terrifi': 8918, 'loud': 5656, 'retire': 7694, 'hype': 4776, 'perpetu': 6837, 'weaker': 9698, 'less': 5509, 'optout': 6558, 'insidi': 5017, 'handshak': 4474, 'remdesivir': 7581, 'tocilizumab': 9072, 'othe': 6583, 'ali': 1198, 'exacerb': 3712, 'chaotic': 2259, 'embassi': 3539, 'hurdl': 4761, '12pm': 125, 'spring': 8486, 'unverifi': 9425, 'uniform': 9369, 'lover': 5664, 'hasnt': 4511, 'crown': 2846, 'pilgrim': 6901, 'flock': 3990, 'pace': 6660, 'courag': 2773, 'abort': 1012, 'variant': 9515, 'afghanistan': 1128, '37': 602, 'sharpli': 8132, 'horrend': 4689, 'bei': 1699, 'emiss': 3546, 'truck': 9217, 'horrifi': 4693, 'tanzania': 8846, '227': 412, 'leap': 5472, 'mere': 5920, 'exceed': 3722, 'logo': 5622, 'margin': 5794, 'exchang': 3726, 'changed': 2253, 'neither': 6288, 'easy': 3454, 'resort': 7656, 'uncertainty': 9314, 'hmm': 4641, 'silenc': 8221, 'suc': 8676, 'neurologist': 6301, 'through': 9021, 'mansion': 5782, 'kitchen': 5339, 'shake': 8112, '70': 853, 'downtown': 3362, 'biometr': 1783, 'changer': 2254, 'preced': 7087, 'times': 9053, 'ethic': 3669, 'increasingli': 4914, 'steps': 8561, 'hse': 4733, 'paul': 6772, 'infodem': 4973, 'jurisdict': 5258, 'hours': 4717, 'dischar': 3229, 'shape': 8123, 'graph': 4348, 'creep': 2818, '382': 610, 'fundament': 4140, 'gr': 4327, 'certainti': 2222, 'auckland': 1488, 'terrif': 8917, 'sub': 8658, 'sixth': 8263, 'succeed': 8678, 'biz': 1799, 'endang': 3568, 'slam': 8278, 'outbrea': 6599, 'tea': 8868, 'perman': 6834, 'rethink': 7692, 'empathet': 3550, 'umm': 9301, 'birx': 1791, 'respiratori': 7663, 'droplet': 3395, 'lac': 5387, 'imf': 4834, 'somewhat': 8386, '6th': 851, 'flew': 3983, 'defi': 3037, 'titan': 9061, 'treason': 9182, 'stoke': 8583, 'recovery': 7492, 'ultraport': 9297, '59': 762, 'mara': 5789, 'concoct': 2584, 'lane': 5409, 'humankind': 4748, 'strand': 8605, 'abject': 1006, 'cooler': 2703, 'somebodi': 8380, 'spoil': 8465, 'fenc': 3904, '97': 973, 'onetim': 6517, 'aboard': 1010, '20k': 380, 'dozen': 3365, 'peru': 6850, 'affected': 1122, 'assam': 1443, 'ev': 3683, '154': 195, '88': 936, '220': 401, 'neck': 6265, 'unequ': 9356, 'safeguard': 7861, 'redefin': 7498, 'solution': 8374, 'lowcost': 5666, 'destin': 3121, 'unlock': 9386, 'cute': 2905, 'pronounc': 7206, 'egg': 3498, 'wreak': 9884, 'amend': 1255, 'prescript': 7113, 'convert': 2694, 'quash': 7326, 'xinjiang': 9906, 'unfair': 9359, 'utter': 9480, 'bollock': 1858, 'lazi': 5459, 'sup': 8716, 'gear': 4202, 'dis': 3216, 'exc': 3720, 'scaremong': 7947, 'which': 9764, 'toda': 9074, 'ideolog': 4803, '1148': 82, 'vanish': 9509, 'jointli': 5228, '153': 193, 'elabor': 3511, 'tedro': 8881, 'adhanom': 1084, 'ghebreyesu': 4241, 'tw': 9256, 'dose': 3350, '126': 117, 'parents': 6717, 'franc': 4078, 'niagara': 6325, 'boat': 1849, '171': 251, 'redund': 7504, 'protein': 7229, 'rna': 7763, '557': 747, 'diet': 3181, 'portal': 7024, 'entitl': 3604, 'eff': 3491, 'immor': 4844, 'fulfil': 4133, 'thei': 8957, 'loo': 5638, 'awe': 1544, 'thin': 8985, 'charli': 2269, 'witch': 9818, 'poland': 6985, 'chil': 2309, 'nigga': 6336, 'dollar': 3332, 'pepper': 6818, 'rubber': 7818, 'grossli': 4387, 'neil': 6287, 'no1': 6356, 'muppet': 6168, 'unsur': 9414, 'dice': 3171, 'bump': 2021, 'elbow': 3512, 'brighter': 1958, 'chant': 2257, 'sunris': 8713, 'directorgener': 3213, 'victorian': 9564, 'reliev': 7572, 'scari': 7948, 'birthday': 1790, 'only': 6524, 'a3': 989, 'taking': 8832, 'detain': 3129, 'prosecut': 7220, 'draft': 3370, 'circular': 2355, 'sock': 8358, 'expat': 3745, 'anc': 1286, 'griev': 4376, 'consol': 2636, 'vp': 9637, 'reward': 7720, 'jacob': 5155, 'bypass': 2059, 'bolt': 1862, 'len': 5501, 'corbyn': 2713, 'bureau': 2028, 'refut': 7523, '4pm': 709, 'hungri': 4758, 'hampshir': 4464, '94': 960, 'cafe': 2067, 'pharmaci': 6864, 'contest': 2669, 'sentenc': 8055, 'patrol': 6769, 'centre': 2215, 'portrait': 7028, 'insta': 5024, '7pm': 906, 'ist': 5132, 'escal': 3645, 'miamidad': 5945, 'rela': 7558, 'liar': 5528, 'edo': 3484, 'ink': 4996, 'figh': 3925, 'salli': 7883, 'median': 5875, '157': 202, 'eua': 3677, 'finland': 3950, 'ethiopian': 3671, 'egypt': 3501, 'sudan': 8684, '100k': 34, 'bi': 1755, 'gtgt': 4400, 'jharkhand': 5209, 'tropic': 9214, 'deforest': 3043, 'wild': 9793, 'tamil': 8841, 'nadu': 6199, 'gdp': 4200, 'jobs': 5220, '196': 308, 'karma': 5281, 'anal': 1278, 'similar': 8226, 'forev': 4038, 'efficaci': 3494, 'charit': 2266, 'ton': 9092, 'carrier': 2149, 'edg': 3478, 'upward': 9450, 'ima': 4828, 'snippet': 8336, '238': 425, 'healt': 4537, 'greatest': 4363, 'fabul': 3793, 'dista': 3281, 'gover': 4317, 'towards': 9127, 'fred': 4091, 'generos': 4213, 'everytim': 3701, 'sha': 8108, 'caseload': 2156, 'onward': 6530, '000': 1, 'exp': 3742, 'towel': 9128, 'backtoschool': 1574, 'lend': 5502, 'clarifi': 2379, 'settlement': 8093, 'susan': 8764, 'behaviour': 1696, 'postpandem': 7051, 'phil': 6872, 'knight': 5349, 'fascism': 3850, 'becaus': 1673, 'chauhan': 2278, 'louder': 5657, 'favour': 3872, 'boo': 1869, 'crypto': 2857, 'seemingli': 8023, 'storytel': 8598, 'suffici': 8690, 'swear': 8780, 'jeremi': 5197, 'asid': 1437, 'reassess': 7451, 'outstand': 6620, 'keynot': 5309, 'han': 4466, 'heed': 4562, 'aw': 1536, 'gateway': 4186, 'valuat': 9505, 'nasdaq': 6226, 'flat': 3975, 'scotu': 7978, 'jennif': 5195, 'uncov': 9322, 'wherea': 9759, 'classic': 2384, 'science': 7965, '1320': 134, 'nomin': 6364, 'riddl': 7734, 'blm': 1824, 'unknown': 9381, 'snack': 8326, 'jim': 5212, 'comic': 2501, 'vow': 9636, 'hrs': 4732, 'iso': 5123, 'homicid': 4668, '20192020': 346, 'mor': 6100, 'hungari': 4756, 'critical': 2833, 'thailand': 8942, 'fought': 4066, 'malnutrit': 5754, 'famil': 3829, 'parcel': 6713, 'grew': 4373, '40000': 631, '2010': 336, 'before': 1686, 'horizon': 4686, 'shelv': 8142, 'ff': 3913, 'steam': 8552, 'ross': 7798, 'mail': 5719, 'errand': 3641, 'cio': 2350, 'payout': 6782, 'depriv': 3099, 'presum': 7125, 'oop': 6534, 'hmrc': 4643, 'strongli': 8633, 'retir': 7693, 'predictor': 7094, 'magnitud': 5714, 'locallytransmit': 5611, 'had': 4438, 'publ': 7265, 'promin': 7200, 'diver': 3300, 'thrown': 9026, 'just': 5260, 'hal': 4451, 'alma': 1217, 'redesign': 7499, 'flout': 3996, 'backyard': 1577, 'invas': 5080, 'judgement': 5245, 'neighbour': 6285, 'neighbourhood': 6286, 'mustread': 6183, 'scott': 7975, 'entrepreneur': 3606, 'frie': 4106, 'flag': 3971, 'loyal': 5672, 'abu': 1025, 'dhabi': 3156, '278': 485, 'suppor': 8732, 'presidenti': 7120, 'sec': 8004, 'occas': 6458, 'vast': 9520, 'catchup': 2174, 'wine': 9806, 'catalog': 2169, 'kzn': 5380, '338': 573, 'grea': 4360, 'retreat': 7696, 'ky': 5378, 'grass': 4352, 'bbmp': 1651, 'spam': 8425, 'kg': 5310, 'rice': 7726, 'cod': 2453, 'refrain': 7517, 'eid': 3504, 'oyo': 6653, '191': 297, 'midnight': 5962, '43': 653, 'okinawa': 6491, 'discoveri': 3240, 'tablet': 8816, 'hammer': 4462, 'oo': 6531, 'suitabl': 8696, 'fraud': 4086, 'janta': 5178, 'setup': 8094, 'rebound': 7455, 'ide': 4797, 'nike': 6341, 'contrast': 2683, 'influe': 4968, 'promo': 7202, 'willing': 9800, 'infograph': 4974, 'beij': 1700, 'infecte': 4956, 'samples': 7892, 'digest': 3192, 'deck': 3012, 'vent': 9538, 'days': 2971, 'stood': 8588, 'mea': 5854, 'react': 7428, 'disappoint': 3221, 'xi': 9904, 'jinp': 5214, 'pit': 6916, 'radic': 7356, 'dharavi': 3157, 'suppo': 8731, 'plug': 6962, 'cal': 2073, 'esi': 3647, 'testifi': 8927, 'repair': 7605, 'cream': 2808, 'intens': 5047, 'soft': 8360, 'wearabl': 9703, 'wrist': 9887, 'dawn': 2968, '78k': 898, 'warrant': 9676, 'simplifi': 8233, '27th': 487, 'decisionmak': 3011, 'inact': 4879, 'kiosk': 5336, 'vend': 9533, 'trave': 9177, 'nati': 6230, 'log': 5618, 'needi': 6269, 'si': 8199, 'nah': 6204, 'displac': 3269, 'singapor': 8244, 'pure': 7291, 'trajectori': 9159, 'opera': 6541, 'lowincom': 5669, 'partners': 6736, 'complaint': 2549, 'arjun': 1398, 'loung': 5661, 'pend': 6808, 'formal': 4046, 'nor': 6376, 'deaf': 2984, 'loop': 5642, 'pul': 7276, 'oximet': 6651, 'bullish': 2019, 'benchmark': 1718, 'hydrat': 4773, 'condition': 2588, 'naira': 6207, 'healthier': 4542, 'andanar': 1291, 'neglect': 6280, 'leade': 5464, 'q2': 7305, 'mill': 5983, 'delet': 3051, 'thoroughli': 8998, 'wider': 9788, 'sticker': 8569, 'amongst': 1269, 'seismic': 8028, 'costco': 2741, 'dev': 3138, 'splash': 8462, 'sindh': 8242, 'comp': 2531, 'urin': 9456, 'rock': 7776, 'scrap': 7980, 'countr': 2763, 'incorpor': 4907, 'caribbean': 2141, 'tend': 8906, 'ecommerc': 3466, 'psych': 7253, '150000': 188, 'preciou': 7088, 'grill': 4380, 'anger': 1302, 'ish': 5117, 'curiou': 2891, 'axe': 1548, '11am': 97, 'doc': 3314, 'monument': 6095, 'forti': 4057, 'youd': 9950, 'jai': 5157, 'icmr': 4790, 'sus': 8763, 'speci': 8436, 'brian': 1948, 'prot': 7224, 'indepth': 4923, 'william': 9798, 'clinician': 2408, 'ador': 1099, 'quietli': 7343, 'harbour': 4490, 'comm': 2503, 'blatant': 1812, 'depict': 3093, 'moh': 6065, 'bicycl': 1760, 'shun': 8195, 'buse': 2037, 'widen': 9787, '366': 600, 'metaanalysi': 5926, 'retent': 7690, 'branch': 1920, 'basket': 1638, 'uncondit': 9319, 'nex': 6317, 'moder': 6056, 'infant': 4952, 'supplier': 8730, 'cha': 2231, 'paint': 6672, 'ng': 6320, 'minister': 6005, 'rare': 7407, 'regardless': 7528, 'manip': 5773, 'athlet': 1466, 'bounc': 1897, 'vide': 9566, 'jet': 5204, 'gif': 4247, 'confidenti': 2603, 'bomb': 1863, 'bunker': 2026, 'friends': 4109, 'dump': 3416, '360': 598, 'indigen': 4933, 'covaxin': 2780, 'japanes': 5181, 'twenti': 9261, 'rover': 7810, 'intub': 5076, 'gl': 4261, 'marvel': 5810, 'essex': 3656, 'scenario': 7949, '2030': 375, 'again': 1143, 'inflat': 4966, 'sta': 8498, 'english': 3582, 'iq': 5099, 'reinfect': 7549, 'inflammatori': 4965, 'challenges': 2242, '800': 909, 'top10': 9104, 'patel': 6750, 'suppress': 8737, 'weird': 9725, 'bear': 1663, 'sanwoolu': 7906, 'resolut': 7653, 'ordinari': 6565, 'awkward': 1547, 'td': 8866, 'newest': 6309, 'curr': 2892, 'zone': 9975, '02': 11, 'tom': 9090, 'september': 8064, '2025': 374, 'chan': 2246, '101': 36, 'fiverr': 3967, 'enquiri': 3589, 'meadow': 5855, 'chri': 2336, 'confess': 2600, 'cabin': 2063, 'michel': 5948, 'theater': 8952, 'hubei': 4740, 'testing': 8930, 'momentum': 6076, 'pioneer': 6912, 'hancock': 4467, 'doing': 3330, 'whil': 9765, 'oth': 6582, 'sheer': 8137, 'postal': 7043, 'num': 6420, '1700': 245, '4k': 707, 'ben': 1716, '12000': 103, 'eh': 3502, 'pencil': 6807, 'pari': 6718, 'riski': 7756, 'sar': 7908, 'serolog': 8076, 'identif': 4801, 'sand': 7896, 'alright': 1232, 'boast': 1848, 'torn': 9106, 'blown': 1835, 'tide': 9039, 'detent': 3132, 'clap': 2375, 'incr': 4910, 'sydney': 8798, 'afghan': 1127, 'literaci': 5583, 'tube': 9235, 'fraudul': 4088, 'thr': 9007, 'harsh': 4504, 'vardhan': 9512, 'workshop': 9854, 'bbq': 1653, 'reserv': 7644, 'explod': 3764, 'impli': 4862, 'scratch': 7981, 'compl': 2546, 'frankli': 4083, 'tiger': 9042, 'cuz': 2908, '80k': 914, 'feast': 3883, 'label': 5383, 'wwii': 9901, 'tan': 8844, 'femal': 3902, 'giv': 4257, 'andi': 1294, 'organiz': 6571, 'wfh': 9745, 'pcoo': 6786, 'superb': 8718, 'aberdeen': 1001, '104': 46, 'interv': 5065, 'recycl': 7495, 'throug': 9020, '1pm': 321, 'pass': 6741, 'farright': 3847, 'acro': 1062, 'translat': 9167, 'gilead': 4252, 'shouldv': 8181, 'po': 6971, 'crew': 2821, 'rugbi': 7822, 'nig': 6333, 'wari': 9672, 'repeatedli': 7610, 'reput': 7631, 'turnaround': 9252, 'hottest': 4714, 'simplest': 8231, 'grandma': 4342, 'vendor': 9534, 'noon': 6373, 'radiat': 7355, 'clos': 2415, 'demolish': 3073, 'artwork': 1421, 'swept': 8786, 'imprison': 4872, 'kolkata': 5360, 'fi': 3915, '𝗦𝗔': 9996, '𝗚𝗹𝗼𝗯𝗮𝗹': 9993, 'fertil': 3906, 'pentagon': 6813, 'ft': 4123, 'rippl': 7750, 'house': 4720, 'properti': 7213, 'manipur': 5775, 'handi': 4470, 'thai': 8941, 'gorgeou': 4309, 'youngest': 9954, 'bri': 1947, '11pm': 98, 'fifth': 3922, 'phantom': 6861, 'calendar': 2077, 'scan': 7940, 'nagar': 6202, 'medal': 5871, '650': 816, 'militia': 5981, 'bargarh': 1619, 'bilater': 1771, 'geograph': 4224, 'gi': 4245, 'eco': 3464, 'unproven': 9400, 'tortur': 9108, 'distinguish': 3288, 'shiva': 8156, 'auspici': 1503, 'nag': 6200, 'panchami': 6683, 'cardboard': 2128, 'barron': 1625, 'madra': 5705, 'inund': 5077, 'repatri': 7606, 'circuit': 2353, 'filthi': 3937, 'discard': 3227, 'yearold': 9926, 'overnight': 6637, 'milk': 5982, 'berri': 1728, 'breakfast': 1931, 'spit': 8460, 'sham': 8115, 'frozen': 4120, 'inconsist': 4905, 'childhood': 2312, 'congressman': 2619, 'lives': 5593, 'duri': 3423, 'tender': 8907, 'dinner': 3204, 'br': 1909, 'largescal': 5420, 'nang': 6215, 'dave': 2965, '247': 437, 'chi': 2305, 'saint': 7872, '108': 54, 'outweigh': 6622, 'rebecca': 7453, 'blackpink': 1805, '4m': 708, 'abstract': 1022, '5yearold': 775, 'ph': 6860, 'visamo': 9602, 'bopal': 1879, 'underprivileg': 9335, 'rupert': 7834, '25072020': 448, 'sl': 8277, 'std': 8547, 'cleanli': 2391, 'taiwanes': 8825, 'quiz': 7345, '194': 306, '250000': 447, 'turmoil': 9250, 'marriag': 5806, 'cogniz': 2459, 'lineup': 5569, 'undocu': 9351, 'seattl': 8003, 'metropolitan': 5937, 'bullet': 2016, '11000': 67, 'tight': 9043, 'rape': 7402, 'nvax': 6434, 'lifetim': 5548, 'glori': 4275, 'hole': 4652, 'tbh': 8862, 'patent': 6751, 'steep': 8554, 'assert': 1447, 'filtrat': 3938, 'cau': 2178, 'crap': 2802, 'floyd': 4000, 'pig': 6899, 'trailer': 9153, 'stor': 8592, 'dnc': 3312, 'bra': 1910, 'saf': 7859, 'ru': 7816, 'soil': 8363, 'mandir': 5768, 'ayodhya': 1551, 'mid': 5956, 'poorest': 7010, 'skin': 8272, 'nobl': 6358, 'profess': 7184, '2day': 518, '147': 169, 'holder': 4651, 'bundl': 2024, 'wheel': 9753, 'mentor': 5912, 'permit': 6836, 'prior': 7156, 'fri': 4103, 'quickly': 7341, 'minnesota': 6009, 'schools': 7960, 'plight': 6959, 'banker': 1607, 'abhishek': 1002, 'superstar': 8725, 'nois': 6362, 'rand': 7393, 'allegedli': 1207, 'tremend': 9190, 'sharehold': 8126, 'ebook': 3459, 'bestsel': 1732, '1825': 277, 'flulik': 4003, 'dimens': 3199, 'proclam': 7178, 'audit': 1493, 'vari': 9513, 'vagu': 9498, 'doubledigit': 3353, 'certain': 2220, 'radar': 7354, 'metric': 5935, 'danish': 2945, 'ty': 9272, 'deloitt': 3061, 'duqu': 3420, 'kochi': 5358, 'lightli': 5551, 'relianc': 7570, 'genderbas': 4209, 'oc': 6457, 'beacon': 1661, 'dinein': 3202, 'society': 8355, '180k': 273, 'enclos': 3564, 'walkthrough': 9656, 'mankind': 5777, 'hopeless': 4684, 'dictat': 3173, 'prob': 7169, 'web': 9709, 'mic': 5946, 'merced': 5916, 'pal': 6677, 'richard': 7728, 'mum': 6165, 'buri': 2031, 'caution': 2182, 'intro': 5073, 'shell': 8140, 'osha': 6579, 'ins': 5009, 'rn': 7762, 'plac': 6924, 'slash': 8280, '21000': 385, 'interven': 5066, 'disput': 3273, 'ame': 1253, 'hindi': 4621, 'brunch': 1987, 'cretin': 2820, 'mute': 6186, 'abnorm': 1008, 'sugar': 8691, 'guarante': 4403, 'petrol': 6857, 'ramif': 7386, 'ww2': 9900, 'tcell': 8864, '421': 644, '996': 981, 'socalled': 8345, 'raw': 7418, 'bachchan': 1566, 'profoundli': 7190, 'italian': 5136, 'reunit': 7702, 'cannabi': 2108, 'imo': 4849, 'flush': 4004, 'wearing': 9707, 'sleeper': 8285, 'chop': 2330, 'partisan': 6733, 'ghost': 4244, 'roam': 7768, 'zurich': 9980, 'vaccines': 9496, 'prote': 7225, 'antivaccin': 1333, 'socal': 8344, 'tournament': 9123, 'format': 4047, 'remitt': 7588, 'pacif': 6661, 'menstrual': 5909, 'fin': 3939, 'nairobi': 6208, 'collater': 2474, 'agra': 1154, 'development': 3143, 'jealou': 5187, 'general': 4212, '2013': 339, 'update': 9433, 'satisfact': 7918, 'wellbeing': 9731, 'ag': 1140, '𝒕𝒉𝒆𝒚': 9990, 'coronav': 2722, 'dise': 3246, 'avert': 1532, 'availa': 1525, 'terrorist': 8921, 'prohibit': 7195, 'halt': 4458, 'ocean': 6463, 'latvia': 5436, 'meantim': 5861, 'kyrgyzstan': 5379, 'remaind': 7579, 'virtu': 9595, 'meghwal': 5891, 'slot': 8297, 'ubi': 9281, 'dread': 3379, 'ro': 7765, 'nano': 6216, 'patholog': 6755, '818': 919, '1146': 80, 'sm': 8304, 'salut': 7886, 'cso': 2862, 'ailment': 1165, '159': 207, 'yester': 9936, '187': 288, 'princess': 7152, 'elsewher': 3534, 'releg': 7565, 'android': 1297, 'smartphon': 8312, 'fab': 3791, 'densiti': 3084, 'optic': 6554, 'assault': 1445, 'yell': 9930, '2015': 341, 'blueprint': 1837, 'works': 9853, 'trying': 9231, '151': 191, 'slept': 8289, 'reliv': 7575, 'others': 6585, 'practition': 7075, 'offseason': 6482, '164': 225, 'hands': 4473, 'fare': 3843, 'saying': 7934, 'shambl': 8116, 'governme': 4320, 'estonia': 3662, 'disrespect': 3275, 'suddenli': 8686, 'differen': 3186, 'greec': 4365, 'rct': 7423, 'unravel': 9401, 'smartest': 8311, 'untold': 9419, 'stud': 8639, 'conflat': 2608, 'together': 9080, 'between': 1739, 'teeth': 8885, 'dust': 3426, 'strive': 8628, 'seo': 8057, 'gig': 4249, 'descript': 3110, '261': 464, 'ami': 1262, 'mismanag': 6028, 'databas': 2958, 'dirti': 3215, 'nepali': 6291, 'manmad': 5778, 'burger': 2030, 'vlog': 9615, 'vest': 9551, 'hp': 4728, 'malevol': 5748, 'conclus': 2583, 'wen': 9735, 'confir': 2605, 'pup': 7285, 'ceas': 2200, '146': 167, 'exit': 3741, '911': 951, 'aamp': 992, 'bandana': 1602, 'milli': 5986, 'chair': 2234, '612': 792, 'election': 3518, 'liquid': 5576, 'dilemma': 3196, 'newsweek': 6315, 'sensor': 8053, 'satur': 7923, 'toast': 9070, 'sorrow': 8402, 'qld': 7312, 'defeat': 3030, 'adventur': 1105, 'famou': 3835, 'cn': 2434, '144': 164, 'meaning': 5858, 'bhi': 1750, 'hai': 4443, 'deterior': 3134, 'repor': 7617, 'mission': 6030, 'rioter': 7748, 'yediyurappa': 9928, 'vector': 9526, 'vacc': 9492, 'convict': 2696, 'bleach': 1815, 'ict': 4792, 'garcetti': 4176, 'hillsborough': 4616, 'wayn': 9693, 'ken': 5297, 'palli': 6680, 'ent': 3595, 'ku': 5370, 'slump': 8303, 'huh': 4743, 'librari': 5533, 'wk': 9826, 'versu': 9548, 'butt': 2049, 'subscribe': 8665, 'billionair': 1775, 'bull': 2015, 'coin': 2465, 'jack': 5150, 'nuclear': 6417, 'biolog': 1781, 'nengi': 6289, 'worldwide': 9861, 'baat': 1561, 'mathura': 5833, 'rocket': 7777, 'scien': 7963, 'colorado': 2486, 'allergi': 1208, 'immunolog': 4847, 'apprenticeship': 1371, 'afloat': 1129, 'ethealthworld': 3668, 'geniu': 4215, 'lanc': 5403, 'kemp': 5296, 'hk': 4637, 'elearn': 3516, 'hang': 4476, 'formul': 4050, 'agricultur': 1157, 'smith': 8320, 'provi': 7238, 'dealer': 2986, 'instrument': 5036, 'economist': 3472, 'ace': 1052, 'cerb': 2218, 'wid': 9785, 'himss': 4619, 'linkedin': 5573, 'steer': 8555, 'derang': 3105, 'unpredict': 9398, 'socioeconom': 8356, 'atleast': 1471, 'ministry': 6007, '50k': 725, 'bein': 1701, 'pint': 6911, 'muhammad': 6155, 'brighten': 1957, 'reportedli': 7620, 'wilson': 9802, 'isra': 5126, 'monetari': 6079, 'tonn': 9097, 'ui': 9292, 'mlb': 6044, 'cathol': 2177, 'southwest': 8416, 'flip': 3988, 'workfromhom': 9847, 'checkpoint': 2289, 'newton': 6316, 'econo': 3468, 'deflect': 3042, 'evacu': 3684, 'hypothet': 4780, 'dismantl': 3260, 'settl': 8092, 'returne': 7700, 'trash': 9175, 'afte': 1135, 'isi': 5118, 'subsid': 8668, 'lawmak': 5449, 'parliamentari': 6723, 'hrbartend': 4731, 'incre': 4911, 'sunflow': 8711, 'indict': 4931, 'political': 6998, 'pos': 7031, 'applaud': 1365, 'worke': 9843, 'juri': 5257, 'forth': 4055, 'czech': 2923, 'coming': 2502, 'geez': 4204, 'cali': 2079, 'mer': 5914, 'spreader': 8483, 'sevic': 8100, 'shark': 8128, 'bhadrak': 1744, 'rli': 7761, 'doctorsi': 3317, 'par': 6700, 'satisfactori': 7919, '24013': 432, 'includin': 4897, '1030': 43, 'drum': 3400, 'pot': 7054, 'pan': 6682, 'frame': 4076, 'legendari': 5493, 'stagnant': 8510, 'harvest': 4506, 'gut': 4426, 'vincent': 9582, 'revolut': 7717, 'abuja': 1026, 'friendship': 4110, 'prevail': 7131, 'bent': 1726, 'fairli': 3818, 'jordan': 5234, 'luxembourg': 5693, 'litig': 5585, 'carniv': 2144, 'funder': 4141, 'numer': 6425, 'underway': 9346, '8th': 943, 'alter': 1235, 'inse': 5011, 'cork': 2716, 'booz': 1878, 'indiabloom': 4927, 'manage': 5761, 'shoulder': 8179, 'socialist': 8351, 'some': 8379, 'betray': 1735, 'por': 7019, 'ericsson': 3640, 'infrar': 4979, 'gen': 4207, 'multidisciplinari': 6160, 'interior': 5057, 'differenti': 3188, 'freelanc': 4094, 'ncdcgov': 6253, 'muscl': 6175, 'joint': 5227, 'catalyst': 2171, 'discourag': 3238, 'grassroot': 4353, 'pu': 7262, '105': 47, 'blast': 1811, '1200': 102, 'pst': 7252, 'cardiovascular': 2133, 'ganjam': 4172, 'sundargarh': 8708, 'chemist': 2296, '944': 963, 'mainli': 5724, 'spa': 8421, 'mainten': 5727, 'puja': 7274, 'mole': 6071, 'breakup': 1934, 'notion': 6397, 'deadlier': 2981, 'starvat': 8533, 'util': 9475, 'def': 3028, 'rehab': 7542, 'packet': 6664, 'ebola': 3458, 'manner': 5780, 'medscap': 5886, 'equiti': 3633, 'athom': 1467, 'expedit': 3749, '35000': 588, '74': 874, 'smoothli': 8325, 'hairdress': 4448, 'bush': 2038, 'baker': 1588, 'thoughts': 9004, 'mas': 5813, 'quebec': 7328, 'modul': 6063, 'helicopt': 4570, 'massag': 5821, 'ego': 3499, 'luxuri': 5694, 'trudeau': 9218, 'totalitarian': 9114, 'otv': 6589, 'oral': 6560, 'complement': 2551, 'pardon': 6714, '1920': 302, 'reimpos': 7548, 'dam': 2935, 'diari': 3170, 'urgenc': 9454, '138': 144, 'contempl': 2664, 'ii': 4814, 'mos': 6114, 'tally': 8839, 'shine': 8150, 'sizzl': 8265, 'wallac': 9659, 'primarili': 7147, 'breathless': 1940, 'linger': 5570, 'quarantine': 7323, 'georg': 4227, 'launder': 5444, 'mafia': 5707, 'nr': 6411, '522': 732, 'q4': 7307, 'iraq': 5103, 'ancient': 1288, 'greek': 4368, 'cage': 2069, 'civic': 2367, 'lowkey': 5670, 'paranoid': 6711, 'bst': 1994, 'esteem': 3660, 'reconstruct': 7483, 'misus': 6035, 'cfo': 2228, 'sw': 8772, 'restaurants': 7673, 'beverag': 1740, 'tenni': 8909, 'shanghai': 8120, 'bare': 1618, 'hockey': 4648, 'aspir': 1441, 'ultim': 9296, '140': 151, 'imbal': 4832, 'comorbid': 2530, '106': 50, 'police': 6989, '243': 433, 'scapegoat': 7943, 'bett': 1737, 'martial': 5808, 'tru': 9216, 'smooth': 8323, 'patien': 6759, 'superspread': 8724, 'healthy': 4543, 'poison': 6983, 'landlord': 5406, 'poli': 6987, 'preven': 7134, 'inhibit': 4986, 'tribun': 9199, 'nat': 6229, 'ful': 4132, '152': 192, 'rub': 7817, 'editor': 3481, 'blanket': 1810, 'slight': 8292, 'coo': 2699, 'breakout': 1932, 'corp': 2729, 'hum': 4745, 'netflix': 6297, 'worthwhil': 9873, 'guatemala': 4406, 'sheriff': 8145, 'hackathon': 4436, 'amo': 1267, 'welp': 9733, 'loc': 5608, '22nd': 415, 'steel': 8553, 'patch': 6749, '96': 969, 'behav': 1694, 'footi': 4024, 'mob': 6050, 'adv': 1102, 'salon': 7884, 'hometown': 4665, 'strap': 8608, '51': 726, 'medicov': 5883, 'doctors': 3316, 'oregon': 6566, 'protestor': 7231, 'f1': 3789, 'doesn': 3324, 'yale': 9911, 'condom': 2592, 'infam': 4951, '340': 576, 'laura': 5446, 'barr': 1621, 'leaf': 5468, 'blower': 1834, 'decent': 3006, 'swamp': 8776, 'muse': 6176, 'alumnus': 1239, 'kazakhstan': 5289, 'bolivia': 1857, '66': 823, 'unstopp': 9412, 'yeah': 9923, 'starv': 8532, 'autism': 1515, 'gloom': 4274, 'benefici': 1720, 'vs': 9638, '70k': 861, '8am': 940, 'dentist': 3086, 'alongsid': 1224, 'appal': 1359, 'bonu': 1868, 'dismiss': 3261, 'qualifi': 7319, 'vape': 9511, 'lawrenc': 5450, 'kung': 5375, 'cochair': 2451, 'longstand': 5635, 'bloodi': 1829, 'tulsa': 9241, 'whine': 9768, 'reel': 7506, 'den': 3077, 'vulnerable': 9640, 'careless': 2137, '103yearold': 45, 'oldest': 6496, 'drove': 3396, 'infection': 4960, 'iowa': 5092, '2006': 330, 'buddi': 2002, '353': 589, 'tighter': 9045, 'coupon': 2772, '161': 220, 'ghana': 4239, 'bastard': 1640, '849431': 928, 'sprea': 8481, 'aircraft': 1171, 'namast': 6211, 'stole': 8584, 'prosecutor': 7221, 'downward': 3364, 'highland': 4604, 'acc': 1032, 'important': 4867, 'safest': 7864, 'hacker': 4437, 'highway': 4610, 'rant': 7399, 'trader': 9145, 'uniti': 9376, 'waiv': 9648, 'bust': 2047, 'sibl': 8200, '377': 607, 'paulo': 6774, 'gsk': 4396, 'bia': 1756, 'needl': 6270, 'dakota': 2932, 'sacrif': 7852, 'wind': 9804, 'const': 2640, 'bhadraknergundi': 1745, 'jajpur': 5162, 'disregard': 3274, 'hedg': 4561, '228': 413, 'postcovid19': 7046, 'phoenix': 6881, 'sniffer': 8334, 'firefight': 3956, '259': 457, 'dat': 2956, 'slave': 8282, 'clerk': 2396, '10pm': 61, 'botch': 1891, 'ian': 4784, '2002': 328, 'hesit': 4593, '937': 959, 'vip': 9588, 'qua': 7315, 'reed': 7505, 'agains': 1144, 'unprecedented': 9397, 'colombia': 2483, '287': 496, 'quack': 7316, 'warm': 9673, 'injur': 4993, 'las': 5424, 'capitol': 2117, 'honor': 4678, 'faero': 3813, 'woah': 9828, 'partli': 6734, 'andrew': 1296, 'prone': 7205, 'reco': 7476, 'dispar': 3264, '272': 480, 'clearer': 2394, '234': 422, 'ir': 5100, 'reuter': 7705, 'pla': 6923, 'analys': 1281, 'roman': 7785, '8000': 910, 'exclud': 3729, 'yeste': 9935, 'respit': 7664, 'methanol': 5931, 'wealth': 9699, 'conceiv': 2575, 'theyll': 8977, 'swiss': 8793, 'peril': 6830, '343': 578, 'melt': 5896, 'investor': 5084, 'unexpect': 9358, 'solutions': 8375, 'advers': 1106, '300k': 531, 'blatantli': 1813, 'taylor': 8860, 'swift': 8787, '456071': 669, 'everything': 3700, 'reconsid': 7482, 'muzzl': 6188, 'deadliest': 2982, '197': 310, 'harmoni': 4501, 'char': 2261, 'yatra': 9918, 'stem': 8558, 'essenc': 3652, 'tobacco': 9071, 'apt': 1380, 'unifi': 9368, 'bonni': 1867, 'henri': 4580, 'adrian': 1100, 'blew': 1820, 'calif': 2080, 'thumb': 9031, 'bracelet': 1912, 'rem': 7577, 'cheaper': 2281, 'enact': 3563, 'residenti': 7648, 'af': 1117, 'inning': 5000, 'complicit': 2559, 'hannah': 4478, 'resembl': 7643, 'inner': 4999, 'moreov': 6105, 'civilian': 2369, 'unawar': 9309, 'phenomenon': 6871, 'grown': 4394, 'unti': 9416, 'bug': 2007, 'hypocrit': 4779, 'undermin': 9333, '302': 534, 'city': 2366, 'sarawak': 7910, '10k': 59, 'geometr': 4225, '34602': 583, 'defenc': 3033, 'mont': 6088, 'positiv': 7037, 'newborn': 6307, 'teen': 8883, 'nature': 6238, 'recept': 7466, 'ipo': 5098, 'yellow': 9931, 'au': 1487, 'exper': 3753, 'atm': 1472, 'symposium': 8802, 'bahrain': 1584, 'coul': 2749, 'slice': 8290, 'because': 1674, 'belgian': 1706, '2022': 371, 'intl': 5070, 'depth': 3101, 'received': 7464, 'desk': 3115, 'pho': 6880, 'contrari': 2682, 'salad': 7875, 'busin': 2041, 'dash': 2954, 'worsthit': 9869, 'squar': 8492, 'subway': 8675, 'thu': 9029, '68': 835, 'backup': 1575, 'interdepend': 5052, 'rahe': 7361, 'countryif': 2767, 'sense': 8050, '887': 937, '433': 655, 'bathroom': 1644, 'equival': 3634, 'injustic': 4995, 'borrow': 1886, 'repay': 7607, 'regd': 7529, 'overlook': 6636, 'cb': 2189, '30pm': 540, 'balconi': 1591, 'los': 5648, 'pin': 6908, 'coun': 2752, 'epic': 3620, '180': 269, 'optimist': 6556, 'really': 7446, 'freeli': 4095, 'epap': 3618, 'frontrunn': 4119, 'hospi': 4698, 'prop': 7208, 'ksh': 5369, 'plus': 6965, '225': 409, 'cox': 2795, '314': 551, 'lame': 5401, 'classifi': 2385, 'autumn': 1521, 'daytoday': 2972, 'larri': 5423, 'ave': 1528, 'structur': 8635, 'primat': 7148, 'lunat': 5688, 'biweekli': 1798, 'anticovid19': 1326, 'dia': 3161, 'vxrt': 9641, 'miseri': 6021, 'devo': 3147, '12th': 126, 'chemistri': 2297, 'rome': 7787, 'illumin': 4824, 'del': 3047, 'evidencebas': 3706, 'doin': 3329, 'background': 1570, 'fujian': 4131, 'rev': 7706, 'entiti': 3603, 'submit': 8662, 'carol': 2145, 'abolish': 1011, 'kevin': 5307, 'destruct': 3123, 'cor': 2712, 'beef': 1680, '299': 515, 'fre': 4089, '7th': 907, 'poet': 6977, 'soo': 8391, 'waiver': 9649, 'reciev': 7470, 'leaders': 5466, 'hunter': 4760, '115': 84, 'panchayat': 6684, 'goi': 4293, 'died': 3179, 'famin': 3834, 'akin': 1179, 'started': 8529, 'mil': 5974, '3x': 627, 'spo': 8464, 'antonio': 1336, 'extremist': 3785, 'decim': 3009, 'roy': 7812, 'anticip': 1325, 'postcovid': 7045, 'renown': 7598, 'plummet': 6963, 'madam': 5701, 'playoff': 6948, 'sober': 8342, 'already': 1231, 'meghalaya': 5890, '135': 139, 'roundup': 7807, 'panelist': 6693, 'conduc': 2593, 'guidebook': 4414, 'jacket': 5152, 'comrad': 2570, 'cup': 2881, 'does': 3323, 'cons': 2624, 'mourn': 6130, 'affe': 1120, 'merci': 5919, 'mbb': 5847, 'whenev': 9756, 'guinea': 4419, 'psychiatrist': 7255, 'tree': 9188, 'testi': 8926, 'cle': 2388, 'ivf': 5146, 'iot': 5091, 'censorship': 2209, 'guidelines': 4416, 'ice': 4787, 'alrea': 1229, 'alwar': 1241, 'congrat': 2614, 'loui': 5658, 'cub': 2868, 'mightydutchman': 5969, 'maldiv': 5745, 'tape': 8849, 'fleet': 3982, 'feminist': 3903, 'tirelessli': 9058, 'fig': 3924, 'poignant': 6980, 'peninsula': 6809, 'liquor': 5577, 'portfolio': 7025, '280': 489, 'sigh': 8210, 'stu': 8637, 'lmao': 5601, 'sex': 8103, 'americ': 1258, 'visionari': 9606, 'endors': 3572, 'hongkong': 4677, 'cou': 2746, 'college': 2480, 'substanc': 8670, 'gro': 4384, 'rosi': 7797, 'tribut': 9200, '5pm': 772, 'menu': 5913, '15k': 210, 'fiction': 3917, 'dp': 3366, 'millio': 5987, 'sundergarh': 8710, 'rayagada': 7420, 'columbia': 2489, 'bruh': 1986, 'cab': 2062, 'stall': 8515, 'justif': 5262, '002': 6, 'omar': 6503, 'understat': 9341, 'wiser': 9815, 'rash': 7408, 'familiar': 3831, 'legit': 5496, 'active': 1068, 'should': 8178, 'since': 8239, 'mit': 6036, 'disinform': 3257, '107': 52, 'smear': 8315, 'risen': 7753, 'saddest': 7856, 'fundrais': 4142, 'glob': 4269, 'monsoon': 6086, 'malaria': 5741, 'homi': 4667, 'shocker': 8160, 'onset': 6525, 'idaho': 4796, '6000': 778, 'choice': 2326, 'lov': 5662, 'lick': 5539, 'sinai': 8237, '20000': 326, 'anita': 1306, 'retest': 7691, 'jam': 5165, 'diy': 3307, 'reliabl': 7569, 'satir': 7917, 'nt': 6414, 'off': 6470, 'hamilton': 4461, 'pant': 6696, 'spice': 8453, 'arrog': 1410, 'series': 8071, 'forprofit': 4052, 'outta': 6621, 'iamppr': 4783, 'etsi': 3675, 'kamrup': 5278, 'herman': 4589, 'cain': 2071, 'galleri': 4161, 'contempt': 2666, 'pdf': 6789, 'ummm': 9302, 'expend': 3750, 'skyrocket': 8276, 'whoa': 9774, 'citat': 2360, 'layoff': 5458, 'favipiravir': 3869, 'staterun': 8537, 'sic': 8201, 'credenti': 2815, 'positi': 7035, 'ivermectin': 5144, 'cisco': 2357, 'enterpris': 3599, 'remote': 7592, 'mississippi': 6031, 'beggar': 1689, 'antivaxx': 1334, 'navi': 6242, 'mis': 6018, 'beginning': 1691, 'nsw': 6413, 'tyrann': 9276, 'singaporean': 8245, 'ccp': 2194, 'uphold': 9438, 'und': 9323, 'ineffect': 4945, 'kim': 5327, 'critiqu': 2835, 'antivir': 1335, 'gratitud': 4356, 'wallet': 9660, 'aftermath': 1137, 'lamp': 5402, 'mata': 5825, 'orient': 6574, '400000': 632, 'backlog': 1572, '9000': 946, 'vax': 9522, 'thos': 8999, '174': 259, 'craig': 2801, 'probe': 7171, '64': 807, 'steroid': 8563, '1075': 53, 'strictli': 8623, 'maskless': 5815, 'ot': 6581, 'gujarat': 4420, 'workout': 9851, 'naveen': 6241, 'divin': 3304, 'parodi': 6724, 'jackson': 5153, 'suff': 8688, 'latinx': 5434, 'inconveni': 4906, 'cornerston': 2718, 'districtwis': 3294, 'classmat': 2386, 'warren': 9677, 'pie': 6896, '650000': 818, 'calam': 2074, '1147': 81, '119': 96, 'onli': 6521, 'embrac': 3540, 'pact': 6665, 'pastor': 6747, 'traffick': 9149, '102': 38, 'bec': 1669, 'diner': 3203, 'gavin': 4192, '560': 750, 'biomed': 1782, 'californian': 2082, 'socia': 8348, 'muchneed': 6154, 'stopper': 8591, 'script': 7987, 'brush': 1990, 'inbox': 4884, '131': 132, 'extrovert': 3786, 'gcc': 4197, 'lahor': 5394, 'pelosi': 6803, 'ladakh': 5390, 'cruel': 2850, 'percentag': 6822, '268': 473, 'kudo': 5373, 'asleep': 1439, 'ctv': 2866, 'christi': 2338, 'using': 9469, 'snow': 8337, 'yay': 9919, 'streak': 8613, 'hindsight': 4622, 'co2': 2439, 'precovid': 7091, 'endeavor': 3569, 'poverty': 7064, 'upto': 9448, 'thoma': 8994, 'readili': 7434, 'suburban': 8674, 'tc': 8863, 'scanner': 7942, 'bout': 1901, 'diego': 3180, 'boot': 1876, 'workers': 9845, 'infest': 4962, 'texas': 8934, 'clo': 2411, 'devote': 3150, 'inpati': 5004, 'sox': 8419, 'ron': 7788, 'desanti': 3107, 'absorb': 1021, 'bharat': 1747, 'bombay': 1864, 'satan': 7915, 'normalci': 6379, '3day': 622, 'blind': 1821, 'nutriti': 6431, 'nhl': 6323, 'methodolog': 5933, 'correspond': 2735, '747': 877, 'libyan': 5536, 'midmarch': 5961, 'etim': 3673, 'haryana': 4508, '309': 537, 'architect': 1384, 'vintag': 9584, '14day': 182, 'anthem': 1320, 'updates': 9434, 'wou': 9874, 'distant': 3286, 'viewer': 9572, 'reg': 7524, 'few': 3911, 'oct': 6464, 'malwar': 5756, 'cybercrimin': 2912, 'tampa': 8843, 'grandkid': 4341, 'stringent': 8626, 'marginalis': 5795, 'buffoon': 2006, 'ala': 1181, 'golden': 4297, 'darshan': 2952, 'nicol': 6330, 'stunt': 8650, 'radiolog': 7358, 'policy': 6992, 'ltc': 5675, 'lou': 5655, 'indirect': 4934, 'yard': 9916, 'cam': 2087, 'pneumonia': 6969, 'uneasi': 9353, 'crook': 2839, 'gim': 4253, 'snowflak': 8338, 'stockpil': 8582, 'emp': 3549, 'fallout': 3824, 'sack': 7849, 'vitamin': 9613, 'acid': 1057, 'outpour': 6613, 'likel': 5556, 'intel': 5043, 'kansa': 5279, 'nazi': 6244, 'wreck': 9885, 'rick': 7731, 'lad': 5389, 'tuition': 9240, 'curat': 2883, 'bath': 1643, 'posi': 7033, 'preview': 7137, 'jay': 5186, '2627': 466, 'debut': 3000, 'harass': 4488, 'nonessenti': 6368, 'interst': 5064, 'travi': 9179, '663': 827, 'beli': 1708, 'accompani': 1042, 'homes': 4663, 'booster': 1875, 'playbook': 6943, 'payrol': 6783, 'assames': 1444, '0900': 23, 'নক': 9982, 'সম': 9986, 'পৰ': 9983, 'সকল': 9985, 'বপ': 9984, '3500': 587, 'indu': 4940, '100m': 35, 'hondura': 4671, '657': 821, 'bridg': 1952, 'ig': 4811, 'outing': 6607, 'analy': 1280, 'showcas': 8186, 'halloween': 4455, 'influx': 4971, 'slower': 8300, 'notif': 6395, 'intrigu': 5072, 'impair': 4854, 'willingli': 9801, 'boon': 1873, 'cydi': 2917, 'woe': 9829, 'xma': 9907, 'fridg': 4105, 'sep': 8059, 'fest': 3907, '15m': 211, 'fluid': 4002, 'covidsaf': 2790, 'hh': 4595, 'meaningless': 5859, 'these': 8973, 'outbreaks': 6601, 'papua': 6699, 'negati': 6277, '132': 133, 'rainbow': 7369, 'antifa': 1327, 'humid': 4750, 'bronx': 1978, 'caso': 2163, 'fucker': 4127, 'trustworthi': 9228, 'cohen': 2460, '29th': 516, 'inhal': 4985, 'contamin': 2663, 'official': 6479, 'nake': 6209, 'nc': 6250, 'expe': 3747, 'iowan': 5093, '322': 560, 'censu': 2210, 'dataset': 2960, 'acut': 1074, 'historian': 4633, 'entangl': 3597, 'dole': 3331, 'onsit': 6526, 'subdu': 8659, 'debacl': 2994, 'highlevel': 4605, 'qr': 7313, 'soften': 8361, 'worthi': 9871, 'garment': 4180, 'loosen': 5643, 'banner': 1611, 'clara': 2376, '184': 279, '4267': 650, 'subsequ': 8667, 'contr': 2678, 'laundri': 5445, 'underwear': 9347, 'npr': 6410, 'ranger': 7397, 'pati': 6757, 'yorker': 9947, 'bt': 1995, '1300': 129, 'gaslight': 4183, 'pathway': 6756, 'miser': 6020, '4500': 666, 'officials': 6480, 'pediatrician': 6797, 'rampant': 7388, 'greg': 4372, 'voting': 9634, 'altogeth': 1238, 'notch': 6390, 'vein': 9532, 'therapist': 8967, 'treatmen': 9186, 'simon': 8228, '00113': 2, '00114': 3, 'csmtshm': 2861, '31122020': 547, 'cause': 2181, 'alex': 1194, 'jone': 5232, 'dumbass': 3413, 'conscious': 2627, 'pitcher': 6918, 'benjamin': 1725, 'invis': 5086, 'campbel': 2095, 'contagion': 2661, 'niec': 6332, 'princ': 7151, 'mb': 5846, 'init': 4990, '00115': 4, '00116': 5, 'csmtma': 2860, 'antisci': 1332, 'fudg': 4129, 'remix': 7589, 'twitch': 9266, 'wire': 9811, 'scoop': 7970, 'confeder': 2597, 'popup': 7018, 'snap': 8328, 'awa': 1537, 'cleveland': 2397, 'nolan': 6363, 'ryan': 7844, '173': 255, 'ml': 6042, 'infe': 4953, 'seoul': 8058, 'tennesse': 8908, 'bye': 2057, 'dictatorship': 3174, 'sexi': 8104, 'haiti': 4449, 'pertain': 6848, 'patrick': 6767, 'ultrasound': 9298, 'supplement': 8728, 'aarogya': 994, 'bluetooth': 1838, 'forb': 4027, 'withdrawn': 9821, 'nun': 6426, 'mitch': 6037, 'mcconnel': 5849, 'vile': 9578, 'queensland': 7330, 'ambigu': 1250, 'sacramento': 7851, 'ought': 6592, 'patienc': 6760, 'revok': 7715, 'dna': 3311, 'bride': 1951, 'sheepl': 8136, 'wealthi': 9700, 'reentri': 7509, 'tailor': 8822, 'inte': 5041, 'genocid': 4217, 'richer': 7729, 'poorer': 7009, 'chronicl': 2343, 'mc': 5848, 'insi': 5015, 'mak': 5730, 'easiest': 3450, 'hostil': 4709, 'casual': 2166, 'sti': 8567, 'cybersecur': 2913, 'soccer': 8346, 'selfquarantin': 8039, 'stink': 8577, 'unsettl': 9411, 'nicobar': 6329, 'builder': 2011, 'smarter': 8310, 'unaccept': 9306, 'montana': 6089, 'maximum': 5841, 'testin': 8929, 'greenland': 4370, 'upbeat': 9428, 'wth': 9896, 'bipartisan': 1786, 'mel': 5892, '240': 430, 'vladimir': 9614, 'yang': 9914, 'rider': 7736, 'telegram': 8890, 'perk': 6833, 'oakland': 6442, 'mizoram': 6041, 'ingredi': 4984, 'georgian': 4229, 'contend': 2667, 'potential': 7059, 'surrend': 8754, 'schoo': 7958, 'compens': 2542, 'nashvil': 6227, 'zydu': 9981, 'perfec': 6825, 'wee': 9716, 'fart': 3848, 'pod': 6974, 'foreclosur': 4033, 'charlott': 2270, 'trumper': 9224, 'rump': 7829, 'counsel': 2755, 'evan': 3686, 'pediatr': 6796, 'coron': 2720, 'martin': 5809, '315': 552, 'ferri': 3905, 'debilit': 2996, 'kickstart': 5318, 'haircut': 4447, 'pariti': 6720, 'leverag': 5519, 'jewish': 5207, '192': 301, 'pearl': 6794, 'djt': 3309, '600000': 780, 'remors': 7590, 'supremacist': 8739, 'scope': 7971, 'bing': 1778, 'kno': 5350, 'recap': 7460, 'joel': 5222, 'ford': 4031, 'commenc': 2506, 'emoji': 3547, 'ed': 3476, 'az': 1553, 'sports': 8473, 'emphas': 3552, 'yemen': 9932, 'daniel': 2944, 'tissu': 9060, 'liabl': 5526, 'patio': 6764, 'cue': 2871, 'nephew': 6292, 'trendi': 9192, 'mat': 5824, 'gmc': 4280, 'alberta': 1188, '850': 930, 'gambl': 4164, 'buffalo': 2004, 'yesterd': 9937, 'swallow': 8775, 'lif': 5542, 'paramet': 6708, 'headach': 4533, '117': 92, 'vessel': 9550, 'jerk': 5198, 'dying': 3431, 'latino': 5433, '89': 938, 'brunt': 1989, 'healthcare': 4540, 'dungeon': 3419, 'heartbroken': 4549, 'areas': 1390, 'students': 8644, 'garu': 4182, 'asshol': 1449, 'quagmir': 7317, 'estat': 3659, 'throu': 9019, 'feat': 3884, 'throughput': 9023, 'alpha': 1226, 'afflict': 1125, 'pork': 7020, 'sponsorship': 8471, 'numbers': 6424, 'questions': 7335, 'fintech': 3952, 'surv': 8757, 'hiroshima': 4628, 'coal': 2441, '417': 639, 'calgari': 2078, 'balloon': 1594, 'deficit': 3039, 'hol': 4649, 'bel': 1704, 'refriger': 7519, 'lon': 5625, 'tucker': 9237, 'knowingli': 5353, 'spite': 8461, 'ip': 5094, 'drunk': 3401, 'criterion': 2831, 'cruz': 2856, 'clash': 2382, 'sol': 8364, 'cocktail': 2452, 'challen': 2239, 'faulti': 3867, 'brad': 1913, 'atlanta': 1470, 'halfway': 4453, '750000': 883, 'copper': 2711, 'sch': 7953, 'commerc': 2510, 'faci': 3799, 'pd': 6788, 'endless': 3571, 'unmitig': 9388, '98': 976, 'fema': 3901, 'taint': 8823, 'exce': 3721, 'boredom': 1882, 'comedi': 2498, 'nanci': 6214, 'presi': 7117, 'ameri': 1257, 'ltgt': 5677, 'cashapp': 2159, 'graham': 4336, 'atla': 1468, 'montreal': 6094, 'abdic': 1000, 'residents': 7649, 'yubasutt': 9965, 'sincer': 8240, 'burnout': 2034, 'alaska': 1185, 'satellit': 7916, 'suburb': 8673, 'downfal': 3358, 'vacci': 9493, 'cowork': 2794, 'celtic': 2205, 'iraqi': 5104, 'bars': 1626, 'pillar': 6904, 'sycoph': 8797, 'dumpster': 3417, 'wha': 9747, 'bang': 1603, 'mock': 6052, 'hed': 4560, 'conting': 2674, '871': 935, '121': 106, 'bil': 1770, 'rapist': 7405, 'farewel': 3844, 'void': 9621, 'revolt': 7716, 'jose': 5235, 'coher': 2461, 'clariti': 2380, '30k': 539, 'shannon': 8122, 'exec': 3732, 'dir': 3208, 'lapd': 5416, 'seminar': 8045, 'anyone': 1343, 'goddamn': 4287, 'sharing': 8127, 'baptist': 1613, 'input': 5006, 'manitoba': 5776, 'anything': 1345, 'burst': 2035, 'isabella': 5114, 'safely': 7862, 'wang': 9666, 'presumpt': 7126, 'cowboy': 2793, 'cameron': 2092, 'necessarili': 6264, 'korean': 5363, 'reop': 7602, 'jhu': 5210, '200000': 327, 'eclips': 3463, 'spree': 8485, 'rc': 7422, 'prepare': 7107, 'innat': 4998, 'very': 9549, 'starter': 8530, 'pointless': 6982, 'ignit': 4812, 'outlook': 6610, 'lao': 5413, '1800': 270, '346': 582, 'eaten': 3456, 'sandwich': 7897, 'proportion': 7218, 'maryland': 5812, 'ditch': 3297, 'takeout': 8830, 'eateri': 3457, 'potato': 7055, 'flower': 3998, 'gt10': 4399, 'underserv': 9338, 'wander': 9664, 'businesses': 2045, 'uber': 9280, 'overtak': 6641, 'duh': 3411, 'santa': 7905, 'barbara': 1615, 'distrust': 3295, 'edinburgh': 3479, 'dispel': 3266, 'basin': 1637, 'rainforest': 7371, 'thx': 9035, 'kelli': 5295, 'ran': 7391, 'treasur': 9183, 'respo': 7665, '175': 260, 'malign': 5752, 'deplor': 3094, 'baselin': 1631, '163': 224, 'airplan': 1173, 'fdaapprov': 3878, 'concerns': 2580, 'monster': 6087, 'alien': 1200, 'nuanc': 6416, 'footag': 4022, 'canari': 2102, 'proudli': 7234, '3589': 596, 'outright': 6617, 'analyst': 1283, 'substitut': 8672, 'spectrum': 8442, 'regarding': 7527, 'used': 9465, 'harrow': 4503, 'incomplet': 4902, 'downturn': 3363, 'sma': 8305, 'undertaken': 9344, 'mitchel': 6038, 'grain': 4337, 'zinc': 9971, 'attende': 1480, 'respon': 7666, '296': 508, 'buffet': 2005, 'stanislau': 8523, 'unpopular': 9395, 'comprehend': 2564, 'thou': 9001, 'ftc': 4124, 'bravo': 1923, '13000': 130, 'tsunami': 9233, 'epidemic': 3624, 'bound': 1898, 'americans': 1261, 'backlash': 1571, 'fla': 3970, 'drew': 3382, 'flown': 3999, '5x': 774, 'rona': 7789, 'campus': 2098, 'too': 9098, 'dow': 3356, 'poi': 6979, 'overdos': 6631, 'billboard': 1773, 'experts': 3760, 'greatli': 4364, 'virginia': 9592, 'envis': 3612, 'ama': 1245, 'dd': 2975, 'paramed': 6707, 'gasp': 4184, 'betsi': 1736, 'arena': 1391, '160000': 217, 'commu': 2520, '505': 721, 'fanci': 3837, 'photograph': 6884, 'elementari': 3524, 'paso': 6740, 'spoken': 8467, 'jamaica': 5167, 'outag': 6597, 'sd': 7993, 'reluct': 7576, 'tougher': 9118, 'national': 6234, 'hd': 4529, 'furnitur': 4149, 'toughest': 9119, 'diff': 3184, 'misguid': 6022, '662': 826, 'amus': 1275, 'manual': 5784, 'soulless': 8407, 'flee': 3980, 'increment': 4916, 'brow': 1982, 'issue': 5130, 'monica': 6082, 'feloni': 3899, 'croatia': 2837, 'sierra': 8208, 'leon': 5507, 'requ': 7633, 'offens': 6473, 'val': 9500, 'pennsylvania': 6811, 'jun': 5253, 'garbag': 4175, 'nostalgia': 6387, 'penalti': 6805, 'bingo': 1779, 'stil': 8573, 'tamilnadu': 8842, 'miniseri': 6002, 'unintend': 9372, 'ponder': 7005, 'boomer': 1872, 'trophi': 9213, 'greedi': 4367, 'scumbag': 7992, 'wakeup': 9651, 'extract': 3780, 'outperform': 6612, 'tnxp': 9068, 'htbx': 4735, 'srne': 8496, 'sneaker': 8331, 'forrest': 4053, 'shar': 8124, 'arkansa': 1399, 'impa': 4851, 'stolen': 8585, 'indirectli': 4935, 'decenc': 3005, 'telugu': 8896, 'element': 3523, 'bob': 1850, 'algorithm': 1197, 'restrictions': 7676, '300000': 528, 'worldomet': 9859, 'norwegian': 6385, 'oven': 6625, 'chees': 2292, 'schumer': 7961, 'population': 7016, '321': 559, 'silent': 8222, 'thompson': 8995, 'interim': 5056, 'restroom': 7677, 'vacation': 9491, 'ecosystem': 3474, 'incur': 4918, 'bas': 1627, 'cooki': 2701, 'inconsider': 4904, 'molecul': 6072, '830': 923, 'prevention': 7136, 'vermont': 9545, 'cutout': 2906, 'chemic': 2295, 'reagent': 7439, 'choke': 2328, 'impo': 4865, '458': 670, 'teachers': 8871, 'communitybas': 2527, 'uygur': 9485, 'twit': 9265, 'incorrect': 4908, 'unoffici': 9391, 'inaccur': 4878, 'madrid': 5706, 'covidiot': 2788, 'nap': 6217, 'something': 8384, 'bizarr': 1800, 'bogu': 1853, 'oppo': 6545, 'tf': 8937, 'inconclus': 4903, '149000': 179, '284': 495, 'abbott': 998, 'detai': 3126, 'cart': 2151, 'persuad': 6847, 'mull': 6158, 'survive': 8761, 'reinvent': 7553, 'lit': 5581, 'cabl': 2065, 'obtain': 6454, 'musician': 6179, 'slaveri': 8283, 'sac': 7848, 'commemor': 2505, 'psa': 7249, 'sciencebas': 7966, 'miner': 5996, 'woul': 9875, 'curbsid': 2885, 'pickup': 6893, 'numbe': 6422, 'inv': 5078, 'orang': 6561, 'hemispher': 4578, 'pussi': 7299, 'slaughter': 8281, '265': 471, 'parol': 6725, 'bake': 1587, 'thermal': 8970, 'bois': 1855, 'azithromycin': 1556, 'president': 7119, 'aussi': 1504, 'possible': 7041, '60k': 786, 'rave': 7416, 'scho': 7956, '401': 634, 'oath': 6443, 'lash': 5425, 'lnp': 5603, 'essential': 3655, 'checkin': 2286, 'katrina': 5286, 'ottawa': 6588, 'vac': 9488, 'rece': 7461, 'ipa': 5095, 'murdoch': 6171, '507': 723, 'article': 1416, 'cord': 2714, 'dorm': 3349, 'marion': 5799, 'admir': 1094, 'morbid': 6103, 'clock': 2412, 'hcw': 4528, '75000': 882, 'forthcom': 4056, 'seth': 8091, 'pp': 7067, 'onboard': 6507, 'grandchild': 4340, 'buhari': 2009, 'trumpi': 9225, 'sophi': 8398, 'repercuss': 7611, 'thirti': 8990, '1030am': 44, 'retard': 7689, 'stra': 8600, 'similarli': 8227, 'rear': 7449, 'sap': 7907, 'toni': 9095, 'turkish': 9248, 'atlant': 1469, 'gown': 4325, 'vers': 9546, 'trait': 9157, 'sci': 7962, 'agai': 1142, 'unemployment': 9355, 'coward': 2792, 'crude': 2849, 'graviti': 4358, 'chuck': 2344, '190': 295, 'hardwar': 4498, 'dewin': 3151, '70000': 856, 'excl': 3728, '2007': 331, 'nyt': 6439, 'orlando': 6576, 'uncontrol': 9321, 'toe': 9078, 'coleman': 2470, 'dealt': 2987, 'marc': 5791, 'thesi': 8974, 'preliminari': 7099, 'backbon': 1568, '61': 789, 'reiter': 7554, 'aest': 1116, 'punch': 7280, 'calle': 2084, 'nearbi': 6258, 'b4': 1559, 'imho': 4835, 'caldwel': 2076, 'truste': 9227, 'firsthand': 3960, '2012': 338, '1102': 69, 'indefinit': 4921, 'circu': 2352, 'uncomfort': 9318, 'northwest': 6383, 'oneday': 6513, '20200726': 351, 'malic': 5750, 'toolkit': 9101, '1015': 37, 'regi': 7530, 'sean': 7998, 'manchest': 5763, 'exemplari': 3734, 'audac': 1490, 'judici': 5246, 'populist': 7017, 'poorli': 7011, 'syria': 8808, 'warehous': 9670, 'electron': 3522, 'scientists': 7969, 'groundbreak': 4389, '2072': 378, '869': 933, 'ooh': 6532, 'chal': 2237, 'defector': 3032, 'dodgi': 3321, 'ret': 7685, 'broward': 1983, 'blunder': 1839, '80000': 911, 'hardli': 4496, 'dep': 3088, 'cardiac': 2129, '917': 952, '459': 671, 'burial': 2032, 'empower': 3559, 'indiffer': 4932, 'highthroughput': 4609, 'subsaharan': 8663, 'years': 9927, '26000': 462, '4781': 686, 'mann': 5779, '16m': 241, 'mahant': 5715, 'curtail': 2897, 'articul': 1417, '270': 478, 'eduardo': 3487, 'rodriguez': 7779, 'xinfadi': 9905, 'situ': 8259, '443': 660, 'nonmed': 6369, 'accommod': 1041, 'untrac': 9420, '2110': 387, 'affirm': 1124, 'tunnel': 9243, 'malta': 5755, 'sympathi': 8801, 'descend': 3108, '1593': 209, '998': 982, 'ei': 3503, 'resource': 7658, 'tertiari': 8922, 'brooklyn': 1979, 'energy': 3576, 'proceed': 7175, 'superpow': 8723, 'halo': 4457, 'nw': 6435, 'pi': 6890, '639': 805, 'cow': 2791, 'recit': 7473, 'hanuman': 4479, 'chalisa': 2238, 'maxim': 5840, 'supp': 8727, 'duck': 3408, '𝗗𝗲𝗹𝗵𝗶': 9992, '𝗠𝗼𝗱𝗲𝗹': 9995, 'stanford': 8522, 'imm': 4836, 'hou': 4715, 'rail': 7364, 'aunti': 1500, 'worthless': 9872, 'broker': 1977, '120000': 104, '710': 864, 'poc': 6972, 'pak': 6674, 'sotto': 8404, 'sequenc': 8065, '67000': 831, '384': 612, 'genius': 4216, 'condo': 2590, 'afp': 1130, 'befo': 1684, '434': 656, '655': 820, 'lb': 5460, 'sikkim': 8220, 'grey': 4374, 'hm': 4639, 'moan': 6049, 'um': 9299, 'defer': 3036, 'bitcoin': 1796, 'related': 7561, 'dunde': 3418, 'pharmacist': 6865, 'remark': 7580, 'wheelchair': 9754, '1376': 143, '219': 397, 'kenyatta': 5303, 'solitari': 8371, 'delivery': 3060, '311': 546, 'unreport': 9405, 'hahaha': 4441, 'pizza': 6921, '239': 426, 'malawi': 5742, 'motto': 6127, 'clever': 2398, 'horn': 4688, '2800': 490, 'customers': 2903, 'allo': 1212, 'uschina': 9462, 'whop': 9779, '149398': 180, '230': 417, 'fitbit': 3965, 'lau': 5437, '389': 613, 'inclu': 4894, 'jab': 5148, '312': 548, 'medica': 5878, 'celeb': 2201, 'compa': 2532, 'eng': 3578, 'lengthi': 5505, 'length': 5504, 'slowdown': 8299, 'thier': 8983, 'presser': 7122, 'demolit': 3074, 'prez': 7141, '15th': 212, 'please': 6955, 'hind': 4620, 'sketch': 8268, 'ott': 6587, 'prudent': 7248, 'sk': 8266, 'persever': 6840, 'pier': 6898, 'rainfal': 7370, 'sr': 8493, 'jong': 5233, 'eno': 3586, 'ing': 4983, 'dislik': 3258, 'emergency': 3542, 'psychosoci': 7259, 'accident': 1039, 'goat': 4285, 'ampamp': 1272, 'tyrant': 9278, 'darwin': 2953, 'interfer': 5054, 'jair': 5161, 'minion': 6001, 'lebanon': 5481, 'mink': 6008, 'fur': 4146, 'envoy': 3613, 'cull': 2872, 'demo': 3069, 'hay': 4524, '942': 962, 'pathogen': 6754, '20m': 381, 'ugh': 9288, 'underreport': 9336, 'vo': 9617, '48661': 696, '1385522': 146, 'called': 2085, 'importantli': 4868, 'derail': 3103, 'amateur': 1246, 'denounc': 3083, 'needed': 6268, '30000': 527, 'reporting': 7621, '6am': 848, '1am': 317, 'raina': 7368, 'isolation': 5125, 'clare': 2377, 'illus': 4825, 'kennedi': 5298, '705': 858, '19th': 316, 'gavi': 4191, 'distan': 3282, 'brett': 1943, 'utmost': 9477, '325': 562, 'unscientif': 9409, 'chec': 2284, 'panick': 6695, 'yeh': 9929, 'conven': 2690, 'output': 6614, '908': 948, 'imper': 4858, 'tirupati': 9059, 'nd': 6254, 'richest': 7730, 'culpabl': 2873, 'supposedli': 8736, 'feasibl': 3882, 'om': 6501, 'throwback': 9025, 'ic': 4786, 'prolif': 7197, 'website': 9713, 'heist': 4566, 'lnm': 5602, 'parallel': 6706, 'deli': 3053, '26072020': 463, 'sociopath': 8357, 'ping': 6909, 'modrnhealthcr': 6062, 'lobbi': 5607, 'goer': 4290, 'loca': 5609, 'cd': 2195, 'smallest': 8308, '328': 564, 'mckinsey': 5851, 'turbul': 9245, 'candl': 2107, 'provok': 7246, 'gloriou': 4276, 'bot': 1890, 'dprk': 3367, '811': 917, 'kaesong': 5271, 'bun': 2022, 'vmsnew': 9616, 'concret': 2585, 'aluva': 1240, 'cna': 2435, 'kaur': 5287, 'sarpanch': 7911, 'advocaci': 1114, '60000': 779, '1785': 264, 'dt': 3402, '162': 222, 'strategy': 8612, 'consortium': 2638, 'audio': 1492, 'latter': 5435, 'uneth': 9357, '4315709': 654, 'worrisom': 9864, 'worklif': 9850, '316': 554, 'patnaik': 6766, 'peddl': 6795, 'garlic': 4179, 'onion': 6519, 'yoga': 9943, 'idk': 4806, 'mal': 5739, 'swiftli': 8788, 'laycon': 5455, 'punjabi': 7284, 'needle': 6271, 'virologist': 9594, '611': 791, 'tco': 8865, 'fifti': 3923, 'governm': 4319, 'manoj': 5781, 'manifest': 5771, 'snake': 8327, 'admi': 1090, 'office': 6477, 'hater': 4514, 'solar': 8365, 'bond': 1865, 'censor': 2208, 'zubiri': 9979, 'ghmc': 4243, 'blend': 1818, 'contributor': 2685, 'crappi': 2803, '25389': 451, '15928': 208, 'secretariat': 8011, 'enorm': 3587, '8483': 926, '1919': 300, '16291331': 223, '442263': 659, '250k': 449, '816': 918, 'bamboo': 1597, 'gh': 4238, 'disco': 3235, '32063': 558, 'chairperson': 2236, 'cautious': 2185, 'mantra': 5783, 'swan': 8777, 'leonard': 5508, 'rollout': 7784, 'coatsworth': 2447, 'gamechang': 4166, 'rajkot': 7378, '463': 677, 'holist': 4656, 'loyalti': 5673, 'novavax': 6403, 'crackdown': 2799, 'bradley': 1915, 'spac': 8422, 'tel': 8887, 'breathabl': 1939, 'franchis': 4079, 'cardin': 2130, 'transplant': 9172, 'rodrigo': 7778, 'malakpet': 5740, 'seir': 8027, 'aurora': 1502, 'nahi': 6205, 'sole': 8368, 'acr': 1061, 'rotten': 7800, '467882': 678, '453': 668, 'viewpoint': 9573, 'tak': 8826, 'lowrisk': 5671, '6392': 806, 'diminish': 3200, 'nucleic': 6418, 'gee': 4203, 'yt': 9964, 'metal': 5928, 'thecabl': 8954, 'appetit': 1363, 'metabol': 5927, 'hoard': 4645, 'jagan': 5156, 'shameless': 8118, 'hospitals': 4705, 'happe': 4482, 'madison': 5704, 'cst': 2864, '500k': 718, 'rehabilit': 7543, 'whic': 9763, 'netanyahu': 6296, '9yearold': 988, 'federal': 3891, 'cuba': 2869, 'oneg': 6514, 'vc': 9523, 'perez': 6824, 'inquir': 5007, 'ghanaian': 4240, 'infring': 4981, 'lakhmark': 5399, 'sabha': 7846, 'cyclon': 2916, 'daunt': 2964, 'urumqi': 9458, 'smoothi': 8324, 'reimburs': 7547, 'lunaci': 5687, 'shade': 8109, '1165': 91, 'verg': 9543, 'signatur': 8215, 'ranchi': 7392, 'todo': 9077, 'steadili': 8550, 'modiji': 6061, 'synthet': 8807, 'dumbest': 3414, 'dope': 3348, '9200': 954, 'including': 4898, 'ski': 8269, 'unus': 9422, 'regain': 7525, 'msme': 6146, 'getting': 4237, 'complete': 2553, 'brussel': 1991, 'bhutan': 1754, '794': 901, '18000': 271, 'prophylact': 7215, 'khurda': 5314, '730': 870, 'seriously': 8074, 'superhero': 8719, 'studen': 8641, 'shenzhen': 8144, 'ol': 6493, 'fierc': 3920, 'profound': 7189, 'taco': 8818, 'butter': 2050, 'honey': 4675, 'കണക': 9987, 'കൾ': 9989, 'comple': 2550, 'microbiologist': 5951, 'convey': 2695, 'overtaken': 6642, '2400': 431, '596': 766, 'roar': 7769, 'passiv': 6744, 'absent': 1018, 'toss': 9110, '1day': 318, 'mig': 5966, 'chaudhari': 2277, 'secondmost': 8007, 'chloroquin': 2322, 'hindustan': 4624, 'darbhanga': 2946, 'childr': 2313, 'tmc': 9065, 'gem': 4206, 'q1': 7304, 'takeaway': 8828, 'monoclon': 6085, 'denver': 3087, 'entrepreneurship': 3608, '358': 595, 'birmingham': 1788, 'clinton': 2409, 'globalist': 4272, 'rabbit': 7348, 'jonathan': 5231, 'decept': 3007, 'aotearoa': 1349, 'bailout': 1586, '551': 746, 'gtgtgt': 4401, 'however': 4727, 'ounc': 6593, 'poetri': 6978, '175000': 261, 'vot': 9629, 'measl': 5864, 'franci': 4080, 'variabl': 9514, 'nl': 6353, 'sacr': 7850, '186': 283, 'confirmed': 2607, 'contac': 2656, 'dive': 3299, 'spew': 8451, 'prophylaxi': 7216, 'hardesthit': 4495, 'gd': 4199, 'include': 4896, 'pave': 6776, 'req': 7632, 'impac': 4852, 'mural': 6169, 'hitler': 4635, 'reson': 7655, 'cro': 2836, 'dismal': 3259, 'hubbi': 4739, 'needs': 6273, 'deb': 2993, 'serial': 8070, 'receipt': 7462, '603': 782, 'laughter': 5442, 'nerv': 6293, 'sneak': 8330, 'proclaim': 7177, 'str': 8599, '6yearold': 852, 'yday': 9920, 'deta': 3125, 'pfizer': 6859, '488': 697, 'voti': 9632, 'rot': 7799, 'aaron': 995, '165000': 227, 'broad': 1970, 'wr': 9881, 'scar': 7944, '671': 832, 'imma': 4837, 'multisystem': 6164, 'shopifi': 8165, 'despite': 3120, '450': 665, 'delus': 3063, 'qualif': 7318, 'awhil': 1546, 'postiv': 7048, 'button': 2052, 'brainwash': 1918, 'lib': 5529, 'imperson': 4860, 'drill': 3384, 'azar': 1554, 'shockingli': 8161, '941': 961, 'mohd': 6067, 'ninja': 6344, 'fai': 3814, 'rd': 7424, 'overcrowd': 6630, 'negative': 6278, 'landscap': 5408, 'tol': 9086, 'twelv': 9260, 'petti': 6858, 'lookin': 5640, 'portray': 7029, 'paradis': 6704, 'measures': 5866, 'needlessli': 6272, 'privatis': 7163, 'saga': 7867, 'ineptitud': 4947, 'phrase': 6886, 'gari': 4178, 'alok': 1220, 'cities': 2363, 'nutshel': 6432, 'gc': 4196, 'fiddl': 3918, 'bylaw': 2058, 'seropreval': 8077, 'vodka': 9619, '511': 727, 'sayin': 7933, 'assumpt': 1455, 'groups': 4391, 'rica': 7725, '1000000': 30, 'goon': 4306, 'dur': 3421, 'accuraci': 1050, '948': 965, '448': 663, 'picnic': 6894, 'alone': 1222, '233': 421, '077': 19, 'merchant': 5918, 'freight': 4098, 'speaking': 8434, 'yourself': 9958, 'example': 3719, 'selfemploy': 8034, 'murray': 6173, 'sleepi': 8286, 'nba': 6246, 'fisher': 3963, 'cnbc': 2436, 'sceptic': 7952, 'chatbot': 2275, '2023': 372, '1473': 170, 'dirt': 3214, 'interrupt': 5062, 'alexand': 1195, 'frank': 4082, 'mampa': 5758, '26892': 474, 'clarif': 2378, 'commod': 2516, 'demograph': 3072, 'jake': 5164, '149849': 181, '16806803': 237, '32771': 563, 'livestock': 5594, 'rejoic': 7556, '20200727': 352, 'liking': 5559, '1435453': 162, '49931': 705, 'notori': 6398, '27072020': 479, 'academia': 1031, '708': 859, 'analog': 1279, 'perish': 6832, '170': 244, 'especially': 3650, 'asean': 1427, '14000': 153, 'colle': 2475, 'worldbeat': 9858, '1503': 189, '501': 719, 'av': 1522, 'rx': 7843, 'coloni': 2484, '354': 590, '532': 738, '212': 388, 'augus': 1497, 'shaken': 8113, 'sermon': 8075, 'backdrop': 1569, 'visakhapatnam': 9601, 'token': 9084, 'imped': 4856, '324': 561, 'cdn': 2197, 'expatri': 3746, 'reemerg': 7508, 'imaginari': 4831, 'hq': 4729, 'preschool': 7111, 'toi': 9081, 'inflict': 4967, 'disadvantag': 3218, '515472': 729, 'closest': 2419, 'erupt': 3643, 'jain': 5159, 'freshman': 4102, 'roundtabl': 7806, '485114': 695, '506': 722, 'algeria': 1196, 'crumbl': 2853, 'iceland': 4788, 'nv': 6433, 'perstat': 6846, 'meas': 5863, 'were': 9738, 'ww': 9899, 'living': 5597, 'buck': 2000, 'kay': 5288, 'ak': 1177, 'nm': 6354, 'coma': 2492, 'undetect': 9348, 'hepat': 4581, 'crpf': 2847, 'thur': 9032, 'vista': 9610, 'rake': 7379, 'caretak': 2139, 'communi': 2522, 'monkey': 6084, 'illog': 4823, 'gigi': 4250, 'ahm': 1160, 'coverup': 2783, 'published': 7270, 'clutch': 2429, 'ugc': 9287, 'det': 3124, '999': 983, 'turmer': 9249, 'auction': 1489, 'reevalu': 7510, 'offers': 6475, '447': 662, 'inappropri': 4882, '275': 482, 'lap': 5415, 'fortnight': 4058, 'seeker': 8021, 'communit': 2525, 'dif': 3183, 'lloyd': 5599, 'storag': 8593, '55000': 745, 'kiddo': 5321, '177': 262, 'below': 1714, 'prod': 7180, '24h': 439, 'digniti': 3195, 'andaman': 1290, 'gb': 4195, 'scarc': 7945, 'change': 2252, '345': 581, 'einstein': 3506, 'harden': 4492, 'stellar': 8557, 'bread': 1928, 'willi': 9797, 'gang': 4171, 'sabotag': 7847, 'midwiferi': 5965, 'forese': 4036, 'stigmatis': 8572, 'kota': 5364, 'breastfe': 1936, 'firs': 3958, 'education': 3489, 'flavour': 3977, 'cbd': 2191, 'propel': 7210, '142': 158, 'kidd': 5320, 'hunt': 4759, 'obstacl': 6452, 'q3': 7306, 'scrutini': 7990, 'whitepap': 9772, 'arogya': 1404, 'keto': 5306, 'russel': 7837, 'rewind': 7721, 'consolid': 2637, 'potentia': 7058, 'uhuru': 9291, '45000': 667, 'iss': 5128, 'streamlin': 8615, 'stack': 8503, 'ballot': 1595, '50000mark': 717, 'ruler': 7825, 'khordha': 5313, 'allot': 1214, 'kudlow': 5372, 'fav': 3868, 'remedi': 7582, 'azerbaijan': 1555, 'wher': 9757, 'noncompli': 6366, 'albert': 1187, 'bias': 1757, '263': 467, 'volatil': 9622, 'fiona': 3953, 'sleepless': 8287, 'kia': 5316, 'create': 2810, 'unhing': 9365, 'phish': 6879, 'organizations': 6573, 'd614g': 2924, '379': 608, 'ec': 3460, 'unnecessarili': 9390, 'hallway': 4456, '436': 657, '680': 836, 'zipcod': 9973, 'jen': 5193, 'upsurg': 9446, '709': 860, 'para': 6701, 'boundari': 1899, '18th': 293, 'mnuchin': 6047, 'thorough': 8997, 'vienna': 9568, 'unreli': 9404, 'കള': 9988, 'secondquart': 8008, 'nke': 6351, 'upd': 9430, 'hook': 4680, 'climate': 2404, 'adha': 1083, 'freestyl': 4096, 'employees': 3557, 'undercount': 9326, 'moe': 6064, 'tue': 9238, 'idioci': 4804, 'usher': 9468, 'caravan': 2125, 'contro': 2686, 'dissemin': 3278, 'charl': 2268, '595': 765, 'aa': 991, 'nb': 6245, 'unrol': 9407, 'goodwil': 4304, 'lax': 5453, 'amer': 1256, 'abigail': 1004, 'upskil': 9445, 'eagl': 3438, 'williamson': 9799, 'misc': 6019, 'sociallydistanc': 8352, 'atrisk': 1474, 'satsang': 7922, '209': 379, 'rapper': 7406, 'prov': 7235, 'chandigarh': 2249, 'stanc': 8518, 'offset': 6483, 'coll': 2471, 'scum': 7991, 'albeit': 1186, '2k': 519, 'lm': 5600, 'heartfelt': 4550, '992': 980, '143': 160, 'fathom': 3863, 'strategist': 8611, 'trafalgar': 9147, 'tod': 9073, 'harbing': 4489, '6ft': 849, 'holli': 4657, 'lender': 5503, 'yanke': 9915, 'formerli': 4049, 'carson': 2150, 'lockd': 5614, 'collin': 2482, '178': 263, 'laughabl': 5441, '45pm': 673, 'tp': 9135, 'mold': 6070, 'sf': 8106, 'ref': 7511, 'makin': 5737, '473': 681, 'czar': 2922, 'microchip': 5952, 'gel': 4205, 'followup': 4017, '2b': 517, 'arthur': 1414, 'sharon': 8130, 'deduct': 3020, 'tracing': 9140, 'deborah': 2997, 'lopez': 5646, '90000': 947, '1921': 303, 'prom': 7199, 'jewelri': 5206, 'fraction': 4074, '615': 794, 'insuffici': 5037, 'server': 8083, '200k': 334, 'comedian': 2499, '127': 118, 'jefferson': 5191, '342': 577, 'venezuelan': 9536, 'reminisc': 7587, 'sooooo': 8396, 'lightweight': 5552, 'chen': 2298, 'inca': 4886, 'jon': 5230, 'edmonton': 3483, 'batteri': 1646, 'ecolog': 3465, 'cherri': 2301, 'opti': 6553, 'reus': 7703, 'ano': 1313, 'workspac': 9855, 'glo': 4268, 'pip': 6913, 'surprise': 8751, 'alphabet': 1227, 'ontarian': 6527, 'tegnel': 8886, 'wsj': 9894, 'mailin': 5721, 'furri': 4150, 'stella': 8556, 'quentin': 7331, '586': 759, 'tick': 9037, 'tik': 9046, 'tok': 9083, 'practice': 7073, 'infinit': 4963, 'warsaw': 9679, 'veggi': 9530, 'early': 3444, 'jerri': 5199, 'jeopardi': 5196, '397': 620, 'plans': 6934, 'arsen': 1411, 'traine': 9155, 'conquer': 2623, 'longerterm': 5631, 'gett': 4235, 'von': 9628, 'tradeoff': 9144, 'weari': 9705, 'dishearten': 3254, 'unchang': 9315, 'visi': 9603, 'expenditur': 3751, 'gaiter': 4159, 'lankan': 5412, 'mec': 5868, 'consumer': 2652, 'mater': 5828, 'seve': 8096, 'mailbox': 5720, 'conn': 2620, 'ravi': 7417, 'supervisor': 8726, 'jackass': 5151, 'preve': 7133, 'fleec': 3981, 'tame': 8840, '1215': 108, '406': 635, 'unto': 9418, '572': 753, 'sel': 8030, 'brighton': 1959, 'unseen': 9410, 'frontier': 4117, 'roqu': 7795, '1483': 174, '2005': 329, 'biontech': 1784, 'devel': 3141, '20200728': 353, 'ciso': 2358, 'digita': 3194, '47703': 683, 'laptop': 5417, 'ko': 5356, 'pee': 6798, 'ritual': 7758, '47704': 684, 'booth': 1877, 'castl': 2165, 'dai': 2928, 'marlin': 5804, '1483156': 175, '28107': 492, 'univ': 9377, '332': 570, 'psychiatr': 7254, 'ach': 1054, 'infuri': 4982, '6423': 809, '40k': 636, 'thousands': 9006, 'rifl': 7738, 'dysfunct': 3433, '1610': 221, '5am': 767, 'trichi': 9201, '6424': 810, 'erica': 3639, '496988': 702, '33425': 571, '3380': 574, 'jami': 5170, 'hung': 4755, 'mauritiu': 5838, 'immanuel': 4838, '936': 958, '966': 972, 'sheikh': 8139, '462': 676, 'mg': 5941, 'unanim': 9307, 'pubg': 7264, 'both': 1892, 'trek': 9189, 'glitch': 4267, 'sergio': 8068, '17334885': 257, '528082': 735, 'serve': 8082, 'magistr': 5712, 'ana': 1277, 'lefti': 5487, 'thinking': 8988, 'bone': 1866, 'precipit': 7089, 'renov': 7597, 'cardio': 2131, '00am': 7, 'compris': 2566, 'happy': 4486, 'cheapest': 2282, 'outcri': 6603, 'raja': 7375, '422': 645, 'follo': 4015, '1483157': 176, 'provision': 7244, 'spill': 8455, '810': 916, 'bolster': 1861, 'cartel': 2152, 'concer': 2578, 'pret': 7127, '8m': 941, 'denni': 3082, 'lamborghini': 5400, 'manfr': 5769, '297': 510, 'researc': 7641, 'rampd': 7389, 'eugen': 3678, 'redirect': 7501, 'flame': 3972, 'stir': 8578, 'stair': 8512, 'aye': 1550, 'lyric': 5695, 'kitt': 5340, 'nevus': 6305, '269': 475, 'inhous': 4988, 'mf': 5940, 'midwest': 5964, 'fring': 4112, 'sideeffect': 8206, 'roadmap': 7767, 'marco': 5793, 'worki': 9848, '423': 646, 'antimicrobi': 1331, 'palac': 6678, 'embark': 3537, 'bryan': 1993, 'drugmak': 3399, 'adm': 1089, 'intim': 5069, 'lies': 5541, 'gm': 4279, '229': 414, 'millenni': 5984, 'university': 9379, 'illness': 4822, 'tempt': 8903, '3351': 572, '216': 394, '2024': 373, 'relentless': 7566, '97000': 974, '1101': 68, '1404': 155, 'bribe': 1949, 'epa': 3617, 'funnel': 4144, '20202021': 368, 'closed': 2417, 'bark': 1620, 'covidrel': 2789, 'imbecil': 4833, 'tab': 8814, 'koch': 5357, 'layman': 5457, 'hull': 4744, '226': 410, 'camper': 2096, 'malici': 5751, 'postlockdown': 7049, '803': 913, 'pleasant': 6954, 'bean': 1662, '373': 605, 'jamaican': 5168, 'entrepreneuri': 3607, 'confi': 2601, 'unconscion': 9320, 'jean': 5188, 'medanta': 5872, 'grader': 4333, 'osterholm': 6580, '298': 513, 'brisban': 1963, 'oversight': 6640, 'different': 3187, 'templat': 8900, 'pb': 6784, 'glow': 4278, 'mous': 6131, 'heath': 4553, '610': 790, 'clorox': 2414, 'stfu': 8566, 'mandal': 5764, 'prasad': 7079, 'janet': 5175, 'yearli': 9925, 'globa': 4270, 'wager': 9646, 'revolutionari': 7719, 'predatori': 7092, '1930': 305, 'tongu': 9094, 'legislatur': 5495, '531': 737, '304': 536, 'hospitaliz': 4704, 'livid': 5596, 'trials': 9196, 'grift': 4377, '331': 569, 'rhetor': 7722, 'composit': 2562, '60th': 787, 'stab': 8499, 'deve': 3140, 'ivey': 5145, 'multilater': 6161, 'sadly': 7858, '303': 535, '2x': 523, 'downgrad': 3359, 'autopsi': 1520, 'iom': 5090, 'thanksgiv': 8947, 'fatalities': 3859, 'physical': 6888, 'whoop': 9778, 'motion': 6123, 'lupu': 5691, 'barrel': 1622, 'airbnb': 1169, 'morgan': 6106, '480': 689, 'beshear': 1729, '211': 386, 'barber': 1616, 'retali': 7688, 'occurr': 6462, 'jaw': 5185, 'pur': 7289, '188': 291, 'invok': 5088, 'salesman': 7878, 'jessica': 5202, 'fatality': 3860, 'cohes': 2462, 'fuckin': 4128, 'consensu': 2629, 'according': 1045, 'unrealist': 9402, 'motherfuck': 6122, 'kodak': 5359, 'louie': 5659, 'gohmert': 4292, 'placement': 6926, 'cocain': 2450, 'pandemicrel': 6691, 'medicaid': 5879, 'tnt': 9067, 'coronavirusrel': 2727, 'hotlin': 4712, 'ncaa': 6251, 'uninsur': 9371, 'maarten': 5697, 'rajamouli': 7376, 'ele': 3515, 'pole': 6986, 'rigor': 7744, 'porn': 7021, 'unc': 9311, 'navarro': 6240, 'sniffl': 8335, 'sperm': 8450, 'mtu': 6149, 'memb': 5898, 'psc': 7251, '114994': 83, '5948': 764, 'signag': 8213, 'nbi': 6249, 'kpmg': 5365, 'cest': 2226, 'rundown': 7831, 'ul': 9295, 'yorkshir': 9948, 'mosepel': 6116, 'swipe': 8792, 'bef': 1683, 'peel': 6800, 'sect': 8013, 'paact': 6657, 'landmark': 5407, 'isaia': 5115, 'gale': 4160, 'endem': 3570, '1118': 73, 'nebraska': 6261, 'gui': 4410, 'drc': 3378, 'sig': 8209, 'cosponsor': 2738, 'sanofi': 7904, 'ter': 8912, 'reinforc': 7550, 'registri': 7536, 'lessen': 5510, 'communic': 2523, 'marketplac': 5802, 'lates': 5430, 'compliant': 2557, 'leed': 5485, 'unansw': 9308, 'uturn': 9482, 'nyer': 6438, 'bday': 1658, 'syst': 8809, '414': 638, '329': 566, 'vomit': 9627, '154000': 196, 'lauderdal': 5439, 'tuberculosi': 9236, 'hahn': 4442, 'mubarak': 6151, 'jar': 5182, 'blank': 1809, 'fearless': 3881, 'postcod': 7044, 'contacttrac': 2659, 'wastewat': 9686, 'tutori': 9254, 'philadelphia': 6873, 'disaster': 3223, 'handheld': 4469, 'shrank': 8190, 'tail': 8821, 'fossil': 4063, 'assoc': 1452, 'extraordinarili': 3782, 'proxim': 7247, 'kushner': 5376, 'mojahedin': 6069, 'pmoi': 6968, 'deliver': 3058, 'skull': 8274, 'offlin': 6481, 'nphet': 6409, 'cottag': 2744, 'minutes': 6013, 'jacinda': 5149, 'ardern': 1387, '257': 453, 'uplift': 9439, 'banana': 1600, '5m': 771, 'navajo': 6239, 'electionyear': 3519, 'sim': 8225, 'hu': 4737, 'gosh': 4310, 'hurtigruten': 4765, 'continues': 2677, 'mph': 6140, 'counselor': 2756, 'cashless': 2161, 'inocul': 5003, 'linguist': 5571, '391': 618, 'conducted': 2595, 'redfield': 7500, 'furi': 4147, 'antibiot': 1323, '541': 741, 'anot': 1315, '752': 884, 'supporting': 8734, 'challenge': 2241, 'lest': 5513, 'sanctuari': 7895, 'milwauke': 5991, 'syste': 8810, 'sucker': 8683, '155000': 199, 'eleven': 3527, 'volcano': 9623, 'biker': 1769, 'infor': 4975, 'infectio': 4959, 'hutchinson': 4768, 'broadband': 1971, 'ouch': 6591, '156000': 201, 'bcg': 1656, 'enrich': 3590, 'knife': 5348, 'qb': 7311, 'delawar': 3048, 'epstein': 3628, 'literatur': 5584, 'whistl': 9769, 'tee': 8882, 'ver': 9542, 'vaniti': 9510, 'moor': 6098, '426': 649, 'nasa': 6224, 'epi': 3619, 'gaza': 4194, 'eswatini': 3663, 'untru': 9421, 'aggreg': 1150, 'postmast': 7050, 'character': 2263, 'kildar': 5324, 'laoi': 5414, 'bradford': 1914, '482': 693, '221': 403, 'ble': 1814, 'gubernatori': 4407, 'ousman': 6595, 'darbo': 2947, 'parish': 6719, 'millions': 5990, 'poof': 7006, 'walkup': 9657, 'arlington': 1400, 'coronavir': 2724, 'usp': 9470, 'gcse': 4198, 'roug': 7801, 'newcastl': 6308, 'middleincom': 5959, 'juvenil': 5267, 'detaine': 3130, '3pli': 624, 'scrimmag': 7986, 'clon': 2413, 'dong': 3340, 'pubm': 7271, 'stuf': 8647, 'dissect': 3277, '180000': 272, 'obituari': 6448, 'platelet': 6940, 'governmen': 4321, 'primer': 7150, 'melania': 5893, 'precautions': 7086, 'adjourn': 1087, 'datasourc': 2961, '1917': 298, 'massacr': 5820, 'absente': 1019, 'hefti': 4563, 'outdat': 6604, 'evi': 3703, '262': 465, 'namibia': 6213, 'vascular': 9519, 'isdh': 5116, 'essentia': 3654, 'augu': 1496, 'robinson': 7773, '355': 592, 'philosophi': 6878, '79000': 900, 'lebanes': 5480, 'grijalva': 4379, 'sint': 8252, '5000000': 716, '157000': 203, 'salivabas': 7881, '9642': 971, '3687': 601, '20200801': 354, 'staycat': 8546, 'guide': 4413, 'carnag': 2143, '158000': 205, 'mayo': 5844, '986': 978, 'undergon': 9330, '758': 888, 'avai': 1523, '153000': 194, 'antilockdown': 1329, 'ndtv': 6255, '9601': 970, 'strait': 8604, 'feather': 3885, '301': 532, '1981': 313, 'tow': 9125, 'pima': 6907, 'overlap': 6634, 'soda': 8359, 'afterward': 1139, '894': 939, 'coronavi': 2723, 'bollywood': 1859, 'mutahi': 6184, 'kagw': 5272, 'oak': 6441, 'companion': 2534, 'inst': 5023, 'dietari': 3182, '2589': 455, '930': 957, '1160': 90, 'shenanigan': 8143, 'randeep': 7394, 'guleria': 4421, '1347': 138, 'helper': 4575, '1151': 86, 'dejoy': 3046, '292': 503, '356': 593, 'mighti': 5968, 'instinct': 5032, 'mercer': 5917, 'oncologist': 6510, 'watchdog': 9689, 'vastli': 9521, 'kailash': 5274, '1007': 32, 'significant': 8217, '756': 886, 'narrow': 6223, 'axi': 1549, 'ligu': 5553, 'studentathlet': 8643, 'lga': 5523, '181': 274, '550': 744, 'polynesia': 7003, '20200802': 355, 'astronaut': 1461, 'pac12': 6659, 'ganesh': 4169, 'chaturthi': 2276, 'nit': 6347, 'cesped': 2225, '479': 687, 'dioxid': 3205, '1210': 107, 'cv19': 2910, 'nitian': 6348, 'vía': 9642, '62500': 796, 'justified': 5265, '170000': 247, 'selfcar': 8033, 'cmp': 2433, 'soup': 8409, '499': 704, 'ogun': 6485, 'yan': 9913, 'plaza': 6949, 'n25000': 6195, 'maldivian': 5746, 'whistleblow': 9770, 'limeng': 5561, 'justifie': 5264, '954': 968, 'straightforward': 8602, 'wrath': 9883, 'alr': 1228, 'arun': 1422, 'webber': 9710, 'sturgi': 8653, 'bakeri': 1589, '74th': 879, 'kn95': 5344, 'nov3': 6401, 'rebrand': 7456, 'ramesh': 7385, 'sunak': 8707, '2831': 494, 'devolv': 3148, 'rag': 7359, 'offali': 6471, 'sanjay': 7903, 'hmf': 4640, 'pare': 6715, 'finnish': 3951, '1286': 122, 'siddaramaiah': 8204, 'looter': 5645, 'cen': 2207, 'halv': 4459, '246': 434, 'denmark': 3081, '6631': 828, '1066': 51, '7950': 902, 'cyclist': 2915, '1126': 75, '1665': 230, 'unimagin': 9370, '1855745': 282, '1384': 145, '37681': 606, '38938': 614, '20200804': 356, 'gratia': 4355, '04082020': 14, '52050': 731, 'earl': 3440, 'h1b': 4431, 'dido': 3177, '1000000000': 31, 'tiwari': 9063, 'department': 3090, 'lull': 5686, 'retriev': 7697, 'guilt': 4417, 'brendan': 1942, 'constraint': 2647, '45927': 672, '1855': 281, '64000': 808, 'stabilis': 8501, '586298': 760, 'vijayawada': 9576, 'spurt': 8488, 'improvement': 4875, 'cheroke': 2300, 'udaipur': 9283, 'philhealth': 6874, '3159': 553, 'gaug': 4188, 'footprint': 4025, 'wade': 9644, 'coimbator': 2464, '9210': 955, '182000': 276, '461': 675, 'undisclos': 9349, 'heatwav': 4555, 'referendum': 7513, 'yong': 9945, 'nabarangpur': 6198, 'changes': 2255, 'cbse': 2192, 'sukhram': 8697, 'dissolv': 3279, 'rlftf': 7760, '1151new': 88, 'gospel': 4311, 'surrey': 8755, '6805': 837, 'milano': 5975, '11514': 87, '4002': 633, '2954': 507, 'cruelti': 2851, '255': 452, 'mishap': 6024, '118187': 95, 'pauld': 6773, 'mus': 6174, 'phase2': 6867, 'authoris': 1513, '1438': 163, '7650': 890, 'techn': 8875, 'oldham': 6497, 'msp': 6147, 'gentler': 4222, 'turnkey': 9253, 'serco': 8067, 'socialis': 8350, '279': 486, 'beirut': 1703, 'sugg': 8692, '222': 404, 'kamala': 5277, '5883': 761, '10080': 33, '290907': 502, '1420': 159, '1715': 252, '1544': 197, '08082020': 21, '12822': 120, 'suresh': 8743, 'pujari': 7275, '20200808': 357, 'derailing': 3104, '𝗖𝗼𝗿𝗼𝗻𝗮𝘃𝗶𝗿𝘂𝘀': 9991, '𝘄𝗼𝗿𝗹𝗱𝘄𝗶𝗱𝗲': 9999, '𝗹𝗶𝘃𝗲': 9997, '𝘀𝘁𝗮𝘁𝗶𝘀𝘁𝗶𝗰𝘀': 9998, '6832': 838, '1250': 115, '1307': 131, 'lok': 5623, 'ashraf': 1432, '5043': 720, 'gandagi': 4167, 'chorho': 2331, 'factcheck': 3806, 'maharaj': 5716, 'thorac': 8996, 'nbfc': 6248, 'misunderstand': 6034, 'fifa': 3921, 'ek': 3508, '1982': 314, '20200809': 358, 'mir': 6014, '1734': 258, '2153010': 392, '165070': 228, '6878': 840, '476': 682, '64399': 812, 'unsympathet': 9415, 'neetje': 6275, '2153011': 393, '628747': 797, 'vikrant': 9577, 'dhoni': 3159, '861': 932, '09082020': 24, '1876': 290, 'swarna': 8779, '2964': 509, 'istanbul': 5133, 'hoursth': 4718, 'alevel': 1193, 'scotti': 7976, 'salivadirect': 7882, '687': 839, '1173new': 93, 've11': 9525, 'g7': 4155, 'improvemen': 4874, '1236': 112, '7665': 891, 'pranab': 7078, 'mukherje': 6157, '167000': 232, '1977': 311, 'mouthwash': 6134, 'glfop': 4265, 'peacemak': 6792, 'wv': 9898, 'cansino': 2109, 'janmashtami': 5177, 'gamaleya': 4162, 'muharram': 6156, 'kaha': 5273, 'shrine': 8193, '139538': 148, '2987': 514, 'ddo': 2976, '2268675': 411, '20200811': 359, 'votin': 9633, 'ecd': 3461, '730000': 871, 'sputnik': 8489, '53601': 739, '310000': 544, '693': 842, 'gopal': 4308, '498': 703, '1433': 161, 'trini': 9207, '60963': 785, 'apriljun': 1379, '20200812': 360, 'dishant': 3253, 'yagnik': 9910, '2329638': 420, '4444': 661, '167749': 235, '12082020': 105, 'provisioned': 7245, 'paedophil': 6668, 'ofaugust': 6469, '1897': 292, '834': 924, 'makhura': 5735, 'toowoomba': 9102, '25yearold': 459, '169000': 239, '𝗠𝗢𝗦𝗧': 9994, '56383': 751, 'cadila': 2066, 'nritya': 6412, 'taoiseach': 8847, '20200813': 361, '169131': 240, '52653': 734, '66999': 829, '2396637': 427, 'janmabhoomi': 5176, 'vinayaka': 9581, 'vaishno': 9499, '147526': 171, '3906': 617, '64553': 813, '20200814': 362, '170415': 248, '2461191': 436, '14082020': 156, '2461190': 435, '661595': 825, '48040': 691, 'curevac': 2888, '27694416': 483, '7117': 865, '848728': 927, '167106': 234, 'eod': 3615, 'nov02': 6400, 'tinkl': 9055, '167097': 233, '5248678': 733, '1374': 142, '2244': 408, '2187': 396, '2924': 504, '172606': 254, '20200816': 363, 'sepoy': 8061, 'ramu': 7390, 'dilg': 3197, 'año': 1557, '16082020': 218, '746608': 875, '60050': 781, '2589682': 456, '63489': 800, '49980': 706, '1862258': 284, '60666': 784, '63490': 801, '677444': 834, '1109': 70, '7191': 866, '29309703': 506, '17082020': 249, 'p25': 6655, 'vinta': 9583, '57584': 754, '2647663': 469, 'nishikori': 6346, '7251': 868, '173128': 256, '20200817': 364, 'samaresh': 7889, '30041400': 529, '731697': 872, 'mypillow': 6191, 'egra': 3500, 'chetan': 2303, '57981': 755, '50921': 724, 'oleand': 6498, '57982': 756, '676900': 833, '2647664': 470, 'lindel': 5566, 'onam': 6506, '11119': 72, 'banna': 1610, 'kalamasseri': 5275, '20200818': 365, '785': 896, '122872': 110, 'jmm': 5216, 'shibu': 8147, 'soren': 8400, 'ganpati': 4173, 'bappa': 1612, '2819': 493, '945': 964, '179200': 266, '20200822': 366, '63631': 804, '2975701': 512, '2222577': 405, '34491073': 580, '75537': 885, '69874': 844, '2474': 438, '187249': 289, '4933': 701, '1023836': 41, '2975': 511, '7469': 876, '22082020': 402, '61379': 793, 'ropeway': 7794, 'bhat': 1749, '697330': 843, '4780': 685, '55794': 748, '69878': 845, 'swachhbharat': 8774, '1082': 55, '21august': 398, '54243': 742, '20200830': 367, '3542733': 591, '4284': 651, '78761': 897, 'nirmala': 6345, 'sitharaman': 8258, '30082020': 530, '3014': 533, 'chadwick': 2232, 'acheiv': 1055, '29082020': 501, '186855': 287, '79k': 903, '1055027': 49, '63498': 802, 'boseman': 1888, '60646': 783, 'mercari': 5915, '186568': 285, 'kenosha': 5299, '10500': 48, 'movementpass': 6137}\n"
          ]
        }
      ]
    },
    {
      "cell_type": "code",
      "source": [
        "print(Train_X_Tfidf)"
      ],
      "metadata": {
        "id": "aJ3RqPpj_5J2",
        "colab": {
          "base_uri": "https://localhost:8080/"
        },
        "outputId": "5732ec7f-ca2c-4928-d26a-500599c49e3e"
      },
      "execution_count": null,
      "outputs": [
        {
          "output_type": "stream",
          "name": "stdout",
          "text": [
            "  (0, 9075)\t0.23314617862095663\n",
            "  (0, 7974)\t0.42919361143511414\n",
            "  (0, 4650)\t0.34656232683369664\n",
            "  (0, 4152)\t0.3284576148828056\n",
            "  (0, 3148)\t0.554139467517114\n",
            "  (0, 125)\t0.47578913678507967\n",
            "  (1, 8046)\t0.3457063656943141\n",
            "  (1, 7194)\t0.360394136796339\n",
            "  (1, 6748)\t0.44466551106962254\n",
            "  (1, 6688)\t0.20785858183540407\n",
            "  (1, 6232)\t0.27631688616845707\n",
            "  (1, 5702)\t0.2910304942705596\n",
            "  (1, 3926)\t0.26975055731345526\n",
            "  (1, 3024)\t0.4566957248735831\n",
            "  (1, 2496)\t0.25939246256954185\n",
            "  (2, 8482)\t0.2946636200125008\n",
            "  (2, 8298)\t0.3675328582586364\n",
            "  (2, 7675)\t0.38015247585572703\n",
            "  (2, 6816)\t0.23496889465220475\n",
            "  (2, 5352)\t0.29498477293361935\n",
            "  (2, 4574)\t0.2727138186847275\n",
            "  (2, 3697)\t0.3433162190806219\n",
            "  (2, 3435)\t0.44604364739358376\n",
            "  (2, 2496)\t0.31647568304651325\n",
            "  (3, 9667)\t0.2760270092185996\n",
            "  :\t:\n",
            "  (125371, 5555)\t0.22023431659006512\n",
            "  (125371, 5325)\t0.28570087505049885\n",
            "  (125371, 1011)\t0.5040044365736391\n",
            "  (125372, 4532)\t0.4061098172813791\n",
            "  (125372, 3699)\t0.4149818958510219\n",
            "  (125372, 2416)\t0.3573761356370332\n",
            "  (125372, 2187)\t0.6568343817185125\n",
            "  (125372, 1567)\t0.32204927432487185\n",
            "  (125373, 9857)\t0.27378103901930745\n",
            "  (125373, 9748)\t0.3861681879181735\n",
            "  (125373, 9718)\t0.2925354535700308\n",
            "  (125373, 8827)\t0.26980322498600756\n",
            "  (125373, 7964)\t0.38207747783858625\n",
            "  (125373, 7924)\t0.37168120870844096\n",
            "  (125373, 6311)\t0.28471456137184964\n",
            "  (125373, 5731)\t0.27845462203704474\n",
            "  (125373, 5639)\t0.2871896804400956\n",
            "  (125373, 5514)\t0.3038748278231083\n",
            "  (125374, 9467)\t0.38542064317859753\n",
            "  (125374, 9267)\t0.3287229258977222\n",
            "  (125374, 7618)\t0.19803138865519726\n",
            "  (125374, 6512)\t0.6271763788946625\n",
            "  (125374, 5663)\t0.2670681325425695\n",
            "  (125374, 5652)\t0.2897500627934693\n",
            "  (125374, 3561)\t0.3943919856644086\n"
          ]
        }
      ]
    },
    {
      "cell_type": "code",
      "source": [
        "# Classifier - Algorithm - SVM\n",
        "# fit the training dataset on the classifier\n",
        "SVM = svm.SVC(C=1.0, kernel='linear', degree=3, gamma='auto')\n",
        "SVM.fit(Train_X_Tfidf,Train_Y)\n",
        "# predict the labels on validation dataset\n",
        "predictions_SVM = SVM.predict(Test_X_Tfidf)\n",
        "# Use accuracy_score function to get the accuracy\n",
        "print(\"SVM Accuracy Score -> \",accuracy_score(predictions_SVM, Test_Y)*100)"
      ],
      "metadata": {
        "id": "pNLW7Gzo_8iB",
        "colab": {
          "base_uri": "https://localhost:8080/"
        },
        "outputId": "c03a2ac3-4231-4369-ea79-22c72edcbc57"
      },
      "execution_count": null,
      "outputs": [
        {
          "output_type": "stream",
          "name": "stdout",
          "text": [
            "SVM Accuracy Score ->  98.11289151917816\n"
          ]
        }
      ]
    },
    {
      "cell_type": "code",
      "source": [
        "\n",
        "confusion_matrix(Test_Y,predictions_SVM)"
      ],
      "metadata": {
        "id": "K1uNkas6AALP",
        "colab": {
          "base_uri": "https://localhost:8080/"
        },
        "outputId": "19c2b0f4-7254-482b-bd03-bef52824eb06"
      },
      "execution_count": null,
      "outputs": [
        {
          "output_type": "execute_result",
          "data": {
            "text/plain": [
              "array([[ 6443,    86,   227],\n",
              "       [  152, 31057,   280],\n",
              "       [  206,    63, 15219]])"
            ]
          },
          "metadata": {},
          "execution_count": 17
        }
      ]
    },
    {
      "cell_type": "code",
      "source": [
        "target_names = ['negative -1', 'neutral 0', 'positive 1']\n",
        "print(classification_report(Test_Y,predictions_SVM,target_names=target_names))"
      ],
      "metadata": {
        "id": "RSvsx75JAC7M",
        "colab": {
          "base_uri": "https://localhost:8080/"
        },
        "outputId": "d6bed6e2-7b49-44a8-c754-680a94694edc"
      },
      "execution_count": null,
      "outputs": [
        {
          "output_type": "stream",
          "name": "stdout",
          "text": [
            "              precision    recall  f1-score   support\n",
            "\n",
            "           0       0.95      0.95      0.95      6756\n",
            "           1       1.00      0.99      0.99     31489\n",
            "           2       0.97      0.98      0.98     15488\n",
            "\n",
            "    accuracy                           0.98     53733\n",
            "   macro avg       0.97      0.97      0.97     53733\n",
            "weighted avg       0.98      0.98      0.98     53733\n",
            "\n"
          ]
        }
      ]
    },
    {
      "cell_type": "code",
      "source": [
        "\n",
        "from sklearn.metrics import classification_report"
      ],
      "metadata": {
        "id": "eu3FFKzVAGXS"
      },
      "execution_count": null,
      "outputs": []
    },
    {
      "cell_type": "code",
      "source": [
        "review = \"\"\"I Love stay at home at this pandemic\"\"\"\n",
        "review_vector = Tfidf_vect.transform([review])\n",
        "print(SVM.predict(review_vector))"
      ],
      "metadata": {
        "id": "1nHeyiQXAJO_",
        "colab": {
          "base_uri": "https://localhost:8080/"
        },
        "outputId": "3abf914b-19cf-4be3-e947-6b5c965e20b2"
      },
      "execution_count": null,
      "outputs": [
        {
          "output_type": "stream",
          "name": "stdout",
          "text": [
            "[2]\n"
          ]
        }
      ]
    }
  ]
}