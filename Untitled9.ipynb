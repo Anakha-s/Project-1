{
  "nbformat": 4,
  "nbformat_minor": 0,
  "metadata": {
    "colab": {
      "name": "Untitled9.ipynb",
      "provenance": [],
      "collapsed_sections": [],
      "authorship_tag": "ABX9TyMRRhf+QeS+UZfq8ZLCEa+I",
      "include_colab_link": true
    },
    "kernelspec": {
      "name": "python3",
      "display_name": "Python 3"
    },
    "language_info": {
      "name": "python"
    }
  },
  "cells": [
    {
      "cell_type": "markdown",
      "metadata": {
        "id": "view-in-github",
        "colab_type": "text"
      },
      "source": [
        "<a href=\"https://colab.research.google.com/github/Anakha-s/Project-1/blob/main/Untitled9.ipynb\" target=\"_parent\"><img src=\"https://colab.research.google.com/assets/colab-badge.svg\" alt=\"Open In Colab\"/></a>"
      ]
    },
    {
      "cell_type": "code",
      "execution_count": null,
      "metadata": {
        "id": "qcoYkcAVAECb"
      },
      "outputs": [],
      "source": [
        "import pandas as pd"
      ]
    },
    {
      "cell_type": "code",
      "source": [
        "#data viz pakages\n",
        "import matplotlib.pyplot\n",
        "import seaborn as sns"
      ],
      "metadata": {
        "id": "2SVH3r90Oi5x"
      },
      "execution_count": 3,
      "outputs": []
    },
    {
      "cell_type": "code",
      "source": [
        "#load Dataset\n",
        "df = pd.read_csv(\"covid19_tweets.csv\")\n"
      ],
      "metadata": {
        "id": "fqFi-sZ_Sv-8"
      },
      "execution_count": 7,
      "outputs": []
    },
    {
      "cell_type": "code",
      "source": [
        "#preview\n",
        "df.head()"
      ],
      "metadata": {
        "colab": {
          "base_uri": "https://localhost:8080/",
          "height": 496
        },
        "id": "HN3EnCXNW0sz",
        "outputId": "4ff21967-6cc6-4f05-aa8a-98889128ae2b"
      },
      "execution_count": 8,
      "outputs": [
        {
          "output_type": "execute_result",
          "data": {
            "text/html": [
              "\n",
              "  <div id=\"df-b3f0d961-af62-4f7f-acf4-3bbceb546f25\">\n",
              "    <div class=\"colab-df-container\">\n",
              "      <div>\n",
              "<style scoped>\n",
              "    .dataframe tbody tr th:only-of-type {\n",
              "        vertical-align: middle;\n",
              "    }\n",
              "\n",
              "    .dataframe tbody tr th {\n",
              "        vertical-align: top;\n",
              "    }\n",
              "\n",
              "    .dataframe thead th {\n",
              "        text-align: right;\n",
              "    }\n",
              "</style>\n",
              "<table border=\"1\" class=\"dataframe\">\n",
              "  <thead>\n",
              "    <tr style=\"text-align: right;\">\n",
              "      <th></th>\n",
              "      <th>user_name</th>\n",
              "      <th>user_location</th>\n",
              "      <th>user_description</th>\n",
              "      <th>user_created</th>\n",
              "      <th>user_followers</th>\n",
              "      <th>user_friends</th>\n",
              "      <th>user_favourites</th>\n",
              "      <th>user_verified</th>\n",
              "      <th>date</th>\n",
              "      <th>text</th>\n",
              "      <th>hashtags</th>\n",
              "      <th>source</th>\n",
              "      <th>is_retweet</th>\n",
              "    </tr>\n",
              "  </thead>\n",
              "  <tbody>\n",
              "    <tr>\n",
              "      <th>0</th>\n",
              "      <td>ᏉᎥ☻լꂅϮ</td>\n",
              "      <td>astroworld</td>\n",
              "      <td>wednesday addams as a disney princess keepin i...</td>\n",
              "      <td>2017-05-26 05:46:42</td>\n",
              "      <td>624.0</td>\n",
              "      <td>950.0</td>\n",
              "      <td>18775.0</td>\n",
              "      <td>False</td>\n",
              "      <td>2020-07-25 12:27:21</td>\n",
              "      <td>If I smelled the scent of hand sanitizers toda...</td>\n",
              "      <td>NaN</td>\n",
              "      <td>Twitter for iPhone</td>\n",
              "      <td>False</td>\n",
              "    </tr>\n",
              "    <tr>\n",
              "      <th>1</th>\n",
              "      <td>Tom Basile 🇺🇸</td>\n",
              "      <td>New York, NY</td>\n",
              "      <td>Husband, Father, Columnist &amp; Commentator. Auth...</td>\n",
              "      <td>2009-04-16 20:06:23</td>\n",
              "      <td>2253.0</td>\n",
              "      <td>1677.0</td>\n",
              "      <td>24.0</td>\n",
              "      <td>True</td>\n",
              "      <td>2020-07-25 12:27:17</td>\n",
              "      <td>Hey @Yankees @YankeesPR and @MLB - wouldn't it...</td>\n",
              "      <td>NaN</td>\n",
              "      <td>Twitter for Android</td>\n",
              "      <td>False</td>\n",
              "    </tr>\n",
              "    <tr>\n",
              "      <th>2</th>\n",
              "      <td>Time4fisticuffs</td>\n",
              "      <td>Pewee Valley, KY</td>\n",
              "      <td>#Christian #Catholic #Conservative #Reagan #Re...</td>\n",
              "      <td>2009-02-28 18:57:41</td>\n",
              "      <td>9275.0</td>\n",
              "      <td>9525.0</td>\n",
              "      <td>7254.0</td>\n",
              "      <td>False</td>\n",
              "      <td>2020-07-25 12:27:14</td>\n",
              "      <td>@diane3443 @wdunlap @realDonaldTrump Trump nev...</td>\n",
              "      <td>['COVID19']</td>\n",
              "      <td>Twitter for Android</td>\n",
              "      <td>False</td>\n",
              "    </tr>\n",
              "    <tr>\n",
              "      <th>3</th>\n",
              "      <td>ethel mertz</td>\n",
              "      <td>Stuck in the Middle</td>\n",
              "      <td>#Browns #Indians #ClevelandProud #[]_[] #Cavs ...</td>\n",
              "      <td>2019-03-07 01:45:06</td>\n",
              "      <td>197.0</td>\n",
              "      <td>987.0</td>\n",
              "      <td>1488.0</td>\n",
              "      <td>False</td>\n",
              "      <td>2020-07-25 12:27:10</td>\n",
              "      <td>@brookbanktv The one gift #COVID19 has give me...</td>\n",
              "      <td>['COVID19']</td>\n",
              "      <td>Twitter for iPhone</td>\n",
              "      <td>False</td>\n",
              "    </tr>\n",
              "    <tr>\n",
              "      <th>4</th>\n",
              "      <td>DIPR-J&amp;K</td>\n",
              "      <td>Jammu and Kashmir</td>\n",
              "      <td>🖊️Official Twitter handle of Department of Inf...</td>\n",
              "      <td>2017-02-12 06:45:15</td>\n",
              "      <td>101009.0</td>\n",
              "      <td>168.0</td>\n",
              "      <td>101.0</td>\n",
              "      <td>False</td>\n",
              "      <td>2020-07-25 12:27:08</td>\n",
              "      <td>25 July : Media Bulletin on Novel #CoronaVirus...</td>\n",
              "      <td>['CoronaVirusUpdates', 'COVID19']</td>\n",
              "      <td>Twitter for Android</td>\n",
              "      <td>False</td>\n",
              "    </tr>\n",
              "  </tbody>\n",
              "</table>\n",
              "</div>\n",
              "      <button class=\"colab-df-convert\" onclick=\"convertToInteractive('df-b3f0d961-af62-4f7f-acf4-3bbceb546f25')\"\n",
              "              title=\"Convert this dataframe to an interactive table.\"\n",
              "              style=\"display:none;\">\n",
              "        \n",
              "  <svg xmlns=\"http://www.w3.org/2000/svg\" height=\"24px\"viewBox=\"0 0 24 24\"\n",
              "       width=\"24px\">\n",
              "    <path d=\"M0 0h24v24H0V0z\" fill=\"none\"/>\n",
              "    <path d=\"M18.56 5.44l.94 2.06.94-2.06 2.06-.94-2.06-.94-.94-2.06-.94 2.06-2.06.94zm-11 1L8.5 8.5l.94-2.06 2.06-.94-2.06-.94L8.5 2.5l-.94 2.06-2.06.94zm10 10l.94 2.06.94-2.06 2.06-.94-2.06-.94-.94-2.06-.94 2.06-2.06.94z\"/><path d=\"M17.41 7.96l-1.37-1.37c-.4-.4-.92-.59-1.43-.59-.52 0-1.04.2-1.43.59L10.3 9.45l-7.72 7.72c-.78.78-.78 2.05 0 2.83L4 21.41c.39.39.9.59 1.41.59.51 0 1.02-.2 1.41-.59l7.78-7.78 2.81-2.81c.8-.78.8-2.07 0-2.86zM5.41 20L4 18.59l7.72-7.72 1.47 1.35L5.41 20z\"/>\n",
              "  </svg>\n",
              "      </button>\n",
              "      \n",
              "  <style>\n",
              "    .colab-df-container {\n",
              "      display:flex;\n",
              "      flex-wrap:wrap;\n",
              "      gap: 12px;\n",
              "    }\n",
              "\n",
              "    .colab-df-convert {\n",
              "      background-color: #E8F0FE;\n",
              "      border: none;\n",
              "      border-radius: 50%;\n",
              "      cursor: pointer;\n",
              "      display: none;\n",
              "      fill: #1967D2;\n",
              "      height: 32px;\n",
              "      padding: 0 0 0 0;\n",
              "      width: 32px;\n",
              "    }\n",
              "\n",
              "    .colab-df-convert:hover {\n",
              "      background-color: #E2EBFA;\n",
              "      box-shadow: 0px 1px 2px rgba(60, 64, 67, 0.3), 0px 1px 3px 1px rgba(60, 64, 67, 0.15);\n",
              "      fill: #174EA6;\n",
              "    }\n",
              "\n",
              "    [theme=dark] .colab-df-convert {\n",
              "      background-color: #3B4455;\n",
              "      fill: #D2E3FC;\n",
              "    }\n",
              "\n",
              "    [theme=dark] .colab-df-convert:hover {\n",
              "      background-color: #434B5C;\n",
              "      box-shadow: 0px 1px 3px 1px rgba(0, 0, 0, 0.15);\n",
              "      filter: drop-shadow(0px 1px 2px rgba(0, 0, 0, 0.3));\n",
              "      fill: #FFFFFF;\n",
              "    }\n",
              "  </style>\n",
              "\n",
              "      <script>\n",
              "        const buttonEl =\n",
              "          document.querySelector('#df-b3f0d961-af62-4f7f-acf4-3bbceb546f25 button.colab-df-convert');\n",
              "        buttonEl.style.display =\n",
              "          google.colab.kernel.accessAllowed ? 'block' : 'none';\n",
              "\n",
              "        async function convertToInteractive(key) {\n",
              "          const element = document.querySelector('#df-b3f0d961-af62-4f7f-acf4-3bbceb546f25');\n",
              "          const dataTable =\n",
              "            await google.colab.kernel.invokeFunction('convertToInteractive',\n",
              "                                                     [key], {});\n",
              "          if (!dataTable) return;\n",
              "\n",
              "          const docLinkHtml = 'Like what you see? Visit the ' +\n",
              "            '<a target=\"_blank\" href=https://colab.research.google.com/notebooks/data_table.ipynb>data table notebook</a>'\n",
              "            + ' to learn more about interactive tables.';\n",
              "          element.innerHTML = '';\n",
              "          dataTable['output_type'] = 'display_data';\n",
              "          await google.colab.output.renderOutput(dataTable, element);\n",
              "          const docLink = document.createElement('div');\n",
              "          docLink.innerHTML = docLinkHtml;\n",
              "          element.appendChild(docLink);\n",
              "        }\n",
              "      </script>\n",
              "    </div>\n",
              "  </div>\n",
              "  "
            ],
            "text/plain": [
              "         user_name         user_location  ...               source is_retweet\n",
              "0           ᏉᎥ☻լꂅϮ            astroworld  ...   Twitter for iPhone      False\n",
              "1    Tom Basile 🇺🇸          New York, NY  ...  Twitter for Android      False\n",
              "2  Time4fisticuffs      Pewee Valley, KY  ...  Twitter for Android      False\n",
              "3      ethel mertz  Stuck in the Middle   ...   Twitter for iPhone      False\n",
              "4         DIPR-J&K     Jammu and Kashmir  ...  Twitter for Android      False\n",
              "\n",
              "[5 rows x 13 columns]"
            ]
          },
          "metadata": {},
          "execution_count": 8
        }
      ]
    },
    {
      "cell_type": "code",
      "source": [
        "#check columns\n",
        "df.columns"
      ],
      "metadata": {
        "colab": {
          "base_uri": "https://localhost:8080/"
        },
        "id": "cWdQ76g3XIbk",
        "outputId": "ceb64353-9b75-4baf-8bb7-ddce6e33ff59"
      },
      "execution_count": 9,
      "outputs": [
        {
          "output_type": "execute_result",
          "data": {
            "text/plain": [
              "Index(['user_name', 'user_location', 'user_description', 'user_created',\n",
              "       'user_followers', 'user_friends', 'user_favourites', 'user_verified',\n",
              "       'date', 'text', 'hashtags', 'source', 'is_retweet'],\n",
              "      dtype='object')"
            ]
          },
          "metadata": {},
          "execution_count": 9
        }
      ]
    },
    {
      "cell_type": "code",
      "source": [
        "df.dtypes"
      ],
      "metadata": {
        "colab": {
          "base_uri": "https://localhost:8080/"
        },
        "id": "BPBPAQ8DYUVi",
        "outputId": "72180ece-1855-4095-e5c9-d5028cbe5b6f"
      },
      "execution_count": 10,
      "outputs": [
        {
          "output_type": "execute_result",
          "data": {
            "text/plain": [
              "user_name            object\n",
              "user_location        object\n",
              "user_description     object\n",
              "user_created         object\n",
              "user_followers      float64\n",
              "user_friends        float64\n",
              "user_favourites     float64\n",
              "user_verified        object\n",
              "date                 object\n",
              "text                 object\n",
              "hashtags             object\n",
              "source               object\n",
              "is_retweet           object\n",
              "dtype: object"
            ]
          },
          "metadata": {},
          "execution_count": 10
        }
      ]
    },
    {
      "cell_type": "code",
      "source": [
        "#source/value count/distribution of the source\n",
        "df['source'].unique()"
      ],
      "metadata": {
        "colab": {
          "base_uri": "https://localhost:8080/"
        },
        "id": "1JKty4i4YgbR",
        "outputId": "218b3ebf-4321-435b-a418-249a5c893faf"
      },
      "execution_count": 11,
      "outputs": [
        {
          "output_type": "execute_result",
          "data": {
            "text/plain": [
              "array(['Twitter for iPhone', 'Twitter for Android', 'Twitter Web App',\n",
              "       'Buffer', 'TweetDeck', 'Twitter for iPad', 'Africa Newsroom',\n",
              "       'Blood Donors India', 'TweetCaster for Android',\n",
              "       'Alexander Higgins', 'IFTTT', 'Hootsuite Inc.', 'Sprout Social',\n",
              "       'Sprinklr', 'assarofficial', 'IAMBLOG2TWITTER', 'CrowdControlHQ',\n",
              "       'COVID19-Updates', 'EveryoneSocial', 'Dynamic Signal', 'Instagram',\n",
              "       'TweetCaster for iOS', 'GlobalPandemic.NET', 'Venrap Radio',\n",
              "       'HeyOrca', 'Twitter for Advertisers', 'Paper.li',\n",
              "       'Twitter Media Studio', 'Twitter for Mac', 'dlvr.it',\n",
              "       'Cheap Bots, Done Quick!', 'Prof. Shanku', 'LaterMedia',\n",
              "       'SEMrush Social Media Tool', 'Twitterrific for iOS',\n",
              "       \"Sebastian's Twitter Bot\", 'Threader_client', 'COVID19FactoidBot',\n",
              "       'PwC UK SMART', 'tweet pro stiff', 'UK COVID-19 Alerts',\n",
              "       'Resistbot Open Letters', 'preprint-alert', 'ContentStudio.io',\n",
              "       'Peeping Moon', 'TweetAutomaticos', 'Orlo', 'AgoraPulse Manager',\n",
              "       'Meltwater Social', 'Blog2Social APP',\n",
              "       'Social Genie by Brighter Vision', 'Social Media Publisher App ',\n",
              "       'VoiceToData', 'Hearsay Social', 'Metricool', 'SocialPilot.co',\n",
              "       'Loomly', 'Оwly', 'Facelift-Cloud', 'Khoros', 'Oktopost',\n",
              "       'coronaData_Test', 'SocialOomph', 'SmarterQueue',\n",
              "       'Salesforce - Social Studio', 'Twittimer', 'Dolar Değişti!',\n",
              "       'COVID19 Update', 'LinkedIn', 'Socialbakers',\n",
              "       'Bambu by Sprout Social', 'HubSpot', 'National Herald',\n",
              "       'Twitter Ads', 'twootlk', 'WordPress.com',\n",
              "       'Twitter Media Studio - LiveCut', 'Covid-19 Bot',\n",
              "       'Tweetbot for iΟS', 'Zoho Social', 'Mobile Web (M2)',\n",
              "       'Global Citizen Mobile App', 'whatSaoCarlos', 'Tweetbot for Mac',\n",
              "       'FS Poster', 'rate_twitte', 'corona-recoveries',\n",
              "       'The Social Jukebox', 'ContentCal Studio', 'OneUp App',\n",
              "       'Promo.com', 'TopHashtags', 'autotweet scheduler', 'NepalCorona',\n",
              "       'Khoros Marketing', 'Hocalwire Social Share', 'DataScienceInfo',\n",
              "       'crystalwind.ca', 'SNAP-Homeless Times',\n",
              "       'COVID-19 Information Bot', 'eMartmarket', 'trackingbot2020',\n",
              "       'MeetEdgar', 'Twidere for Android', 'econ b2b post', 'Aleph א ',\n",
              "       'SocialBee.io v2', 'Spreaker', 'ExanteData Robots', 'Mention\\xa0',\n",
              "       'Sked Social', 'Periscope', 'CoronaVirus Bot by Sloth',\n",
              "       'dailyindia', 'Tweet Suite', 'SurveyCircle Team', 'PTI_Tweets',\n",
              "       'Swat.io', 'Restream.io', 'Powered by Sprinklr', 'GT_Backend',\n",
              "       'HN_Comments', '@thedextazlab', 'China Xinhua News', 'ArmeniaITN',\n",
              "       'Crowdfire App', 'Microsoft Power Platform', 'Bitly', 'Echofon',\n",
              "       'Ripl App', 'WPwamnwebsitescript', 'corona_stats',\n",
              "       'CoronaTrackerMY', 'The Tweeted Times', 'Qureet Leads',\n",
              "       'Threat Intel Hub', 'My Khel', 'Falcon Social Media Management ',\n",
              "       'Zapier.com', 'Echobox', 'Scoop.it', 'SocialRabbit Plugin',\n",
              "       'covid19_tracker', 'Cubi.so', 'SocialChamp IO ', 'twittbot.net',\n",
              "       'pixiv: Post to Twitter', 'drumup.io', 'mpsontwitter.co.uk',\n",
              "       'Covid19daily', 'SocialFlow', 'Vattel Tracker Dev',\n",
              "       'Radio.co now playing', 'POST.it - Edit,Share,Rediscover',\n",
              "       'SocialNewsDesk', nan, 'Phone2Action', 'tweeter_biases',\n",
              "       'Heropost', 'rhega.net', 'Nuzzel', 'DR Data', 'Seket Aanru LVLII',\n",
              "       'Grabyo', 'sphere_ja_bot', 'Wildmoka', 'TrackerCV',\n",
              "       \"iContact's Social Tools\", 'Igorotage', 'HWD', 'Mailchimp',\n",
              "       'Sprinklr Publishing', 'Integromat', 'Fabrik.fm',\n",
              "       'Clearview Social, Inc.', 'Friends Me', 'Stuffed Productions',\n",
              "       'Revive Social App', 'Flamingo for Android',\n",
              "       'Microsoft Azure Logic Apps', 'MavSocial App', 'Smarp.',\n",
              "       'UberSocial for Android', 'Missinglettr', 'Canva', 'Talon Android',\n",
              "       'Konnect Social'], dtype=object)"
            ]
          },
          "metadata": {},
          "execution_count": 11
        }
      ]
    }
  ]
}